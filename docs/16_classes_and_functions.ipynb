{
 "cells": [
  {
   "cell_type": "markdown",
   "id": "numerical-blanket",
   "metadata": {},
   "source": [
    "$$\n",
    "\\def\\CC{\\bf C}\n",
    "\\def\\QQ{\\bf Q}\n",
    "\\def\\RR{\\bf R}\n",
    "\\def\\ZZ{\\bf Z}\n",
    "\\def\\NN{\\bf N}\n",
    "$$\n",
    "# 第十六章：类和函数\n",
    "\n",
    "现在我们已经知道如何去定义一个新的类型，下一步就是编写以自定义对象为参数的函数，并返回自定义对象作为结果。在本章中，我还将介绍“函数式编程风格”和两种新的编程开发方案。\n",
    "\n",
    "本章的代码示例可以从 <http://thinkpython2.com/code/Time1.py>\n",
    "下载。练习的答案可以从 <http://thinkpython2.com/code/Time1_soln.py>\n",
    "下载。\n",
    "\n",
    "## 时间\n",
    "\n",
    "再举一个程序员自定义类型的例子，我们定义一个叫 `Time`\n",
    "的类，用于记录时间。 这个类的定义如下："
   ]
  },
  {
   "cell_type": "code",
   "execution_count": null,
   "id": "played-relative",
   "metadata": {},
   "outputs": [],
   "source": [
    "class Time:\n",
    "    \"\"\"Represents the time of day.\n",
    "\n",
    "    attributes: hour, minute, second\n",
    "    \"\"\""
   ]
  },
  {
   "cell_type": "markdown",
   "id": "suited-thinking",
   "metadata": {},
   "source": [
    "我们可以创建一个新的 `Time` 类对象，并且给它的属性 `hour` , `minutes` 和\n",
    "`seconds` 赋值："
   ]
  },
  {
   "cell_type": "code",
   "execution_count": null,
   "id": "voluntary-infection",
   "metadata": {},
   "outputs": [],
   "source": [
    "time = Time()\n",
    "time.hour = 11\n",
    "time.minute = 59\n",
    "time.second = 30"
   ]
  },
  {
   "cell_type": "markdown",
   "id": "strategic-highway",
   "metadata": {},
   "source": [
    "`Time`对象的状态图类似于`fig.time`。\n",
    "\n",
    "我们做个练习，编写一个叫做 `print_time` 的函数，接收一个 `Time`\n",
    "对象并用“时:分:秒”的格式打印它。 提示：格式化序列 `'%.2d'`\n",
    "可以至少两位数的形式打印一个整数，如果不足则在前面补0。\n",
    "\n",
    "编写一个叫做 `is_after` 的布尔函数，接收两个 `Time` 对象，`t1` 和 `t2`\n",
    "，若 `t1` 的时间在 `t2` 之后， 则返回 `True` ，否则返回 `False`\n",
    "。挑战：不要使用 `if` 语句。\n",
    "\n",
    "<div id=\"fig.time\">\n",
    "\n",
    "![图16-1：对象图](figs/time.png)\n",
    "\n",
    "</div>\n",
    "\n",
    "## 纯函数\n",
    "\n",
    "在下面几节中，我们将编写两个用来增加时间值的函数。\n",
    "它们展示了两种不同的函数：纯函数（pure\n",
    "functions）和修改器（modifiers）。 它们也展示了我所称的\n",
    "**原型和补丁（prototype and patch）** 的开发方案。\n",
    "这是一种处理复杂问题的方法，从简单的原型开始，逐步解决复杂情况。\n",
    "\n",
    "下面是一个简单的 `add_time` 原型："
   ]
  },
  {
   "cell_type": "code",
   "execution_count": null,
   "id": "pacific-convergence",
   "metadata": {},
   "outputs": [],
   "source": [
    "def add_time(t1, t2):\n",
    "    sum = Time()\n",
    "    sum.hour = t1.hour + t2.hour\n",
    "    sum.minute = t1.minute + t2.minute\n",
    "    sum.second = t1.second + t2.second\n",
    "    return sum"
   ]
  },
  {
   "cell_type": "markdown",
   "id": "derived-marks",
   "metadata": {},
   "source": [
    "这个函数创建了一个新的 `Time`\n",
    "对象，初始化了对象的属性，并返回了这个对象的引用。 我们把这个函数称为\n",
    "**纯函数（pure\n",
    "function）**，因为它除了返回一个值以外，并不修改作为参数传入的任何对象，\n",
    "也没有产生如显示一个值或者获取用户输入的影响。\n",
    "\n",
    "为了测试这个函数，我将创建两个 `Time` 对象：`start` 用于存放一个电影\n",
    "（如 Monty Python and the Holy Grail）的开始时间，`duration`\n",
    "用于存放电影的放映时长，这里时长定为1小时35分钟。\n",
    "\n",
    "`add_time`将计算电影何时结束。"
   ]
  },
  {
   "cell_type": "code",
   "execution_count": null,
   "id": "european-technician",
   "metadata": {},
   "outputs": [],
   "source": [
    "start = Time()\n",
    "start.hour = 9\n",
    "start.minute = 45\n",
    "start.second =  0"
   ]
  },
  {
   "cell_type": "code",
   "execution_count": null,
   "id": "explicit-boxing",
   "metadata": {},
   "outputs": [],
   "source": [
    "duration = Time()\n",
    "duration.hour = 1\n",
    "duration.minute = 35\n",
    "duration.second = 0"
   ]
  },
  {
   "cell_type": "code",
   "execution_count": null,
   "id": "imposed-belarus",
   "metadata": {},
   "outputs": [
    {
     "data": {
      "text/plain": [
       "10:80:00"
      ]
     },
     "execution_count": null,
     "metadata": {},
     "output_type": "execute_result"
    }
   ],
   "source": [
    "done = add_time(start, duration)\n",
    "print_time(done)"
   ]
  },
  {
   "cell_type": "markdown",
   "id": "everyday-brazilian",
   "metadata": {},
   "source": [
    "这个结果 10:80:00\n",
    "可能不是你所希望得到的。问题在于这个函数并没有处理好秒数和分钟数相加超过60的情况。\n",
    "当发生这种情况时，我们要把多余的秒数放进分钟栏，或者把多余的分钟加进小时栏。\n",
    "\n",
    "下面是一个改进的版本："
   ]
  },
  {
   "cell_type": "code",
   "execution_count": null,
   "id": "extreme-background",
   "metadata": {},
   "outputs": [],
   "source": [
    "def add_time(t1, t2):\n",
    "    sum = Time()\n",
    "    sum.hour = t1.hour + t2.hour\n",
    "    sum.minute = t1.minute + t2.minute\n",
    "    sum.second = t1.second + t2.second\n",
    "\n",
    "    if sum.second >= 60:\n",
    "        sum.second -= 60\n",
    "        sum.minute += 1\n",
    "\n",
    "    if sum.minute >= 60:\n",
    "        sum.minute -= 60\n",
    "        sum.hour += 1\n",
    "\n",
    "    return sum"
   ]
  },
  {
   "cell_type": "markdown",
   "id": "interested-curve",
   "metadata": {},
   "source": [
    "这个函数虽然正确，但是它开始变得臃肿。我们会在后面看到一个较短的版本。\n",
    "\n",
    "## 修改器\n",
    "\n",
    "有时候用函数修改作为参数传入的对象是很有用的。在这种情况下，这种改变对\n",
    "调用者来说是可见的。这种方式工作的函数称为 **修改器（modifiers）**。\n",
    "\n",
    "函数 `increment` 给一个 `Time`\n",
    "对象增加指定的秒数，可以很自然地用修改器来编写。 下面是一个初稿："
   ]
  },
  {
   "cell_type": "code",
   "execution_count": null,
   "id": "selective-sharp",
   "metadata": {},
   "outputs": [],
   "source": [
    "def increment(time, seconds):\n",
    "    time.second += seconds\n",
    "\n",
    "    if time.second >= 60:\n",
    "        time.second -= 60\n",
    "        time.minute += 1\n",
    "\n",
    "    if time.minute >= 60:\n",
    "        time.minute -= 60\n",
    "        time.hour += 1"
   ]
  },
  {
   "cell_type": "markdown",
   "id": "negative-transition",
   "metadata": {},
   "source": [
    "第一行进行基础操作；其余部分的处理则是我们之前看到的特殊情况。\n",
    "\n",
    "这个函数正确吗？如果 `seconds` 比 60 大很多会发生什么？\n",
    "\n",
    "在那种情况下，只进位一次是不够的；我们要重复执行直到 `seconds` 小于\n",
    "60。一种 方法是用 `while` 语句代替 `if`\n",
    "语句。这样能够让函数正确，但是并不是很高效。\n",
    "\n",
    "我们做个练习：编写正确的 `increment` 函数，不能包含任何循环。\n",
    "\n",
    "任何能够用修改器实现的函数同样能够用纯函数实现。事实上，一些编程语言只允许用纯函数。\n",
    "一些证据表明用纯函数实现的程序比用修改器实现的函数开发更快、更不易出错。\n",
    "但是有时候修改器是很方便的，而函数式程序效率反而不高。\n",
    "\n",
    "通常来说，我推荐只要是合理的情况下，都使用纯函数方式编写，只在有完全令人信服的原因下采用修改器。\n",
    "这种方法可以称为 **函数式编程风格（functional programming style）**。\n",
    "\n",
    "我们做个练习，编写一个纯函数版本的 `increment` ，创建并返回一个 `Time`\n",
    "对象，而不是修改参数。\n",
    "\n",
    "## 原型 vs. 方案\n",
    "\n",
    "我刚才展示的开发方案叫做 **原型和补丁（protptype and patch）**。\n",
    "针对每个函数，我编写了一个可以进行基本运算的原型并对其测试，逐步修正错误。\n",
    "\n",
    "这种方法在你对问题没有深入理解时特别有效。但增量修正可能导致代码过度复杂，\n",
    "因为需要处理许多特殊情况。也并不可靠，因为很难知道你是否已经找到了所有的错误。\n",
    "\n",
    "另一种方法叫做 **设计开发(designed development)** 。\n",
    "对问题有高层次的理解能够使开发变得更容易。 这给我们的启示是，`Time`\n",
    "对象本质上是一个基于六十进制的三位数（详见\n",
    "<http://en.wikipedia.org/wiki/Sexagesimal> 。）！\n",
    "属性`second`是“个位”，属性 `minute` 是“六十位”，属性 `hour`\n",
    "是“360位数”。\n",
    "\n",
    "当我们编写 `add_time` 和 `increment` 时，其实是在基于六十进制累加，\n",
    "所以我们需要把一位进位到下一位。\n",
    "\n",
    "这个观察意味着我们可以用另一种方法去解决整个问题——我们可以把 `Time`\n",
    "对象转换为整数， 并利用计算机知道如何进行整数运算的这个事实。\n",
    "\n",
    "下面是一个把 `Time` 对象转成整数的函数： :"
   ]
  },
  {
   "cell_type": "code",
   "execution_count": null,
   "id": "formal-california",
   "metadata": {},
   "outputs": [],
   "source": [
    "def time_to_int(time):\n",
    "    minutes = time.hour * 60 + time.minute\n",
    "    seconds = minutes * 60 + time.second\n",
    "    return seconds"
   ]
  },
  {
   "cell_type": "markdown",
   "id": "traditional-duncan",
   "metadata": {},
   "source": [
    "下面则是一个把整数转换为 `Time` 对象（记得 `divmod`\n",
    "是用第一个参数除以第二个参数并以 元组的形式返回商和余数）。"
   ]
  },
  {
   "cell_type": "code",
   "execution_count": null,
   "id": "ordered-arbor",
   "metadata": {},
   "outputs": [],
   "source": [
    "def int_to_time(seconds):\n",
    "    time = Time()\n",
    "    minutes, time.second = divmod(seconds, 60)\n",
    "    time.hour, time.minute = divmod(minutes, 60)\n",
    "    return time"
   ]
  },
  {
   "cell_type": "markdown",
   "id": "downtown-strap",
   "metadata": {},
   "source": [
    "你可能需要思考一下，并运行一些测试，以此来说服自己这些函数是正确的。\n",
    "一种测试方法是对很多的 `x` 检查 `time_to_int(int_to_time(x)) == x`\n",
    "是否正确。 这是一致性检查的例子。\n",
    "\n",
    "一旦你确信它们是正确的，你就能使用它们重写 `add_time` ："
   ]
  },
  {
   "cell_type": "code",
   "execution_count": null,
   "id": "verified-religion",
   "metadata": {},
   "outputs": [],
   "source": [
    "def add_time(t1, t2):\n",
    "    seconds = time_to_int(t1) + time_to_int(t2)\n",
    "    return int_to_time(seconds)"
   ]
  },
  {
   "cell_type": "markdown",
   "id": "allied-means",
   "metadata": {},
   "source": [
    "这个版本比先前的要更短，更容易校验。我们再做个练习，使用 `time_to_int`\n",
    "和 `int_to_time` 重写 `increment` 函数。\n",
    "\n",
    "从某个方面来说，六十进制和十进制相互转换比处理时间更难些。进制转换更加抽象；\n",
    "我们解决时间值的想法是更好的。\n",
    "\n",
    "但如果我们意识到把时间当作六十进制，并预先做好编写转换函数（\n",
    "`time_to_int` 和 `int_to_time`\n",
    "）的准备，我们就能获得一个更短、更易读、更可靠的程序。\n",
    "\n",
    "这让我们日后更加容易添加其它功能。例如，试想将两个 `Time`\n",
    "对象相减来获得它们之间的时间间隔。\n",
    "最简单的方法是使用借位来实现减法。使用转换函数则更容易，也更容易正确。\n",
    "\n",
    "讽刺的是，有时候把一个问题变得更难（或更加普遍）反而能让它更加简单\n",
    "（因为会有更少的特殊情况和更少出错的机会）。\n",
    "\n",
    "## 调试\n",
    "\n",
    "如果 `minute` 和 `second` 的值介于 0 和 60 之间（包括 0 但不包括 60\n",
    "），并且 `hour` 是正值，那么这个 `Time` 对象就是合法的。`hour` 和\n",
    "`minute` 应该是整数值， 但我们可能也允许 `second`有小数部分。\n",
    "\n",
    "这样的要求称为 **不变式（invariants）**。因为它们应当总是为真。\n",
    "换句话说，如果它们不为真，肯定是某些地方出错了。\n",
    "\n",
    "编写代码来检查不变式能够帮助检测错误并找到出错的原因。\n",
    "例如，你可能会写一个 `valid_time` 这样的函数， 接受一个 `Time`\n",
    "对象，并在违反不变式的条件下返回 `False` ："
   ]
  },
  {
   "cell_type": "code",
   "execution_count": null,
   "id": "robust-repeat",
   "metadata": {},
   "outputs": [],
   "source": [
    "def valid_time(time):\n",
    "    if time.hour < 0 or time.minute < 0 or time.second < 0:\n",
    "        return False\n",
    "    if time.minute >= 60 or time.second >= 60:\n",
    "        return False\n",
    "    return True"
   ]
  },
  {
   "cell_type": "markdown",
   "id": "united-creator",
   "metadata": {},
   "source": [
    "在每个函数的开头，你可以检查参数，确认它们是否合法："
   ]
  },
  {
   "cell_type": "code",
   "execution_count": null,
   "id": "breeding-heavy",
   "metadata": {},
   "outputs": [],
   "source": [
    "def add_time(t1, t2):\n",
    "    if not valid_time(t1) or not valid_time(t2):\n",
    "        raise ValueError('invalid Time object in add_time')\n",
    "    seconds = time_to_int(t1) + time_to_int(t2)\n",
    "    return int_to_time(seconds)"
   ]
  },
  {
   "cell_type": "markdown",
   "id": "varying-venture",
   "metadata": {},
   "source": [
    "或者你可以使用\n",
    "**assert语句**，检查一个给定的不变式并在失败的情况下抛出异常："
   ]
  },
  {
   "cell_type": "code",
   "execution_count": null,
   "id": "bronze-encyclopedia",
   "metadata": {},
   "outputs": [],
   "source": [
    "def add_time(t1, t2):\n",
    "    assert valid_time(t1) and valid_time(t2)\n",
    "    seconds = time_to_int(t1) + time_to_int(t2)\n",
    "    return int_to_time(seconds)"
   ]
  },
  {
   "cell_type": "markdown",
   "id": "material-supervision",
   "metadata": {},
   "source": [
    "`assert`语句非常有用，因为它们区分了处理普通条件的代码和检查错误的代码。\n",
    "\n",
    "## 术语表\n",
    "\n",
    "原型和补丁（prototype and patch）：\n",
    "\n",
    "> 一种开发方案，编写一个程序的初稿，测试，发现错误时修正它们。\n",
    "\n",
    "设计开发（designed development）：\n",
    "\n",
    "> 一种开发方案，需要对问题有更高层次的理解，比增量开发或原型开发更有计划性。\n",
    "\n",
    "纯函数（pure function）：\n",
    "\n",
    "> 一种不修改任何作为参数传入的对象的函数。大部分纯函数是有返回值的（fruitful）。\n",
    "\n",
    "修改器（modifier）：\n",
    "\n",
    "> 一种修改一个或多个作为参数传入的对象的函数。大部分修改器没有返回值；即返回\n",
    "> `None` 。\n",
    "\n",
    "函数式编程风格（functional programming style）：\n",
    "\n",
    "> 一种程序设计风格，大部分函数为纯函数。\n",
    "\n",
    "不变式（invariant）：\n",
    "\n",
    "> 在程序执行过程中总是为真的条件。\n",
    "\n",
    "断言语句（assert statement）：\n",
    "\n",
    "> 一种检查条件是否满足并在失败的情况下抛出异常的语句。\n",
    "\n",
    "## 练习题\n",
    "\n",
    "本章的代码示例可以从 <http://thinkpython2.com/code/Time1.py> 下载；\n",
    "练习的答案可以从 <http://thinkpython2.com/code/Time1_soln.py> 下载。\n",
    "\n",
    "### 习题16-1\n",
    "\n",
    "编写一个叫做 `mul_time` 的函数，接收一个 `Time`\n",
    "对象和一个数，并返回一个新的 `Time` 对象，包含原始时间和数的乘积。\n",
    "\n",
    "然后使用 `mul_time` 编写一个函数，接受一个表示比赛完赛时间的 `Time`\n",
    "对象以及一个表示距离的数字，并返回一个用于表示平均配速（每英里所需时间）的\n",
    "`Time` 对象。\n",
    "\n",
    "### 习题16-2\n",
    "\n",
    "`datetime`模块提供的 `time` 对象，和本章的 `Time`\n",
    "对象类似，但前者提供了更丰富的方法和操作符。可以在\n",
    "<http://docs.python.org/3/library/datetime.html> 阅读相关文档。\n",
    "\n",
    "1.  使用 `datetime` 模块来编写一个程序，获取当前日期并打印当天是周几。\n",
    "2.  编写一个程序，接受一个生日作为输入，并打印用户的年龄以及距离下个生日所需要的天数、小时数、分钟数和秒数。\n",
    "3.  对于两个不在同一天出生的人来说，总有一天，一个人的出生天数是另一个人的两倍。\n",
    "    我们把这一天称为“双倍日”。编写一个程序，接受两个不同的出生日期，并计算他们的“双倍日”。\n",
    "4.  再增加点挑战，编写一个更通用的版本，用于计算一个人出生天数是另一个人\n",
    "    $n$ 倍的日子。\n",
    "\n",
    "答案：<http://thinkpython2.com/code/double.py> 。\n",
    "\n",
    "### **贡献者**\n",
    "\n",
    "1.  翻译：[@cxyfreedom](https://github.com/cxyfreedom)\n",
    "2.  校对：[@bingjin](https://github.com/bingjin)\n",
    "3.  参考：[@carfly](https://github.com/carfly)"
   ]
  }
 ],
 "metadata": {},
 "nbformat": 4,
 "nbformat_minor": 5
}
