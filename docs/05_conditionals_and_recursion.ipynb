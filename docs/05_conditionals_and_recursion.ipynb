{
 "cells": [
  {
   "cell_type": "markdown",
   "id": "aggregate-destination",
   "metadata": {},
   "source": [
    "$$\n",
    "\\def\\CC{\\bf C}\n",
    "\\def\\QQ{\\bf Q}\n",
    "\\def\\RR{\\bf R}\n",
    "\\def\\ZZ{\\bf Z}\n",
    "\\def\\NN{\\bf N}\n",
    "$$\n",
    "# 第五章：条件和递归\n",
    "\n",
    "这章的中心话题是能够根据程序的状态执行不同命令的if语句。但是首先我想介绍两个新的运算符\n",
    ": 地板除（floor division）和求余（modulus）。\n",
    "\n",
    "## 地板除和求余\n",
    "\n",
    "**地板除** 运算符(floor division operator) `//`\n",
    "先做除法，然后将结果保留到整数。例如，如果一部电影时长105\n",
    "分钟，你可能想知道这代表着多少小时。传统的除法操作会返回一个浮点数："
   ]
  },
  {
   "cell_type": "code",
   "execution_count": null,
   "id": "flexible-yacht",
   "metadata": {},
   "outputs": [
    {
     "data": {
      "text/plain": [
       "1.75"
      ]
     },
     "execution_count": null,
     "metadata": {},
     "output_type": "execute_result"
    }
   ],
   "source": [
    "minutes = 105\n",
    "minutes / 60"
   ]
  },
  {
   "cell_type": "markdown",
   "id": "sixth-atlas",
   "metadata": {},
   "source": [
    "但是，用小时做单位的时候，我们通常并不写出小数部分。地板除丢弃除法运算结果的小数部分，返回整数个小时:"
   ]
  },
  {
   "cell_type": "code",
   "execution_count": null,
   "id": "relative-bonus",
   "metadata": {},
   "outputs": [
    {
     "data": {
      "text/plain": [
       "1"
      ]
     },
     "execution_count": null,
     "metadata": {},
     "output_type": "execute_result"
    }
   ],
   "source": [
    "minutes = 105\n",
    "hours = minutes // 60\n",
    "hours"
   ]
  },
  {
   "cell_type": "markdown",
   "id": "arbitrary-bruce",
   "metadata": {},
   "source": [
    "如果你希望得到余数，你可以从除数中减去一个小时也就是60分钟:"
   ]
  },
  {
   "cell_type": "code",
   "execution_count": null,
   "id": "neural-afternoon",
   "metadata": {},
   "outputs": [
    {
     "data": {
      "text/plain": [
       "45"
      ]
     },
     "execution_count": null,
     "metadata": {},
     "output_type": "execute_result"
    }
   ],
   "source": [
    "remainder = minutes - hours * 60\n",
    "remainder"
   ]
  },
  {
   "cell_type": "markdown",
   "id": "ambient-scientist",
   "metadata": {},
   "source": [
    "另一个方法就是使用 **求余运算符(modulus operator)** `%`\n",
    "，它会将两个数相除，返回余数。"
   ]
  },
  {
   "cell_type": "code",
   "execution_count": null,
   "id": "eleven-topic",
   "metadata": {},
   "outputs": [
    {
     "data": {
      "text/plain": [
       "45"
      ]
     },
     "execution_count": null,
     "metadata": {},
     "output_type": "execute_result"
    }
   ],
   "source": [
    "remainder = minutes % 60\n",
    "remainder"
   ]
  },
  {
   "cell_type": "markdown",
   "id": "prescription-forwarding",
   "metadata": {},
   "source": [
    "求余运算符比看起来更加有用。例如，你可以查看一个数是否可以被另一个数整除——如果　`x % y`　的结果是\n",
    "0，那么 x 能被 y　整除。\n",
    "\n",
    "此外，你也能获得一个数的最右边一位或多位的数字。 例如， `x % 10` 返回 x\n",
    "最右边一位的数字（十进制）。 类似地，`x % 100` 返回最后两位数字。\n",
    "\n",
    "如果你正在使用　Python 2, 那么除法就会和前面的介绍有点不同。除法运算符\n",
    "`/`　在被除数和除数都是整数的时候，会进行地板除，但是当被除数和除数中任意一个是浮点数的时候，则进行浮点数除法。(译者注：在\n",
    "Python3 中，无论任何类型都会保持小数部分)\n",
    "\n",
    "## 布尔表达式\n",
    "\n",
    "**布尔表达式（boolean expression）**的结果要么为真要么为假。\n",
    "下面的例子使用 `==` 运算符。它比较两个运算数， 如果它们相等，则结果为\n",
    "`True` ，否则结果为 `False` 。"
   ]
  },
  {
   "cell_type": "code",
   "execution_count": null,
   "id": "traditional-minister",
   "metadata": {},
   "outputs": [
    {
     "data": {
      "text/plain": [
       "True"
      ]
     },
     "execution_count": null,
     "metadata": {},
     "output_type": "execute_result"
    }
   ],
   "source": [
    "5 == 5"
   ]
  },
  {
   "cell_type": "code",
   "execution_count": null,
   "id": "heard-community",
   "metadata": {},
   "outputs": [
    {
     "data": {
      "text/plain": [
       "False"
      ]
     },
     "execution_count": null,
     "metadata": {},
     "output_type": "execute_result"
    }
   ],
   "source": [
    "5 == 6"
   ]
  },
  {
   "cell_type": "markdown",
   "id": "sixth-export",
   "metadata": {},
   "source": [
    "`True` 和 `False` 是属于bool类型的特殊值；它们不是字符串。"
   ]
  },
  {
   "cell_type": "code",
   "execution_count": null,
   "id": "ignored-schema",
   "metadata": {},
   "outputs": [
    {
     "data": {
      "text/plain": [
       "<class 'bool'>"
      ]
     },
     "execution_count": null,
     "metadata": {},
     "output_type": "execute_result"
    }
   ],
   "source": [
    "type(True)"
   ]
  },
  {
   "cell_type": "code",
   "execution_count": null,
   "id": "authentic-translator",
   "metadata": {},
   "outputs": [
    {
     "data": {
      "text/plain": [
       "<class 'bool'>"
      ]
     },
     "execution_count": null,
     "metadata": {},
     "output_type": "execute_result"
    }
   ],
   "source": [
    "type(False)"
   ]
  },
  {
   "cell_type": "markdown",
   "id": "strategic-special",
   "metadata": {},
   "source": [
    "`==` 运算符是**关系运算符（relational operators）**之一；\n",
    "其他关系运算符还有："
   ]
  },
  {
   "cell_type": "code",
   "execution_count": null,
   "id": "skilled-element",
   "metadata": {},
   "outputs": [],
   "source": [
    "x != y               # x 不等于 y\n",
    "x > y                # x 大于 y\n",
    "x < y                # x 小于 y\n",
    "x >= y               # x 大于或等于 y\n",
    "x <= y               # x 小于或等于 y"
   ]
  },
  {
   "cell_type": "markdown",
   "id": "proprietary-press",
   "metadata": {},
   "source": [
    "虽然这些运算符对你来说可能很熟悉，但是Python的符号与数学符号不相同。\n",
    "一个常见的错误是使用单独一个等号（=）而不是双等号（==）。 请记住，`=`\n",
    "是赋值运算符，`==` 是关系运算符。 没有类似 =\\< 或 =\\> 的东西。\n",
    "\n",
    "## 逻辑运算符\n",
    "\n",
    "有三个**逻辑运算符（logical operators）**：`and` 、`or` 和 `not`。\n",
    "这些运算符的含义和它们在英语的意思相似。例如，`x > 0 and x < 10`\n",
    "只在x大于0并且小于10时为真。\n",
    "\n",
    "`n%2 == 0 or n%3 == 0`中如果 **一个或两个**\n",
    "条件为真，那么整个表达式即为真。也就是说，如果数字n能被2或者3整除，则为真。\n",
    "\n",
    "最后，`not` 运算符对一个布尔表达式取反， 因此，如果 `x > y`\n",
    "为假，也就是说x小于或等于y， 则 `not (x > y)` 为真。\n",
    "\n",
    "严格来讲，逻辑运算符的运算数应该是布尔表达式，\n",
    "但是Python并不严格要求。任何非0的数字都被解释成为真（ `True` ）。"
   ]
  },
  {
   "cell_type": "code",
   "execution_count": null,
   "id": "fundamental-yesterday",
   "metadata": {},
   "outputs": [
    {
     "data": {
      "text/plain": [
       "True"
      ]
     },
     "execution_count": null,
     "metadata": {},
     "output_type": "execute_result"
    }
   ],
   "source": [
    "42 and True"
   ]
  },
  {
   "cell_type": "markdown",
   "id": "thick-beach",
   "metadata": {},
   "source": [
    "这种灵活性很有用，但有一些细节可能容易令人困惑。你可能需要避免这种用法（除非你知道你正在做什么）。\n",
    "\n",
    "## 有条件的执行\n",
    "\n",
    "为了写出有用的程序，我们几乎总是需要能够检测条件，并相应地改变程序行为。\n",
    "**条件语句（Conditional statements）**给予了我们这一能力。\n",
    "最简单的形式是 `if` 语句："
   ]
  },
  {
   "cell_type": "code",
   "execution_count": null,
   "id": "identical-event",
   "metadata": {},
   "outputs": [],
   "source": [
    "if x > 0:\n",
    "    print('x is positive')"
   ]
  },
  {
   "cell_type": "markdown",
   "id": "selective-offering",
   "metadata": {},
   "source": [
    "`if` 之后的布尔表达式被称作**条件（condition）**。\n",
    "如果它为真，则缩进的语句会被执行。 如果不是，则什么也不会发生。\n",
    "\n",
    "`if` 语句和函数定义有相同的结构：一个语句头跟着一个缩进的语句体。\n",
    "类似的语句被称作**复合语句（compound statements）**。\n",
    "\n",
    "语句体中可出现的语句数目没有限制，但是至少得有一个。\n",
    "有时候，一条语句都没有的语句体也是有用的（通常是为你还没写的代码占一个位子）。\n",
    "这种情况下，你可以使用 `pass` 语句，它什么也不做。"
   ]
  },
  {
   "cell_type": "code",
   "execution_count": null,
   "id": "centered-timeline",
   "metadata": {},
   "outputs": [],
   "source": [
    "if x < 0:\n",
    "    pass          # 待完成：需要处理负数值！"
   ]
  },
  {
   "cell_type": "markdown",
   "id": "indirect-guide",
   "metadata": {},
   "source": [
    "## 二选一执行\n",
    "\n",
    "`if` 语句的第二种形式是**二选一执行（alternative execution）**，\n",
    "此时有两个可能的选择，由条件决定执行哪一个。 语法看起来是这样："
   ]
  },
  {
   "cell_type": "code",
   "execution_count": null,
   "id": "wanted-moisture",
   "metadata": {},
   "outputs": [],
   "source": [
    "if x % 2 == 0:\n",
    "    print('x is even')\n",
    "else:\n",
    "    print('x is odd')"
   ]
  },
  {
   "cell_type": "markdown",
   "id": "elect-dancing",
   "metadata": {},
   "source": [
    "如果x除以2的余数是0，那么我们知道x是偶数， 然后程序会打印相应的信息。\n",
    "如果条件为假，则执行第二部分语句。\n",
    "由于条件要么为真要么为假，两个选择中只有一个会被执行。\n",
    "这些选择被称作**分支（branches）**，因为它们是执行流程的分支。\n",
    "\n",
    "## 链式条件\n",
    "\n",
    "有时有超过两个可能的情况，于是我们需要多于两个的分支。\n",
    "表示像这样的计算的方法之一是**链式条件（chained conditional）**："
   ]
  },
  {
   "cell_type": "code",
   "execution_count": null,
   "id": "analyzed-tracker",
   "metadata": {},
   "outputs": [],
   "source": [
    "if x < y:\n",
    "    print('x is less than y')\n",
    "elif x > y:\n",
    "    print('x is greater than y')\n",
    "else:\n",
    "    print('x and y are equal')"
   ]
  },
  {
   "cell_type": "markdown",
   "id": "finished-karma",
   "metadata": {},
   "source": [
    "`elif` 是“else if”的缩写。同样地，这里只有一个分支会被执行。 `elif`\n",
    "语句的数目没有限制。如果有一个 `else` 从句，\n",
    "它必须是在最后，但这个语句并不是必须。"
   ]
  },
  {
   "cell_type": "code",
   "execution_count": null,
   "id": "australian-gambling",
   "metadata": {},
   "outputs": [],
   "source": [
    "if choice == 'a':\n",
    "    draw_a()\n",
    "elif choice == 'b':\n",
    "    draw_b()\n",
    "elif choice == 'c':\n",
    "    draw_c()"
   ]
  },
  {
   "cell_type": "markdown",
   "id": "excited-wireless",
   "metadata": {},
   "source": [
    "程序将按顺序逐个检测条件，如果第一个为假，检测下一个，以此类推。\n",
    "如果它们中有一个为真，相应的分支被执行，并且语句结束。\n",
    "即便有不止一个条件为真，也只执行第一个为真的分支。\n",
    "\n",
    "## 嵌套条件\n",
    "\n",
    "一个条件可以嵌到另一个里面。我们可以这样写前一节的例子："
   ]
  },
  {
   "cell_type": "code",
   "execution_count": null,
   "id": "scheduled-spare",
   "metadata": {},
   "outputs": [],
   "source": [
    "if x == y:\n",
    "    print('x and y are equal')\n",
    "else:\n",
    "    if x < y:\n",
    "        print('x is less than y')\n",
    "    else:\n",
    "        print('x is greater than y')"
   ]
  },
  {
   "cell_type": "markdown",
   "id": "lightweight-pixel",
   "metadata": {},
   "source": [
    "外层的条件（outer\n",
    "conditional）包括两个分支。第一个分支包括一条简单的语句。\n",
    "第二个分支又包括一个 `if` 语句，它有自己的两个分支。\n",
    "那两个分支都是简单的语句，当然它们也可以是条件语句。\n",
    "\n",
    "虽然语句的缩进使得结构很明显，但是仍然很难快速地阅读**嵌套条件（nested\n",
    "conditionals）** 。当你可以的时候，避免使用嵌套条件是个好办法。\n",
    "\n",
    "逻辑运算符通常是一个简化嵌套条件语句的方法。\n",
    "例如，我们可以用一个单一条件重写下面的代码："
   ]
  },
  {
   "cell_type": "code",
   "execution_count": null,
   "id": "sixth-black",
   "metadata": {},
   "outputs": [],
   "source": [
    "if 0 < x:\n",
    "    if x < 10:\n",
    "        print('x is a positive single-digit number.')"
   ]
  },
  {
   "cell_type": "markdown",
   "id": "directed-blond",
   "metadata": {},
   "source": [
    "只有我们通过了两个条件检测的时候，print语句才被执行， 因此我们可以用\n",
    "`and` 运算符得到相同的效果："
   ]
  },
  {
   "cell_type": "code",
   "execution_count": null,
   "id": "integral-medline",
   "metadata": {},
   "outputs": [],
   "source": [
    "if 0 < x and x < 10:\n",
    "    print('x is a positive single-digit number.')"
   ]
  },
  {
   "cell_type": "markdown",
   "id": "premier-representative",
   "metadata": {},
   "source": [
    "对于这样的条件，Python 提供了一种更加简洁的写法。"
   ]
  },
  {
   "cell_type": "code",
   "execution_count": null,
   "id": "matched-austria",
   "metadata": {},
   "outputs": [],
   "source": [
    "if 0 < x < 10:\n",
    "    print('x is a positive single-digit number.')"
   ]
  },
  {
   "cell_type": "markdown",
   "id": "religious-furniture",
   "metadata": {},
   "source": [
    "## 递归\n",
    "\n",
    "一个函数调用另一个是合法的；一个函数调用它自己也是合法的。\n",
    "这样的好处可能并不是那么明显，但它实际上成为了程序能做到的最神奇的事情之一。\n",
    "例如，看一下这个程序："
   ]
  },
  {
   "cell_type": "code",
   "execution_count": null,
   "id": "clean-armenia",
   "metadata": {},
   "outputs": [],
   "source": [
    "def countdown(n):\n",
    "    if n <= 0:\n",
    "        print('Blastoff!')\n",
    "    else:\n",
    "        print(n)\n",
    "        countdown(n-1)"
   ]
  },
  {
   "cell_type": "markdown",
   "id": "double-waters",
   "metadata": {},
   "source": [
    "如果n是0或负数，程序输出单词“Blastoff!”。 否则，它输出n然后调用一个名为\n",
    "`countdown` 的函数—即它自己— 传递n-1作为实参。\n",
    "\n",
    "如果我们像这样调用该函数会发生什么呢？"
   ]
  },
  {
   "cell_type": "code",
   "execution_count": null,
   "id": "fuzzy-montgomery",
   "metadata": {},
   "outputs": [],
   "source": [
    "countdown(3)"
   ]
  },
  {
   "cell_type": "markdown",
   "id": "senior-investigation",
   "metadata": {},
   "source": [
    "`countdown`开始以n=3执行，由于n大于0， 它输出值3，然后调用它自己...\n",
    "\n",
    "> `countdown`开始以n=2执行，由于n大于0， 它输出值2，然后调用它自己...\n",
    ">\n",
    "> > `countdown`开始以n=1执行，既然n大于0， 它输出值1，然后调用它自己...\n",
    "> >\n",
    "> > > `countdown`开始以n=0执行，由于n不大于0，\n",
    "> > > 它输出单词“Blastoff!”，然后返回。\n",
    "> >\n",
    "> > 获得n=1的 `countdown` 返回。\n",
    ">\n",
    "> 获得n=2的 `countdown` 返回。\n",
    "\n",
    "获得n=3的 `countdown` 返回。\n",
    "\n",
    "然后你回到`__main__`中。因此整个输出类似于："
   ]
  },
  {
   "cell_type": "code",
   "execution_count": null,
   "id": "mental-membrane",
   "metadata": {},
   "outputs": [],
   "source": [
    "3\n",
    "2\n",
    "1\n",
    "Blastoff!"
   ]
  },
  {
   "cell_type": "markdown",
   "id": "tamil-elements",
   "metadata": {},
   "source": [
    "一个调用它自己的函数是**递归的（recursive）**；\n",
    "这个过程被称作**递归（recursion）**。\n",
    "\n",
    "再举一例，我们可以写一个函数，其打印一个字符串n次。"
   ]
  },
  {
   "cell_type": "code",
   "execution_count": null,
   "id": "threatened-instrumentation",
   "metadata": {},
   "outputs": [],
   "source": [
    "def print_n(s, n):\n",
    "    if n <= 0:\n",
    "        return\n",
    "    print(s)\n",
    "    print_n(s, n-1)"
   ]
  },
  {
   "cell_type": "markdown",
   "id": "viral-method",
   "metadata": {},
   "source": [
    "如果 `n <= 0` ，\\**return语句*\\* 退出函数。\n",
    "执行流程马上返回到调用者，函数剩余的语句行不会被执行。\n",
    "\n",
    "函数的其余部分和 `countdown` 相似： 它打印s的值，然后调用自身打印s\n",
    "$n-1$次。 因此，输出的行数是 `1 + (n - 1)` ，加起来是n。\n",
    "\n",
    "对于像这样简单的例子，使用for循环可能更容易。\n",
    "但是我们后面将看到一些用for循环很难写，用递归却很容易的例子，\n",
    "所以早点儿开始学习递归有好处。\n",
    "\n",
    "## 递归函数的堆栈图\n",
    "\n",
    "在[stackdiagram](stackdiagram.ipynb)一节中，我们用堆栈图表示了一个函数调用期间程序的状态。\n",
    "这种图也能帮我们理解递归函数。\n",
    "\n",
    "每当一个函数被调用时，Python生成一个新的栈帧，用于保存函数的局部变量和形参。\n",
    "对于一个递归函数，在堆栈上可能同时有多个栈帧。\n",
    "\n",
    "`fig.stack2`展示了一个以n = 3调用 `countdown` 的堆栈图。\n",
    "\n",
    "<div id=\"fig.stack2\">\n",
    "\n",
    "![图5-1：堆栈图](figs/stack2.png)\n",
    "\n",
    "</div>\n",
    "\n",
    "通常，堆栈的顶部是`__main__`栈帧。\n",
    "因为我们在`__main__`中没有创建任何变量，也没有传递任何实参给它，\n",
    "所以它是空的。\n",
    "\n",
    "对于形参n，四个 `countdown` 栈帧有不同的值。\n",
    "n=0的栈底，被称作**基础情形（base case）**。\n",
    "它不再进行递归调用了，所以没有更多的栈帧了。\n",
    "\n",
    "接下来练习一下，请画一个以`s = 'Hello'`和 `n=2` 调用`print_n`的堆栈图。\n",
    "写一个名为`do_n`的函数，接受一个函数对象和一个数n作为实参，\n",
    "能够调用指定的函数n次。\n",
    "\n",
    "## 无限递归\n",
    "\n",
    "如果一个递归永不会到达基础情形，它将永远进行递归调用，\n",
    "并且程序永远不会终止。这被称作**无限递归（infinite recursion）**，\n",
    "通常这不是一个好主意。下面是一个最简单的无限递归程序："
   ]
  },
  {
   "cell_type": "code",
   "execution_count": null,
   "id": "experienced-connecticut",
   "metadata": {},
   "outputs": [],
   "source": [
    "def recurse():\n",
    "    recurse()"
   ]
  },
  {
   "cell_type": "markdown",
   "id": "ranging-registrar",
   "metadata": {},
   "source": [
    "在大多数编程环境里，一个具有无限递归的程序并非永远不会终止。\n",
    "当达到最大递归深度时，Python会报告一个错误信息："
   ]
  },
  {
   "cell_type": "code",
   "execution_count": null,
   "id": "touched-poland",
   "metadata": {},
   "outputs": [],
   "source": [
    "File \"<stdin>\", line 2, in recurse\n",
    "File \"<stdin>\", line 2, in recurse\n",
    "File \"<stdin>\", line 2, in recurse\n",
    "                .\n",
    "                .\n",
    "                .\n",
    "File \"<stdin>\", line 2, in recurse\n",
    "RuntimeError: Maximum recursion depth exceeded"
   ]
  },
  {
   "cell_type": "markdown",
   "id": "inner-journalist",
   "metadata": {},
   "source": [
    "此回溯比我们在前面章节看到的长一些。\n",
    "当错误出现的时候，在堆栈上有1000个递归栈帧！\n",
    "\n",
    "如果你不小心遇到了无限递归，检查你的函数，确保基础情形没有继续调用递归。\n",
    "同时如果确实有基础情形，请检查基础情形是不是能够出现这种情形。\n",
    "\n",
    "## 键盘输入\n",
    "\n",
    "到目前为止，我们所写的程序都不接受来自用户的输入。\n",
    "每次它们都只是做相同的事情。\n",
    "\n",
    "Python 提供了一个内建函数 `input` ，可以暂停程序运行，并等待用户输入。\n",
    "当用户按下回车键(Return or\n",
    "Enter)，程序恢复执行，`input`以字符串形式返回用户键入的内容。在Python\n",
    "2中，这个函数的名字叫`raw_input`。"
   ]
  },
  {
   "cell_type": "code",
   "execution_count": null,
   "id": "western-juice",
   "metadata": {},
   "outputs": [
    {
     "data": {
      "text/plain": [
       "What are you waiting for?"
      ]
     },
     "execution_count": null,
     "metadata": {},
     "output_type": "execute_result"
    }
   ],
   "source": [
    "text = input()"
   ]
  },
  {
   "cell_type": "code",
   "execution_count": null,
   "id": "threaded-annex",
   "metadata": {},
   "outputs": [
    {
     "data": {
      "text/plain": [
       "What are you waiting for?"
      ]
     },
     "execution_count": null,
     "metadata": {},
     "output_type": "execute_result"
    }
   ],
   "source": [
    "text"
   ]
  },
  {
   "cell_type": "markdown",
   "id": "juvenile-alfred",
   "metadata": {},
   "source": [
    "在从用户那儿获得输入之前，打印一个提示告诉用户输入什么是个好办法。\n",
    "`input`接受提示语作为实参。"
   ]
  },
  {
   "cell_type": "code",
   "execution_count": null,
   "id": "alien-surname",
   "metadata": {},
   "outputs": [
    {
     "data": {
      "text/plain": [
       "What...is your name?\n",
       "Arthur, King of the Britons!"
      ]
     },
     "execution_count": null,
     "metadata": {},
     "output_type": "execute_result"
    }
   ],
   "source": [
    "name = input('What...is your name?\\n')"
   ]
  },
  {
   "cell_type": "code",
   "execution_count": null,
   "id": "entitled-ancient",
   "metadata": {},
   "outputs": [
    {
     "data": {
      "text/plain": [
       "Arthur, King of the Britons!"
      ]
     },
     "execution_count": null,
     "metadata": {},
     "output_type": "execute_result"
    }
   ],
   "source": [
    "name"
   ]
  },
  {
   "cell_type": "markdown",
   "id": "alike-gregory",
   "metadata": {},
   "source": [
    "提示语最后的`\\n`表示一个**新行（newline）**，\n",
    "它是一个特别的字符，会造成换行。\n",
    "这也是用户的输入出现在提示语下面的原因。\n",
    "\n",
    "如果你期望用户键入一个整型数，那么你可以试着将返回值转化为 `int` ："
   ]
  },
  {
   "cell_type": "code",
   "execution_count": null,
   "id": "secure-guarantee",
   "metadata": {},
   "outputs": [
    {
     "data": {
      "text/plain": [
       "What...is the airspeed velocity of an unladen swallow?\n",
       "42"
      ]
     },
     "execution_count": null,
     "metadata": {},
     "output_type": "execute_result"
    }
   ],
   "source": [
    "prompt = 'What...is the airspeed velocity of an unladen swallow?\\n'\n",
    "speed = input(prompt)"
   ]
  },
  {
   "cell_type": "code",
   "execution_count": null,
   "id": "intended-tissue",
   "metadata": {},
   "outputs": [
    {
     "data": {
      "text/plain": [
       "42"
      ]
     },
     "execution_count": null,
     "metadata": {},
     "output_type": "execute_result"
    }
   ],
   "source": [
    "int(speed)"
   ]
  },
  {
   "cell_type": "markdown",
   "id": "metallic-photography",
   "metadata": {},
   "source": [
    "但是，如果用户输入不是数字构成的字符串，你会获得一个错误："
   ]
  },
  {
   "cell_type": "code",
   "execution_count": null,
   "id": "broad-surgeon",
   "metadata": {},
   "outputs": [
    {
     "data": {
      "text/plain": [
       "What...is the airspeed velocity of an unladen swallow?\n",
       "What do you mean, an African or a European swallow?"
      ]
     },
     "execution_count": null,
     "metadata": {},
     "output_type": "execute_result"
    }
   ],
   "source": [
    "speed = input(prompt)"
   ]
  },
  {
   "cell_type": "code",
   "execution_count": null,
   "id": "taken-farming",
   "metadata": {},
   "outputs": [
    {
     "data": {
      "text/plain": [
       "ValueError: invalid literal for int() with base 10"
      ]
     },
     "execution_count": null,
     "metadata": {},
     "output_type": "execute_result"
    }
   ],
   "source": [
    "int(speed)"
   ]
  },
  {
   "cell_type": "markdown",
   "id": "configured-iraqi",
   "metadata": {},
   "source": [
    "我们后面将介绍处理这类错误的方法。\n",
    "\n",
    "## 调试\n",
    "\n",
    "当出现语法错误和运行时错误的时候，错误信息中会包含了很多的信息，但是信息量有可能太大。通常，最有用的部分是：\n",
    "\n",
    "-   是哪类错误，以及\n",
    "-   在哪儿出现。\n",
    "\n",
    "语法错误通常很容易被找到，但也有一些需要注意的地方。\n",
    "空白分隔符错误很棘手，因为空格和制表符是不可见的，而且我们习惯于忽略它们。"
   ]
  },
  {
   "cell_type": "code",
   "execution_count": null,
   "id": "neither-jurisdiction",
   "metadata": {},
   "outputs": [
    {
     "data": {
      "text/plain": [
       "  File \"<stdin>\", line 1\n",
       "    y = 6\n",
       "    ^\n",
       "IndentationError: unexpected indent"
      ]
     },
     "execution_count": null,
     "metadata": {},
     "output_type": "execute_result"
    }
   ],
   "source": [
    "x = 5\n",
    " y = 6"
   ]
  },
  {
   "cell_type": "markdown",
   "id": "intended-redhead",
   "metadata": {},
   "source": [
    "在这个例子中，问题在于第二行缩进了一个空格。\n",
    "但是错误信息指向y，这是个误导。 通常，错误信息指向发现错误的地方，\n",
    "但是实际的错误可能发生在代码中更早的地方， 有时在前一行。\n",
    "\n",
    "运行时错误也同样存在这个问题。假设你正试图计算分贝信噪比。\n",
    "公式是$SNR_{db} = 10 \\log_{10} (P_{signal} / P_{noise})$。\n",
    "在Python中，你可能会写出这样的代码："
   ]
  },
  {
   "cell_type": "code",
   "execution_count": null,
   "id": "julian-witch",
   "metadata": {},
   "outputs": [],
   "source": [
    "import math\n",
    "signal_power = 9\n",
    "noise_power = 10\n",
    "ratio = signal_power // noise_power\n",
    "decibels = 10 * math.log10(ratio)\n",
    "print(decibels)"
   ]
  },
  {
   "cell_type": "markdown",
   "id": "bottom-culture",
   "metadata": {},
   "source": [
    "但是，当你运行它的时候， 你却获得一个异常。"
   ]
  },
  {
   "cell_type": "code",
   "execution_count": null,
   "id": "complicated-reserve",
   "metadata": {},
   "outputs": [],
   "source": [
    "Traceback (most recent call last):\n",
    "  File \"snr.py\", line 5, in ?\n",
    "    decibels = 10 * math.log10(ratio)\n",
    "ValueError: math domain error"
   ]
  },
  {
   "cell_type": "markdown",
   "id": "fatal-assurance",
   "metadata": {},
   "source": [
    "该错误信息指向第5行，但是那一行没什么错误。 为了找到真正的错误，打印\n",
    "`ratio` 的值也许会有用，结果发现它实际上是0。\n",
    "那么问题是在第4行，使用了地板除而不是浮点数除法。\n",
    "\n",
    "你应该花些时间仔细阅读错误信息，但是不要轻易地认为错误信息的提示都是准确的。\n",
    "\n",
    "## 术语表\n",
    "\n",
    "地板除:\n",
    "\n",
    "> 一个操作符,用 // 表示，表示对两个数做除法同时向0取整。\n",
    "\n",
    "求余运算符:\n",
    "\n",
    "> 一个运算符，用百分号 % 表示，返回两个数相除的余数\n",
    "\n",
    "布尔表达式:\n",
    "\n",
    "> 一个值要么为真要么为假的表达式。\n",
    "\n",
    "关系运算符:\n",
    "\n",
    "> 对其运算符进行比较的运算符： ==，!=，\\>，\\<，\\>=，\\<=。\n",
    "\n",
    "逻辑运算符:\n",
    "\n",
    "> 将布尔表达式组合在一起的运算符: and，or，和 not。\n",
    "\n",
    "条件语句:\n",
    "\n",
    "> 一段根据某个条件决定程序执行流程的语句。\n",
    "\n",
    "条件:\n",
    "\n",
    "> 决定哪个分支会被执行的布尔表达式\n",
    "\n",
    "复合语句:\n",
    "\n",
    "> 由语句头和语句体组成的语句。语句头以 : 结尾，语句体相对语句头缩进。\n",
    "\n",
    "分支:\n",
    "\n",
    "> 条件语句中的选择性语句序列。\n",
    "\n",
    "链式条件:\n",
    "\n",
    "> 由一系列替代分支组成的条件语句。\n",
    "\n",
    "嵌套条件:\n",
    "\n",
    "> 出现另一个条件语句某个分支中的条件语句。\n",
    "\n",
    "返回语句：  \n",
    "结束函数执行并且将结果返回给调用者的语句。\n",
    "\n",
    "递归:\n",
    "\n",
    "> 调用正在执行的函数本身的过程。\n",
    "\n",
    "基本情形:\n",
    "\n",
    "> 在递归函数中，不进行递归调用的条件分支。\n",
    "\n",
    "无限递归:\n",
    "\n",
    "> 没有基本情形或者无法出现基本情形的递归函数。最终无限递归会导致运行时错误。\n",
    "\n",
    "## 练习题\n",
    "\n",
    "### 习题 5-1\n",
    "\n",
    "`time`\n",
    "模块提供了一个可以返回当前格林威治标准时间的函数，名字也是time。这里的格林威治标准时间用纪元(the\n",
    "epoch)以来的秒数表示， 纪元是一个任意的参考点。在 Unix\n",
    "系统中，纪元是1970年1月1号。"
   ]
  },
  {
   "cell_type": "code",
   "execution_count": null,
   "id": "treated-morning",
   "metadata": {},
   "outputs": [
    {
     "data": {
      "text/plain": [
       "1437746094.5735958"
      ]
     },
     "execution_count": null,
     "metadata": {},
     "output_type": "execute_result"
    }
   ],
   "source": [
    "import time\n",
    "time.time()"
   ]
  },
  {
   "cell_type": "markdown",
   "id": "front-hawaiian",
   "metadata": {},
   "source": [
    "请写一个脚本读取当前时间，并且将其转换为纪元以来经过了多少天、小时、分钟和秒。\n",
    "\n",
    "### 习题 5-2\n",
    "\n",
    "费马大定理（Fermat’s Last Theorem\n",
    "）称，没有任何整型数$a$、$b$和$c$能够使\n",
    "\n",
    "$$a^n + b^n = c^n$$\n",
    "\n",
    "对于任何大于2的$n$成立。\n",
    "\n",
    "1.  写一个名为`check_fermat`的函数，接受四个形参——a，b，c以及n\n",
    "    ——检查费马大定理是否成立。 如果$n$大于2且等式"
   ]
  },
  {
   "cell_type": "markdown",
   "id": "promotional-infrastructure",
   "metadata": {},
   "source": [
    "\n",
    "    $$a^n + b^n = c^n$$\n",
    "\n",
    "    成立，程序应输出“Holy smokes, Fermat was wrong!”。\n",
    "    否则程序应输出“No, that doesn’t work.”。\n"
   ]
  },
  {
   "cell_type": "markdown",
   "id": "canadian-quilt",
   "metadata": {},
   "source": [
    "2.  写一个函数提示用户输入a，b，c以及n的值，将它们转换成整型数，\n",
    "    然后使用`check_fermat`检查他们是否会违反了费马大定理。\n",
    "\n",
    "### 习题 5-3\n",
    "\n",
    "如果你有三根棍子，你有可能将它们组成三角形，也可能不行。\n",
    "比如，如果一根棍子是12英寸长，其它两根都是1英寸长，显然\n",
    "你不可能让两根短的在中间接合。对于任意三个长度，有一个简单的测试\n",
    "能验证它们能否组成三角形：\n",
    "\n",
    "> 如果三个长度中的任意一个超过了其它二者之和，就不能组成三角形。否则，可以组成。（如果两个长度之和等于第三个，它们就组成所谓“退化的”三角形。）\n",
    "\n",
    "1.  写一个名为`is_triangle`的函数，其接受三个整数作为形参，\n",
    "    能够根据给定的三个长度的棍子能否构成三角形来打印“Yes”或“No”。\n",
    "2.  写一个函数，提示用户输入三根棍子的长度，将它们转换成整型数，然后使用\n",
    "    `is_triangle`检查给定长度的棍子能否构成三角形。\n",
    "\n",
    "### 习题 5-4\n",
    "\n",
    "下面程序的输出是什么？画出展示程序每次打印输出时的堆栈图。"
   ]
  },
  {
   "cell_type": "code",
   "execution_count": null,
   "id": "massive-irish",
   "metadata": {},
   "outputs": [],
   "source": [
    "def recurse(n, s):\n",
    "    if n == 0:\n",
    "        print(s)\n",
    "    else:\n",
    "        recurse(n-1, n+s)\n",
    "\n",
    "recurse(3, 0)"
   ]
  },
  {
   "cell_type": "markdown",
   "id": "swedish-complexity",
   "metadata": {},
   "source": [
    "1.  如果你这样调用函数： `recurse(-1,0)` ，会有什么结果？\n",
    "2.  请写一个文档字符串，解释调用该函数时需要了解的全部信息（仅此而已）。\n",
    "\n",
    "### 习题 5-５\n",
    "\n",
    "后面的习题要用到第四章中的Turtle：\n",
    "\n",
    "阅读如下的函数，看看你能否看懂它是做什么的。然后运行它（见第四章的例子）。"
   ]
  },
  {
   "cell_type": "code",
   "execution_count": null,
   "id": "labeled-float",
   "metadata": {},
   "outputs": [],
   "source": [
    "def draw(t, length, n):\n",
    "    if n == 0:\n",
    "        return\n",
    "    angle = 50\n",
    "    fd(t, length*n)\n",
    "    lt(t, angle)\n",
    "    draw(t, length, n-1)\n",
    "    rt(t, 2*angle)\n",
    "    draw(t, length, n-1)\n",
    "    lt(t, angle)\n",
    "    bk(t, length*n)"
   ]
  },
  {
   "cell_type": "markdown",
   "id": "devoted-vehicle",
   "metadata": {},
   "source": [
    "### 习题 5-６\n",
    "\n",
    "![图5-2：科赫曲线（Koch Curve）。](figs/koch.png)\n",
    "\n",
    "科赫曲线（Koch\n",
    "Curve）是一个看起来类似图5-2的不规则碎片几何体（fractal）。要画一个长度为$x$的科赫曲线，你只需要：\n",
    "\n",
    "1.  画一个长度为$x/3$的科赫曲线。\n",
    "2.  左转60度。\n",
    "3.  画一个长度为$x/3$的科赫曲线。\n",
    "4.  右转120度。\n",
    "5.  画一个长度为$x/3$的科赫曲线。\n",
    "6.  左转60度。\n",
    "7.  画一个长度为$x/3$的科赫曲线。\n",
    "\n",
    "例外情况是$x$小于3的情形：此时，你只需要 画一道长度为$x$的直线。\n",
    "\n",
    "1.  写一个名为 `koch` 的函数，接受一个海龟和一个长度作为形参，然后\n",
    "    使用海龟画一条给定长度的科赫曲线。\n",
    "\n",
    "2.  写一个名为 `snowflake` 的函数，画出三条科赫曲线，构成雪花的轮廓。"
   ]
  },
  {
   "cell_type": "markdown",
   "id": "smart-thousand",
   "metadata": {},
   "source": [
    "\n",
    "    答案：<http://thinkpython.com/code/koch.py> 。\n"
   ]
  },
  {
   "cell_type": "markdown",
   "id": "treated-split",
   "metadata": {},
   "source": [
    "3.  科赫曲线能够以多种方式泛化。\n",
    "    点击<http://en.wikipedia.org/wiki/Koch_snowflake>\n",
    "    查看例子，并实现你最喜欢的那种方式。\n",
    "\n",
    "### **贡献者**\n",
    "\n",
    "1.  翻译：[@iphyer](https://github.com/iphyer)\n",
    "2.  校对：[@bingjin](https://github.com/bingjin)\n",
    "3.  参考：[@carfly](https://github.com/carfly)"
   ]
  }
 ],
 "metadata": {},
 "nbformat": 4,
 "nbformat_minor": 5
}
