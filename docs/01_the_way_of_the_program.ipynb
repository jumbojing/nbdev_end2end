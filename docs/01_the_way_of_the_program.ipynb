{
 "cells": [
  {
   "cell_type": "markdown",
   "id": "dense-latter",
   "metadata": {},
   "source": [
    "$$\n",
    "\\def\\CC{\\bf C}\n",
    "\\def\\QQ{\\bf Q}\n",
    "\\def\\RR{\\bf R}\n",
    "\\def\\ZZ{\\bf Z}\n",
    "\\def\\NN{\\bf N}\n",
    "$$\n",
    "# 第一章：程序之道\n",
    "\n",
    "本书的目标是教你像计算机科学家一样思考。这一思考方式集成了数学、工程以及自然科学的一些最好的特点。像数学家一样，计算机科学家使用形式语言表示思想（具体来说是计算）。像工程师一样，计算机科学家设计东西，将零件组成系统，在各种选择之间寻求平衡。像科学家一样，计算机科学家观察复杂系统的行为，形成假设并且对预测进行检验。\n",
    "\n",
    "对于计算机科学家，最重要的技能是 **解决问题的能力** 。解决问题（problem\n",
    "solving）意味着对问题进行形式化，寻求创新型的解决方案，并且清晰、准确地表达解决方案的能力。事实证明，学习编程的过程是锻炼问题解决能力的一个绝佳机会。这就是为什么本章被称为“程序之道”。\n",
    "\n",
    "一方面，你将学习如何编程，这本身就是一个有用的技能。另一方面，你将把编程作为实现自己目的的手段。随着学习的深入，你会更清楚自己的目的。\n",
    "\n",
    "## 什么是程序？\n",
    "\n",
    "**程序**\n",
    "是一系列说明如何执行计算（computation）的指令。计算可以是数学上的计算，例如寻找公式的解或多项式的根，也可以是一个符号计算（symbolic\n",
    "computation），例如在文档中搜索并替换文本或者图片，就像处理图片或播放视频。\n",
    "\n",
    "不同编程语言中，程序的具体细节也不一样，但是有一些基本的指令几乎出现在每种语言当中：\n",
    "\n",
    "*输入（input）：*\n",
    "\n",
    "> 从键盘、文件、网络或者其他设备获取数据。\n",
    "\n",
    "*输出（output）：*\n",
    "\n",
    "> 在屏幕上显示数据，将数据保存至文件，通过网络传送数据，等等。\n",
    "\n",
    "*数学（math）：*\n",
    "\n",
    "> 执行基本的数学运算，如加法和乘法。\n",
    "\n",
    "*有条件执行（conditional execution）：*\n",
    "\n",
    "> 检查符合某个条件后，执行相应的代码。\n",
    "\n",
    "*重复（repetition）：*\n",
    "\n",
    "> 重复执行某个动作，通常会有一些变化。\n",
    "\n",
    "无论你是否相信，这几乎是程序的全部指令了。每个你曾经用过的程序，无论多么复杂，都是由跟这些差不多的指令构成的。因此，你可以认为编程就是将庞大、复杂的任务分解为越来越小的子任务，直到这些子任务简单到可以用这其中的一个基本指令执行。\n",
    "\n",
    "## 运行Python\n",
    "\n",
    "Python入门的一个障碍，是你可能需要在电脑上安装Python和相关软件。如果你熟悉电脑的操作系统，特别是如果你能熟练使用命令行（command-line\n",
    "interface），安装Python对你来说就不是问题了。但是对于初学者，同时学习系统管理（system\n",
    "administration）和编程这两方面的知识是件痛苦的事。\n",
    "\n",
    "为了避免这个问题，我建议你首先在浏览器中运行Python。等你对Python更加了解之后，我会建议你在电脑上安装Python。\n",
    "\n",
    "网络上有许多网页可以让你运行Python。如果你已经有最喜欢的网站，那就打开网页运行Python吧。如果没有，我推荐PythonAnywhere。我在\n",
    "<http://tinyurl.com/thinkpython2e> 给出了详细的使用指南。\n",
    "\n",
    "目前Python有两个版本，分别是Python 2和Python\n",
    "3。二者十分相似，因此如果你学过某个版本，可以很容易地切换到另一个版本。事实上，作为初学者，你只会接触到很少数的不同之处。本书采用的是Python\n",
    "3，但是我会加入一些关于Python 2的说明。\n",
    "\n",
    "Python的 **解释器**\n",
    "是一个读取并执行Python代码的程序。根据你的电脑环境不同，你可以通过双击图标，或者在命令行输入`python`的方式来启动解释器。解释器启动后，你应该看到类似下面的输出："
   ]
  },
  {
   "cell_type": "code",
   "execution_count": null,
   "id": "extra-estimate",
   "metadata": {},
   "outputs": [],
   "source": [
    "Python 3.4.0 (default, Jun 19 2015, 14:20:21)\n",
    "[GCC 4.8.2] on linux\n",
    "Type \"help\", \"copyright\", \"credits\" or \"license\" for more information.\n",
    ">>>"
   ]
  },
  {
   "cell_type": "markdown",
   "id": "comparative-birth",
   "metadata": {},
   "source": [
    "前三行中包含了关于解释器及其运行的操作系统的信息，因此你看到的内容可能不一样。但是你应该检查下版本号是否以3开头，上面示例中的版本号是3.4.0。如果以3开头，那说明你正在运行Python\n",
    "3。如果以2开头，那说明你正在运行（你猜对了）Python 2。\n",
    "\n",
    "最后一行是一个提示符（prompt），表明你可以在解释器中输入代码了。如果你输入一行代码然后按回车（Enter），解释器就会显示结果："
   ]
  },
  {
   "cell_type": "code",
   "execution_count": null,
   "id": "comfortable-kernel",
   "metadata": {},
   "outputs": [
    {
     "data": {
      "text/plain": [
       "2"
      ]
     },
     "execution_count": null,
     "metadata": {},
     "output_type": "execute_result"
    }
   ],
   "source": [
    "1 + 1"
   ]
  },
  {
   "cell_type": "markdown",
   "id": "random-grove",
   "metadata": {},
   "source": [
    "现在你已经做好了开始学习的准备。接下来，我将默认你已经知道如何启动Python解释器和执行代码。\n",
    "\n",
    "## 第一个程序\n",
    "\n",
    "根据传统，你用一门新语言写的第一个程序叫做“Hello,\n",
    "World!”，因为它的功能只不过是显示单词“Hello,\n",
    "World!”。在Python中，它看起来是这样："
   ]
  },
  {
   "cell_type": "code",
   "execution_count": null,
   "id": "loose-sitting",
   "metadata": {},
   "outputs": [],
   "source": [
    "print('Hello, World!')"
   ]
  },
  {
   "cell_type": "markdown",
   "id": "palestinian-canadian",
   "metadata": {},
   "source": [
    "这是一个 `print`\n",
    "函数的示例，尽管它并不会真的在纸上打印。它将结果显示在屏幕上。在此例中，结果是单词："
   ]
  },
  {
   "cell_type": "code",
   "execution_count": null,
   "id": "south-criminal",
   "metadata": {},
   "outputs": [],
   "source": [
    "Hello, World!"
   ]
  },
  {
   "cell_type": "markdown",
   "id": "organized-proposal",
   "metadata": {},
   "source": [
    "程序中的单引号标记了被打印文本的首尾；它们不会出现在结果中。\n",
    "\n",
    "括号说明 `print` 是一个函数。我们将在第三章介绍函数。在Python 2中，\n",
    "print是一个语句；不是函数，所以不需要使用括号。"
   ]
  },
  {
   "cell_type": "code",
   "execution_count": null,
   "id": "encouraging-superior",
   "metadata": {},
   "outputs": [],
   "source": [
    "print 'Hello, World!'"
   ]
  },
  {
   "cell_type": "markdown",
   "id": "optical-mother",
   "metadata": {},
   "source": [
    "很快你就会明白二者之间的区别，现在知道这些就足够了。\n",
    "\n",
    "> 译者注：Python核心开发者Brett Cannon详细解释了 [为什么print在Python\n",
    "> 3中变成了函数](http://codingpy.com/article/why-print-became-a-function-in-python-3/)。\n",
    "\n",
    "## 算术运算符\n",
    "\n",
    "接下来介绍算术。Python提供了许多代表加法和乘法等运算的特殊符号，叫做\n",
    "**运算符** （operators）。\n",
    "\n",
    "运算符 `+` 、`-` 和 `*` 分别执行加法、减法和乘法，详见以下示例："
   ]
  },
  {
   "cell_type": "code",
   "execution_count": null,
   "id": "appreciated-squad",
   "metadata": {},
   "outputs": [
    {
     "data": {
      "text/plain": [
       "42"
      ]
     },
     "execution_count": null,
     "metadata": {},
     "output_type": "execute_result"
    }
   ],
   "source": [
    "40 + 2"
   ]
  },
  {
   "cell_type": "code",
   "execution_count": null,
   "id": "conservative-highway",
   "metadata": {},
   "outputs": [
    {
     "data": {
      "text/plain": [
       "42"
      ]
     },
     "execution_count": null,
     "metadata": {},
     "output_type": "execute_result"
    }
   ],
   "source": [
    "43 - 1"
   ]
  },
  {
   "cell_type": "code",
   "execution_count": null,
   "id": "italic-receipt",
   "metadata": {},
   "outputs": [
    {
     "data": {
      "text/plain": [
       "42"
      ]
     },
     "execution_count": null,
     "metadata": {},
     "output_type": "execute_result"
    }
   ],
   "source": [
    "6 * 7"
   ]
  },
  {
   "cell_type": "markdown",
   "id": "distinguished-developer",
   "metadata": {},
   "source": [
    "运算符 `/` 执行除法运算："
   ]
  },
  {
   "cell_type": "code",
   "execution_count": null,
   "id": "suitable-residence",
   "metadata": {},
   "outputs": [
    {
     "data": {
      "text/plain": [
       "42.0"
      ]
     },
     "execution_count": null,
     "metadata": {},
     "output_type": "execute_result"
    }
   ],
   "source": [
    "84 / 2"
   ]
  },
  {
   "cell_type": "markdown",
   "id": "normal-psychiatry",
   "metadata": {},
   "source": [
    "你可能会问，为什么结果是42.0，而不是42。在下节中，我会进行解释。\n",
    "\n",
    "最后，运算符 `*`\n",
    "执行乘方运算；也就是说，它将某个数字乘以自身相应的次数："
   ]
  },
  {
   "cell_type": "code",
   "execution_count": null,
   "id": "herbal-reading",
   "metadata": {},
   "outputs": [
    {
     "data": {
      "text/plain": [
       "42"
      ]
     },
     "execution_count": null,
     "metadata": {},
     "output_type": "execute_result"
    }
   ],
   "source": [
    "6**2 + 6"
   ]
  },
  {
   "cell_type": "markdown",
   "id": "naughty-clothing",
   "metadata": {},
   "source": [
    "某些语言使用 `^`\n",
    "运算符执行乘方运算，但是在Python中，它却属于一种位运算符，叫做XOR。如果你对位运算符不太了解，那么下面的结果会让你感到惊讶："
   ]
  },
  {
   "cell_type": "code",
   "execution_count": null,
   "id": "impressive-jumping",
   "metadata": {},
   "outputs": [
    {
     "data": {
      "text/plain": [
       "4"
      ]
     },
     "execution_count": null,
     "metadata": {},
     "output_type": "execute_result"
    }
   ],
   "source": [
    "6 ^ 2"
   ]
  },
  {
   "cell_type": "markdown",
   "id": "artistic-honey",
   "metadata": {},
   "source": [
    "我不打算在本书中介绍位运算符，但是你可以阅读\n",
    "[Python官方百科](http://wiki.python.org/moin/BitwiseOperators)\n",
    "，了解相关内容。\n",
    "\n",
    "## 值和类型\n",
    "\n",
    "**值（value）**\n",
    "是程序处理的基本数据之一，比如说一个单词或一个数字。我们目前已经接触到的值有：2，42.0，和\n",
    "`'Hello World!'` 。\n",
    "\n",
    "这些值又属于不同的 **类型（types）** ：2是一个\n",
    "**整型数（integer）**，42.0 是一个 **浮点数（floating point\n",
    "number）**，而 `'Hello, World!'` 则是一个\n",
    "**字符串（string）**，之所以这么叫是因为其中的字符被串在了一起（strung\n",
    "together）。\n",
    "\n",
    "如果你不确定某个值的类型是什么，解释器可以告诉你："
   ]
  },
  {
   "cell_type": "code",
   "execution_count": null,
   "id": "particular-cincinnati",
   "metadata": {},
   "outputs": [
    {
     "data": {
      "text/plain": [
       "<class 'int'>"
      ]
     },
     "execution_count": null,
     "metadata": {},
     "output_type": "execute_result"
    }
   ],
   "source": [
    "type(2)"
   ]
  },
  {
   "cell_type": "code",
   "execution_count": null,
   "id": "outdoor-criminal",
   "metadata": {},
   "outputs": [
    {
     "data": {
      "text/plain": [
       "<class 'float'>"
      ]
     },
     "execution_count": null,
     "metadata": {},
     "output_type": "execute_result"
    }
   ],
   "source": [
    "type(42.0)"
   ]
  },
  {
   "cell_type": "code",
   "execution_count": null,
   "id": "humanitarian-karma",
   "metadata": {},
   "outputs": [
    {
     "data": {
      "text/plain": [
       "<class 'str'>"
      ]
     },
     "execution_count": null,
     "metadata": {},
     "output_type": "execute_result"
    }
   ],
   "source": [
    "type('Hello, World!')"
   ]
  },
  {
   "cell_type": "markdown",
   "id": "comprehensive-edition",
   "metadata": {},
   "source": [
    "“class”一词在上面的输出结果中，是类别的意思；一个类型就是一个类别的值。\n",
    "\n",
    "不出意料，整型数属于 `int` 类型，字符串属于 `str` 类型，浮点数属于\n",
    "`float` 类型。\n",
    "\n",
    "那么像 `'2'` 和 `'42.0'`\n",
    "这样的值呢？它们看上去像数字，但是又和字符串一样被引号括在了一起？"
   ]
  },
  {
   "cell_type": "code",
   "execution_count": null,
   "id": "prescription-tours",
   "metadata": {},
   "outputs": [
    {
     "data": {
      "text/plain": [
       "<class 'str'>"
      ]
     },
     "execution_count": null,
     "metadata": {},
     "output_type": "execute_result"
    }
   ],
   "source": [
    "type('2')"
   ]
  },
  {
   "cell_type": "code",
   "execution_count": null,
   "id": "early-citation",
   "metadata": {},
   "outputs": [
    {
     "data": {
      "text/plain": [
       "<class 'str'>"
      ]
     },
     "execution_count": null,
     "metadata": {},
     "output_type": "execute_result"
    }
   ],
   "source": [
    "type('42.0')"
   ]
  },
  {
   "cell_type": "markdown",
   "id": "moving-poetry",
   "metadata": {},
   "source": [
    "它们其实是字符串。\n",
    "\n",
    "当你输入一个大数值的整型数时，你可能会想用逗号进行区分，比如说像这样：1,000,000。在Python中，这不是一个合法的\n",
    "*整型数*，但却是合法的值。"
   ]
  },
  {
   "cell_type": "code",
   "execution_count": null,
   "id": "geological-result",
   "metadata": {},
   "outputs": [
    {
     "data": {
      "text/plain": [
       "(1, 0, 0)"
      ]
     },
     "execution_count": null,
     "metadata": {},
     "output_type": "execute_result"
    }
   ],
   "source": [
    "1,000,000"
   ]
  },
  {
   "cell_type": "markdown",
   "id": "broad-adult",
   "metadata": {},
   "source": [
    "结果和我们预料的完全不同！Python把1,000,000当作成了一个以逗号区分的整型数序列。在后面的章节中，我们会介绍更多有关这种序列的知识。\n",
    "\n",
    "## 形式语言和自然语言\n",
    "\n",
    "**自然语言（natural language）**\n",
    "是人们交流所使用的语言，例如英语、西班牙语和法语。它们不是人为设计出来的（尽管有人试图这样做）；而是自然演变而来。\n",
    "\n",
    "**形式语言（formal\n",
    "languages）**是人类为了特殊用途而设计出来的。例如，数学家使用的记号（notation）就是形式语言，特别擅长表示数字和符号之间的关系。化学家使用形式语言表示分子的化学结构。\n",
    "最重要的是：\n",
    "\n",
    "> **编程语言是被设计用于表达计算的形式语言。**\n",
    "\n",
    "形式语言通常拥有严格的 **语法**\n",
    "规则，规定了详细的语句结构。例如，$3 + 3 = 6$是语法正确的数学表达式，而$3 + = 3 \\$ 6$则不是；$H_2O$是语法正确的化学式，而$_2Zz$则不是。\n",
    "\n",
    "语法规则有两种类型，分别涉及**记号（tokens）**和结构。记号是语言的基本元素，例如单词、数字和化学元素。\n",
    "$3 + = 3 \\$ 6$这个式子的问题之一，就是 \\$ 在数学中不是一个合法的记号\n",
    "（至少据我所知）。类似的，$_2Zz$ 也不合法，因为没有一个元素的简写是\n",
    "$Zz$。\n",
    "\n",
    "第二种语法规则与标记的组合方式有关。$3 + = 3$这个方程是非法的，因为即使$+$和$=$都是合法的记号，但是你却不能把它们俩紧挨在一起。类似的，在化学式中，下标位于元素之后，而不是之前。\n",
    "\n",
    "This is @ well-structured Engli\\$h sentence with invalid t\\*kens in it.\n",
    "This sentence all valid tokens has, but invalid structure with.\n",
    "\n",
    "> 译者注：上面两句英文都是不符合语法的，一个包含非法标记，另一个结构不符合语法。\n",
    "\n",
    "当你读一个用英语写的句子或者用形式语言写的语句时，你都必须要理清各自的结构（尽管在阅读自然语言时，你是下意识地进行的）。这个过程被称为\n",
    "**解析（parsing）**。\n",
    "\n",
    "虽然形式语言和自然语言有很多共同点——标记、结构和语法，它们也有一些不同：\n",
    "\n",
    "*歧义性*：\n",
    "\n",
    "> 自然语言充满歧义，人们使用上下文线索以及其它信息处理这些歧义。形式语言被设计成几乎或者完全没有歧义，这意味着不管上下文是什么，任何语句都只有一个意义。\n",
    "\n",
    "*冗余性*：\n",
    "\n",
    "> 为了弥补歧义性并减少误解，自然语言使用很多冗余。结果，自然语言经常很冗长。形式语言则冗余较少，更简洁。\n",
    "\n",
    "*字面性*：\n",
    "\n",
    "> 自然语言充满成语和隐喻。如果我说“The penny\n",
    "> dropped”，可能根本没有便士、也没什么东西掉下来（这个成语的意思是，经过一段时间的困惑后终于理解某事）。形式语言的含义，与它们字面的意思完全一致。\n",
    "\n",
    "由于我们都是说着自然语言长大的，我们有时候很难适应形式语言。形式语言与自然语言之间的不同，类似诗歌与散文之间的差异，而且更加明显：\n",
    "\n",
    "*诗歌*：\n",
    "\n",
    "> 单词的含义和声音都有作用，\n",
    "> 整首诗作为一个整理，会对人产生影响，或是引发情感上的共鸣。\n",
    "> 歧义不但常见，而且经常是故意为之。\n",
    "\n",
    "*散文*：\n",
    "\n",
    "> 单词表面的含义更重要，句子结构背后的寓意更深。\n",
    "> 散文比诗歌更适合分析，但仍然经常有歧义。\n",
    "\n",
    "*程序*：\n",
    "\n",
    "> 计算机程序的含义是无歧义、无引申义的，\n",
    "> 通过分析程序的标记和结构，即可完全理解。\n",
    "\n",
    "形式语言要比自然语言更加稠密，因此阅读起来花的时间会更长。另外，形式语言的结构也很重要，所以从上往下、从左往右阅读，并不总是最好的策略。相反，你得学会在脑海里分析一个程序，识别不同的标记并理解其结构。最后，注重细节。拼写和标点方面的小错误在自然语言中无伤大雅，但是在形式语言中却会产生很大的影响。\n",
    "\n",
    "## 调试\n",
    "\n",
    "程序员都会犯错。由于比较奇怪的原因，编程错误被称为\n",
    "**故障（译者注：英文为bug，一般指虫子）**，追踪错误的过程被称为\n",
    "**调试（debugging）**。\n",
    "\n",
    "编程，尤其是调试，有时会让人动情绪。如果你有个很难的bug解决不了，你可能会感到愤怒、忧郁抑或是丢人。\n",
    "\n",
    "有证据表明，人们很自然地把计算机当人来对待。当计算机表现好的时候，我们认为它们是队友，而当它们固执或无礼的时候，我们也会像对待固执或无礼人的一样对待它们（Reeves\n",
    "and Nass, *The Media Equation: How People Treat Computers, Television,\n",
    "and New Media Like Real People and Places*）。\n",
    "\n",
    "对这些反应做好准备有助于你对付它们。\n",
    "一种方法是将计算机看做是一个雇员，拥有特定的长处，\n",
    "例如速度和精度，也有些特别的缺点，像缺乏沟通以及不善于把握大局。\n",
    "\n",
    "你的工作是当一个好的管理者：找到充分利用优点、摒弃弱点的方法。\n",
    "并且找到使用你的情感来解决问题的方法，\n",
    "而不是让你的情绪干扰你有效工作的能力。\n",
    "\n",
    "学习调试可能很令人泄气，\n",
    "但是它对于许多编程之外的活动也是一个非常有价值的技能。\n",
    "在每一章的结尾，我都会花一节内容介绍一些调试建议，比如说这一节。希望能帮到你！\n",
    "\n",
    "## 术语表\n",
    "\n",
    "*解决问题*：\n",
    "\n",
    "> 将问题形式化、寻找并表达解决方案的过程。\n",
    "\n",
    "*高级语言（high-level language）*：\n",
    "\n",
    "> 像Python这样被设计成人类容易阅读和编写的编程语言。\n",
    "\n",
    "*低级语言(low-level language)*：\n",
    "\n",
    "> 被设计成计算机容易运行的编程语言；也被称为“机器语言”或“汇编语言（assembly\n",
    "> language）”。\n",
    "\n",
    "*可移植性*：\n",
    "\n",
    "> 程序能够在多种计算机上运行的特性。\n",
    "\n",
    "*解释器*：\n",
    "\n",
    "> 读取另一个程序并执行该程序的程序。\n",
    "\n",
    "*提示符*：\n",
    "\n",
    "> 解释器所显示的字符，表明已准备好接受用户的输入。\n",
    "\n",
    "*程序*：\n",
    "\n",
    "> 说明一个计算的一组指令。\n",
    "\n",
    "*打印语句*：\n",
    "\n",
    "> 使Python解释器在屏幕上显示某个值的指令。\n",
    "\n",
    "*运算符*：\n",
    "\n",
    "> 代表类似加法、乘法或者字符串连接（string\n",
    "> concatenation）等简单计算的特殊符号。\n",
    "\n",
    "*值*：\n",
    "\n",
    "> 程序所处理数据的基本元素之一，例如数字或字符串。\n",
    "\n",
    "*类型*：\n",
    "\n",
    "> 值的类别。我们目前接触的类型有整型数（类型为 `int`）、浮点数（类型为\n",
    "> `float` ）和字符串（类型为 `str` ）\n",
    "\n",
    "*整型数*：\n",
    "\n",
    "> 代表整数的类型。\n",
    "\n",
    "*浮点数*：\n",
    "\n",
    "> 代表一个有小数点的数字的类型。\n",
    "\n",
    "*字符串*：\n",
    "\n",
    "> 代表一系列字符的类型。\n",
    "\n",
    "*自然语言*：\n",
    "\n",
    "> 任意一种人们日常使用的、自然演变而来的语言。\n",
    "\n",
    "*形式语言*：\n",
    "\n",
    "> 任意一种人类为了某种目的而设计的语言，例如用来表示数学概念或者电脑程序；所有的编程语言都是形式语言。\n",
    "\n",
    "*记号*：\n",
    "\n",
    "> 程序语法结构中的基本元素之一，与自然语言中的单词类似。\n",
    "\n",
    "*语法*：\n",
    "\n",
    "> 规定了程序结构的规则。\n",
    "\n",
    "*解析*：\n",
    "\n",
    "> 阅读程序，并分析其语法结构的过程\n",
    "\n",
    "*故障*：\n",
    "\n",
    "> 程序中的错误。\n",
    "\n",
    "*调试*：\n",
    "\n",
    "> 寻找并解决错误的过程。\n",
    "\n",
    "## 练习题\n",
    "\n",
    "### 习题 1-1\n",
    "\n",
    "你最好在电脑前阅读此书，因为你可以随时测试书中的示例。\n",
    "\n",
    "每当你试验一个新特性的时候，你应该试着去犯错。举个例子，在“Hello,\n",
    "World!”程序中，如果你漏掉一个引号会发生什么情况？如果你去掉两个引号呢？如果你把print写错了呢？\n",
    "\n",
    "这类试验能帮助你记忆读过的内容；对你平时编程也有帮助，因为你可以了解不同的错误信息代表的意思。现在故意犯错误，总胜过以后不小心犯错。\n",
    "\n",
    "1.  在打印语句中，如果你去掉一个或两个括号，会发生什么？\n",
    "2.  你想打印一个字符串，如果你去掉一个或两个引号，会发生什么？\n",
    "3.  你可以使用减号创建一个负数，如-2。如果你在一个数字前再加上个加号，会发生什么？2++2会得出什么结果？\n",
    "4.  在数学标记中，前导零（leading\n",
    "    zeros）没有问题，如02。如果我们在Python中这样做，会发生什么？\n",
    "5.  如果两个值之间没有运算符，又会发生什么？\n",
    "\n",
    "### 习题 1-2\n",
    "\n",
    "启动Python解释器，把它当计算器使用。\n",
    "\n",
    "1.  42分42秒一共有多少秒？\n",
    "\n",
    "2.  10公里可以换算成多少英里？提示：一英里等于1.61公里。\n",
    "\n",
    "3.  如果你花42分42秒跑完了10公里，你的平均配速（pace）是多少（每英里耗时，分别精确到分和秒）？你每小时平均跑了多少英里（英里/时）？"
   ]
  },
  {
   "cell_type": "markdown",
   "id": "progressive-indication",
   "metadata": {},
   "source": [
    "\n",
    "    > 译者注：配速（pace）是在马拉松运动的训练中常使用的一个概念，配速是速度的一种，是每公里所需要的时间。配速=时间/距离。\n"
   ]
  },
  {
   "cell_type": "markdown",
   "id": "material-hacker",
   "metadata": {},
   "source": [
    "**贡献者**\n",
    "\n",
    "1.  翻译：[@bingjin](https://github.com/bingjin)\n",
    "2.  校对：[@bingjin](https://github.com/bingjin)\n",
    "3.  参考：[@carfly](https://github.com/carfly)"
   ]
  }
 ],
 "metadata": {},
 "nbformat": 4,
 "nbformat_minor": 5
}
