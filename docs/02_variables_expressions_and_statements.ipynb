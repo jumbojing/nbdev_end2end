{
 "cells": [
  {
   "cell_type": "markdown",
   "id": "invalid-andrew",
   "metadata": {},
   "source": [
    "$$\n",
    "\\def\\CC{\\bf C}\n",
    "\\def\\QQ{\\bf Q}\n",
    "\\def\\RR{\\bf R}\n",
    "\\def\\ZZ{\\bf Z}\n",
    "\\def\\NN{\\bf N}\n",
    "$$\n",
    "# 第二章：变量、表达式和语句\n",
    "\n",
    "编程语言最强大的特性之一，是操作**变量**的能力。变量是指向某个值的名称。\n",
    "\n",
    "## 赋值语句\n",
    "\n",
    "**赋值语句（assignment statement）**会新建变量，并为这个变量赋值。"
   ]
  },
  {
   "cell_type": "code",
   "execution_count": null,
   "id": "after-raise",
   "metadata": {},
   "outputs": [],
   "source": [
    "message = 'And now for something completely different'\n",
    "n = 17\n",
    "pi = 3.141592653589793"
   ]
  },
  {
   "cell_type": "markdown",
   "id": "packed-sound",
   "metadata": {},
   "source": [
    "这个例子进行了三次赋值。 第一次将一个字符串赋给一个叫message的新变量；\n",
    "第二次将整型数17赋给n； 第三次将$\\pi$的（近似）值赋给pi。\n",
    "\n",
    "在纸上表示变量的一个常见方法，是写下变量名，并用箭头指向变量的值。\n",
    "这种图被称为**状态图（state\n",
    "diagram）**，因为它展示了每个变量所处的状态（可以把其看成是变量的心理状态）。\n",
    "图2-1展示了前面例子的结果。\n",
    "\n",
    "![图2-1：状态图。](figs/state2.png)\n",
    "\n",
    "## 变量名\n",
    "\n",
    "程序员通常为变量选择有意义的名字—它们可以记录该变量的用途。\n",
    "\n",
    "变量名可以任意长。它们可以包括字母和数字，但是不能以数字开头。\n",
    "使用大写字母是合法的，但是根据惯例，变量名只使用小写字母。\n",
    "\n",
    "下划线`_`可以出现在变量名中。\n",
    "它经常用于有多个单词的变量名，例如`my_name`或者`airspeed_of_unladen_swallow`。\n",
    "\n",
    "如果你给了变量一个非法的名称，解释器将抛出一个语法错误："
   ]
  },
  {
   "cell_type": "code",
   "execution_count": null,
   "id": "prospective-disorder",
   "metadata": {},
   "outputs": [
    {
     "data": {
      "text/plain": [
       "SyntaxError: invalid syntax"
      ]
     },
     "execution_count": null,
     "metadata": {},
     "output_type": "execute_result"
    }
   ],
   "source": [
    "76trombones = 'big parade'"
   ]
  },
  {
   "cell_type": "code",
   "execution_count": null,
   "id": "reflected-tucson",
   "metadata": {},
   "outputs": [
    {
     "data": {
      "text/plain": [
       "SyntaxError: invalid syntax"
      ]
     },
     "execution_count": null,
     "metadata": {},
     "output_type": "execute_result"
    }
   ],
   "source": [
    "more@ = 1000000"
   ]
  },
  {
   "cell_type": "code",
   "execution_count": null,
   "id": "short-alcohol",
   "metadata": {},
   "outputs": [
    {
     "data": {
      "text/plain": [
       "SyntaxError: invalid syntax"
      ]
     },
     "execution_count": null,
     "metadata": {},
     "output_type": "execute_result"
    }
   ],
   "source": [
    "class = 'Advanced Theoretical Zymurgy'"
   ]
  },
  {
   "cell_type": "markdown",
   "id": "intimate-absolute",
   "metadata": {},
   "source": [
    "76trombones是非法的，因为它以数字开头。more@是非法的，因为它包含了一个非法字符@。\n",
    "但是，class错在哪儿了呢?\n",
    "\n",
    "原来，class是Python的**关键字（keywords）**之一。\n",
    "解释器使用关键字识别程序的结构，它们不能被用作变量名。\n",
    "\n",
    "Python 3有以下关键词："
   ]
  },
  {
   "cell_type": "code",
   "execution_count": null,
   "id": "incomplete-butter",
   "metadata": {},
   "outputs": [],
   "source": [
    "False      class      finally    is         return\n",
    "None       continue   for        lambda     try\n",
    "True       def        from       nonlocal   while\n",
    "and        del        global     not        with\n",
    "as         elif       if         or         yield\n",
    "assert     else       import     pass\n",
    "break      except     in         raise"
   ]
  },
  {
   "cell_type": "markdown",
   "id": "studied-express",
   "metadata": {},
   "source": [
    "你没有必要背诵上面的关键词。大部分的开发环境会用不同的颜色区别显示关键词；如果你不小心使用关键词作为变量名，你肯定会发现的。\n",
    "\n",
    "## 表达式和语句\n",
    "\n",
    "**表达式（expression）**是值、变量和运算符的组合。\n",
    "值自身也被认为是一个表达式，变量也是，因此下面都是合法的表达式："
   ]
  },
  {
   "cell_type": "code",
   "execution_count": null,
   "id": "attached-hometown",
   "metadata": {},
   "outputs": [
    {
     "data": {
      "text/plain": [
       "42"
      ]
     },
     "execution_count": null,
     "metadata": {},
     "output_type": "execute_result"
    }
   ],
   "source": [
    "42"
   ]
  },
  {
   "cell_type": "code",
   "execution_count": null,
   "id": "corrected-reggae",
   "metadata": {},
   "outputs": [
    {
     "data": {
      "text/plain": [
       "17"
      ]
     },
     "execution_count": null,
     "metadata": {},
     "output_type": "execute_result"
    }
   ],
   "source": [
    "n"
   ]
  },
  {
   "cell_type": "code",
   "execution_count": null,
   "id": "embedded-breach",
   "metadata": {},
   "outputs": [
    {
     "data": {
      "text/plain": [
       "42"
      ]
     },
     "execution_count": null,
     "metadata": {},
     "output_type": "execute_result"
    }
   ],
   "source": [
    "n + 25"
   ]
  },
  {
   "cell_type": "markdown",
   "id": "atomic-extension",
   "metadata": {},
   "source": [
    "当你在提示符后输入表达式时，解释器会\\*\\*\n",
    "计算（evaluate）\\*\\*该表达式，这就意味着解释器会求它的值。在上面的例子中，n的值是17，n\n",
    "+ 25的值是42。\n",
    "\n",
    "**语句（statement）**是一个会产生影响的代码单元，例如新建一个变量或显示某个值。"
   ]
  },
  {
   "cell_type": "code",
   "execution_count": null,
   "id": "optical-constraint",
   "metadata": {},
   "outputs": [],
   "source": [
    "n = 17\n",
    "print(n)"
   ]
  },
  {
   "cell_type": "markdown",
   "id": "connected-amino",
   "metadata": {},
   "source": [
    "第一行是一个赋值语句，将某个值赋给了n。第二行是一个打印语句，在屏幕上显示n的值。\n",
    "\n",
    "当你输入一个语句后，解释器会**执行（execute）**这个语句，即按照语句的指令完成操作。一般来说，语句是没有值的。\n",
    "\n",
    "## 脚本模式\n",
    "\n",
    "到目前为止，我们都是在**交互模式（interactive\n",
    "mode）**下运行Python，即直接与解释器进行交互。交互模式对学习入门很有帮助，但是如果你需要编写很多行代码，使用交互模式就不太方便了。\n",
    "\n",
    "另一种方法是将代码保存到一个被称为**脚本（script）**的文件里，然后以**脚本模式（script\n",
    "mode）**运行解释器并执行脚本。按照惯例，Python脚本文件名的后缀是.py。\n",
    "\n",
    "如果你知道如何在本地电脑新建并运行脚本，那你可以开始编码了。否则的话，我再次建议使用PythonAnywhere。我在\n",
    "<http://tinyurl.com/thinkpython2e>\n",
    "上贴出了如何以脚本模式运行解释器的指南。\n",
    "\n",
    "由于Python支持这两种模式，在将代码写入脚本之前，你可以在交互模式下对代码片段进行测试。不过，交互模式和脚本模式之间存在一些差异，可能会让你感到疑惑。\n",
    "\n",
    "举个例子，如果你把Python当计算器使用，你可能会输入下面这样的代码："
   ]
  },
  {
   "cell_type": "code",
   "execution_count": null,
   "id": "continuing-summary",
   "metadata": {},
   "outputs": [
    {
     "data": {
      "text/plain": [
       "42.182"
      ]
     },
     "execution_count": null,
     "metadata": {},
     "output_type": "execute_result"
    }
   ],
   "source": [
    "miles = 26.2\n",
    "miles * 1.61"
   ]
  },
  {
   "cell_type": "markdown",
   "id": "laden-contents",
   "metadata": {},
   "source": [
    "第一行将一个值赋给miles，但是并没有产生可见的效果。\n",
    "第二行是一个表达式，因此解释器计算它并将结果显示出来。\n",
    "结果告诉我们，一段马拉松大概是42公里。\n",
    "\n",
    "但是如果你将相同的代码键入一个脚本并且运行它，你得不到任何输出。\n",
    "在脚本模式下，表达式自身不会产生可见的效果。虽然Python实际上计算了表达式，但是如果你不告诉它要显示结果，它是不会那么做的。"
   ]
  },
  {
   "cell_type": "code",
   "execution_count": null,
   "id": "fewer-christian",
   "metadata": {},
   "outputs": [],
   "source": [
    "miles = 26.2\n",
    "print(miles * 1.61)"
   ]
  },
  {
   "cell_type": "markdown",
   "id": "educated-debut",
   "metadata": {},
   "source": [
    "这个行为开始可能有些令人费解。\n",
    "\n",
    "一个脚本通常包括一系列语句。\n",
    "如果有多于一条的语句，那么随着语句逐个执行，解释器会逐一显示计算结果。\n",
    "\n",
    "例如，以下脚本"
   ]
  },
  {
   "cell_type": "code",
   "execution_count": null,
   "id": "offensive-accountability",
   "metadata": {},
   "outputs": [],
   "source": [
    "print(1)\n",
    "x = 2\n",
    "print(x)"
   ]
  },
  {
   "cell_type": "markdown",
   "id": "functioning-burning",
   "metadata": {},
   "source": [
    "产生的输出结果是"
   ]
  },
  {
   "cell_type": "code",
   "execution_count": null,
   "id": "promising-guyana",
   "metadata": {},
   "outputs": [],
   "source": [
    "1\n",
    "2"
   ]
  },
  {
   "cell_type": "markdown",
   "id": "exclusive-precipitation",
   "metadata": {},
   "source": [
    "赋值语句不产生输出。\n",
    "\n",
    "在Python解释器中键入以下的语句，看看他们的结果是否符合你的理解："
   ]
  },
  {
   "cell_type": "code",
   "execution_count": null,
   "id": "adjacent-payment",
   "metadata": {},
   "outputs": [],
   "source": [
    "5\n",
    "x = 5\n",
    "x + 1"
   ]
  },
  {
   "cell_type": "markdown",
   "id": "respective-angle",
   "metadata": {},
   "source": [
    "现在将同样的语句写入一个脚本中并执行它。输出结果是什么？\n",
    "修改脚本，将每个表达式变成打印语句，再次运行它。\n",
    "\n",
    "## 运算顺序\n",
    "\n",
    "当一个表达式中有多于一个运算符时，计算的顺序由**运算顺序（order of\n",
    "operations）**决定。 对于算数运算符，Python遵循数学里的惯例。\n",
    "缩写**PEMDAS**有助于帮助大家记住这些规则：\n",
    "\n",
    "-   括号（**P**arentheses）具有最高的优先级，并且可以强制表达式按你希望的顺序计算。\n",
    "    因为在括号中的表达式首先被计算，那么2 \\*\n",
    "    (3-1)的结果是4，(1+1)\\*\\*(5-2)的结果是8。\n",
    "    你也可以用括号提高表达式的可读性，如写成(minute \\* 100) /\n",
    "    60，即使这样并不改变运算的结果。\n",
    "-   指数运算（**E**xponentiation）具有次高的优先级，因此1 +\n",
    "    2\\*\\*3的结果是9而非27， 2 \\* 3\\*\\*2的结果是18而非36。\n",
    "-   乘法（**M**ultiplication）和除法（**D**ivision）有相同的优先级，\n",
    "    比加法（**A**ddition）和减法（**S**ubtraction）高，加法和减法也具有相同的优先级。\n",
    "    因此2\\*3-1是5而非4，6+4/2是8而非5。\n",
    "-   具有相同优先级的运算符按照从左到右的顺序进行计算（除了指数运算）。\n",
    "    因此表达式degrees / 2 \\* pi中，除法先运算，然后结果被乘以pi。\n",
    "    为了被$2 \\pi$除，你可以使用括号，或者写成degrees / 2 / pi。\n",
    "\n",
    "我不会费力去记住这些运算符的优先级规则。如果看完表达式后分不出优先级，我会使用括号使计算顺序变得更明显。\n",
    "\n",
    "## 字符串运算\n",
    "\n",
    "一般来讲，你不能对字符串执行数学运算，即使字符串看起来很像数字，\n",
    "因此下面这些表达式是非法的："
   ]
  },
  {
   "cell_type": "code",
   "execution_count": null,
   "id": "chubby-privacy",
   "metadata": {},
   "outputs": [],
   "source": [
    "'2'-'1'    'eggs'/'easy'    'third'*'a charm'"
   ]
  },
  {
   "cell_type": "markdown",
   "id": "closing-small",
   "metadata": {},
   "source": [
    "但有两个例外，+ 和 \\*。\n",
    "\n",
    "加号运算符 + 可用于 **字符串拼接（string\n",
    "concatenation）**，也就是将字符串首尾相连起来。例如："
   ]
  },
  {
   "cell_type": "code",
   "execution_count": null,
   "id": "formed-trademark",
   "metadata": {},
   "outputs": [
    {
     "data": {
      "text/plain": [
       "throatwarbler"
      ]
     },
     "execution_count": null,
     "metadata": {},
     "output_type": "execute_result"
    }
   ],
   "source": [
    "first = 'throat'\n",
    "second = 'warbler'\n",
    "first + second"
   ]
  },
  {
   "cell_type": "markdown",
   "id": "demonstrated-converter",
   "metadata": {},
   "source": [
    "乘法运算符\\* 也可应用于字符串；它执行重复运算。\n",
    "例如，`'Spam'*3`的结果是`'SpamSpamSpam'`。\n",
    "如果其中一个运算数是字符串，则另外一个必须是整型数。\n",
    "\n",
    "+和\\*的这个用法，类比加法和乘法也讲得通。 就像4\\*3与4+4+4等价一样，\n",
    "我们也会期望`'Spam'*3`和`'Spam'+'Spam'+'Spam'`等价，而事实上的确如此。\n",
    "另一方面，字符串拼接和重复与整数的加法和乘法也有很大的不同。\n",
    "你能想出来一个加法具有而字符串拼接不具有的特性么？\n",
    "\n",
    "## 注释\n",
    "\n",
    "随着程序变得越来越大，越来越复杂，它们的可读性也越来越差。\n",
    "形式语言是稠密的，通常很难在读一段代码后，说出其做什么或者为什么这样做。\n",
    "\n",
    "因此，在你的程序中用自然语言做笔记，解释程序做什么通常是比较好的办法。\n",
    "这些标注被称为**注释（comments）**，以`#`符号开始。"
   ]
  },
  {
   "cell_type": "code",
   "execution_count": null,
   "id": "confidential-intranet",
   "metadata": {},
   "outputs": [],
   "source": [
    "# 计算逝去的时间占一小时的比例\n",
    "percentage = (minute * 100) / 60"
   ]
  },
  {
   "cell_type": "markdown",
   "id": "distinct-interaction",
   "metadata": {},
   "source": [
    "此例中，注释独立一行。你也可以将注释放在行尾："
   ]
  },
  {
   "cell_type": "code",
   "execution_count": null,
   "id": "opening-assistant",
   "metadata": {},
   "outputs": [],
   "source": [
    "percentage = (minute * 100) / 60     # 逝去时间占一小时的比例"
   ]
  },
  {
   "cell_type": "markdown",
   "id": "matched-composition",
   "metadata": {},
   "source": [
    "从\\#开始到行尾的所有内容都会被解释器忽略—其对程序执行没有影响。\n",
    "\n",
    "在注释中记录代码不明显的特征，是最有帮助的。\n",
    "假设读者能够读懂代码做了*什么*是合理的；\n",
    "但是解释代码*为什么*这么做则更有用。\n",
    "\n",
    "下面这个注释只是重复了代码，没有什么用："
   ]
  },
  {
   "cell_type": "code",
   "execution_count": null,
   "id": "found-conviction",
   "metadata": {},
   "outputs": [],
   "source": [
    "v = 5     # 将5赋值给v"
   ]
  },
  {
   "cell_type": "markdown",
   "id": "determined-headquarters",
   "metadata": {},
   "source": [
    "下面的注释包括了代码中没有的有用信息："
   ]
  },
  {
   "cell_type": "code",
   "execution_count": null,
   "id": "ongoing-stable",
   "metadata": {},
   "outputs": [],
   "source": [
    "v = 5     # 加速度，单位：米/秒"
   ]
  },
  {
   "cell_type": "markdown",
   "id": "phantom-impossible",
   "metadata": {},
   "source": [
    "好的变量名能够减少对注释的需求，但是长变量名使得表达式很难读，\n",
    "因此这里有个平衡问题。\n",
    "\n",
    "## 调试\n",
    "\n",
    "程序中可能会出现下面三种错误：语法错误（syntax\n",
    "error）、运行时错误(runtime error)和语义错误(semantic\n",
    "error)。我们如果能够分辨出三者区别，有助于快速追踪这些错误。\n",
    "\n",
    "语法错误：\n",
    "\n",
    "> 语法指的是程序的结构及其背后的规则。例如，括号必须要成对出现，所以(1 +\n",
    "> 2)是合法的，但是8)则是一个 **语法错误**。\n",
    ">\n",
    "> 如果你的程序中存在一个语法错误，Python会显示一条错误信息，然后退出运行。你无法顺利运行程序。在你编程生涯的头几周里，你可能会花大量时间追踪语法错误。随着你的经验不断积累，犯的语法错误会越来越少，发现错误的速度也会更快。\n",
    "\n",
    "运行时错误：\n",
    "\n",
    "> 第二种错误类型是运行时错误，这么称呼是因为这类错误只有在程序开始运行后才会出现。这类错误也被称为\n",
    "> **异常（exception）**，因为它们的出现通常说明发生了某些特别的（而且不好的）事情。\n",
    ">\n",
    "> 在前几章提供的简单程序中，你很少会碰到运行时错误，所以你可能需要一段时间才会接触到这种错误。\n",
    "\n",
    "语义错误：\n",
    "\n",
    "> 第三类错误是“语义”错误，即与程序的意思的有关。如果你的程序中有语义错误，程序在运行时不会产生错误信息，但是不会返回正确的结果。它会返回另外的结果。严格来说，它是按照你的指令在运行。\n",
    ">\n",
    "> 识别语义错误可能是棘手的，因为这需要你反过来思考，通过观察程序的输出来搞清楚它在做什么。\n",
    "\n",
    "## 术语表\n",
    "\n",
    "变量：\n",
    "\n",
    "> 变量是指向某个值的名称。\n",
    "\n",
    "赋值语句：\n",
    "\n",
    "> 将某个值赋给变量的语句。\n",
    "\n",
    "状态图：\n",
    "\n",
    "> 变量及其所指的值的图形化表示。\n",
    "\n",
    "关键字：\n",
    "\n",
    "> 关键字是用于解析程序的；你不能使用if、def和while这样的关键词作为变量名。\n",
    "\n",
    "运算数（operand）：\n",
    "\n",
    "> 运算符所操作的值之一。\n",
    "\n",
    "表达式：\n",
    "\n",
    "> 变量、运算符和值的组合，代表一个单一的结果。\n",
    "\n",
    "计算（evaluate）：\n",
    "\n",
    "> 通过执行运算以简化表达式，从而得出一个单一的值。\n",
    "\n",
    "语句：\n",
    "\n",
    "> 代表一个命令或行为的一段代码。目前为止我们接触的语句有赋值语句和打印语句。\n",
    "\n",
    "执行：\n",
    "\n",
    "> 运行一个语句，并按照语句的指令操作。\n",
    "\n",
    "交互式模式：\n",
    "\n",
    "> 通过在提示符中输入代码，使用Python解释器的一种方式。\n",
    "\n",
    "脚本模式：\n",
    "\n",
    "> 使用Python解释器从脚本中读取代码，并运行脚本的方式。\n",
    "\n",
    "脚本：\n",
    "\n",
    "> 保存在文件中的程序。\n",
    "\n",
    "运算顺序：\n",
    "\n",
    "> 有关多个运算符和运算数时计算顺序的规则。\n",
    "\n",
    "拼接：\n",
    "\n",
    "> 将两个运算数首尾相连。\n",
    "\n",
    "注释：\n",
    "\n",
    "> 程序中提供给其他程序员（任何阅读源代码的人）阅读的信息，对程序的执行没有影响。\n",
    "\n",
    "语法错误：\n",
    "\n",
    "> 使得程序无法进行解析（因此无法进行解释）的错误。\n",
    "\n",
    "异常：\n",
    "\n",
    "> 只有在程序运行时才发现的错误。\n",
    "\n",
    "语义：\n",
    "\n",
    "> 程序中表达的意思。\n",
    "\n",
    "语义错误：\n",
    "\n",
    "> 使得程序偏离程序员原本期望的错误。\n",
    "\n",
    "## 练习题\n",
    "\n",
    "### 习题 2-1\n",
    "\n",
    "和上一章一样，我还是要建议大家在学习新特性之后，在交互模式下充分试验，故意犯一些错误，看看到底会出什么问题。\n",
    "\n",
    "-   我们已经知道 `n = 42` 是合法的。那么 `42 = n` 呢？\n",
    "-   `x = y = 1` 又合法吗？\n",
    "-   在某些编程语言中，每个语句都是以分号 `；`\n",
    "    结束的。如果你在一个Python语句后也以分号结尾，会发生什么？\n",
    "-   如果在语句最后带上句号呢？\n",
    "-   在数学记法中，你可以将 $x$ 和 $y$\n",
    "    像这样相乘：$x y$。如果你在Python中也这么写的话，会发生什么？\n",
    "\n",
    "### 习题 2-2\n",
    "\n",
    "继续练习将Python解释器当做计算器使用：\n",
    "\n",
    "1.  半径为$r$的球体积是$\\frac{4}{3} \\pi r^3$。 半径为5的球体积是多少？\n",
    "\n",
    "2.  假设一本书的零售价是\\$24.95，但书店有40%的折扣。运费则是第一本\\$3，以后每本75美分。\n",
    "    购买60本的总价是多少？\n",
    "\n",
    "3.  如果我上午6:52离开家， 以放松跑（easy\n",
    "    pace）的速度跑1英里（每英里8:15，即每英里耗时8分15秒），再以\n",
    "    节奏跑（tempo）的速度跑3英里（每英里7:12，即每英里耗时7分12秒)，之后又以放松跑的速度跑1英里，我什么时候回到家吃早饭？"
   ]
  },
  {
   "cell_type": "markdown",
   "id": "modular-parish",
   "metadata": {},
   "source": [
    "\n",
    "    > 译者注：配速（pace）是在马拉松运动的训练中常使用的一个概念，配速是速度的一种，是每公里所需要的时间。配速=时间/距离。Tempo\n",
    "    > run一般被翻译成「节奏跑」或「乳酸门槛跑」，是指以比10K或5K比赛速度稍慢（每公里大约慢10-15秒）的速度进行训练，或者以平时15K-半程的配速来跑。参考：https://www.zhihu.com/question/22237002\n"
   ]
  },
  {
   "cell_type": "markdown",
   "id": "concrete-processing",
   "metadata": {},
   "source": [
    "### **贡献者**\n",
    "\n",
    "1.  翻译：[@bingjin](https://github.com/bingjin)\n",
    "2.  校对：[@bingjin](https://github.com/bingjin)\n",
    "3.  参考：[@carfly](https://github.com/carfly)"
   ]
  }
 ],
 "metadata": {},
 "nbformat": 4,
 "nbformat_minor": 5
}
