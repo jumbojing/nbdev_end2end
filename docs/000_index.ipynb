{
 "cells": [
  {
   "cell_type": "markdown",
   "id": "present-boxing",
   "metadata": {},
   "source": [
    "$$\n",
    "\\def\\CC{\\bf C}\n",
    "\\def\\QQ{\\bf Q}\n",
    "\\def\\RR{\\bf R}\n",
    "\\def\\ZZ{\\bf Z}\n",
    "\\def\\NN{\\bf N}\n",
    "$$\n",
    "\n",
    "\n",
    "\n",
    "# 《Think Python 2e》中文Jupyter笔记\n",
    "\n",
    "> [Think Python 2nd Edition](https://github.com/AllenDowney/ThinkPython2) by Allen B. Downey\n",
    "\n",
    "> 根据[《Think Python 2e》最新版中文翻译by bjingjin](https://github.com/bingjin/ThinkPython2-CN)转换校对\n",
    "\n",
    "> By JumboJing"
   ]
  },
  {
   "cell_type": "markdown",
   "id": "specified-plaza",
   "metadata": {},
   "source": [
    "![](figs/cover.jpg)"
   ]
  },
  {
   "cell_type": "markdown",
   "id": "resident-supervisor",
   "metadata": {},
   "source": [
    "## 目录\n",
    "\n",
    "* [前言](docs/00_preface.ipynb)\n",
    "* [第一章：程序之道](docs/01_the_way_of_the_program.ipynb)\n",
    "* [第二章：变量、表达式和语句](docs/02_variables_expressions_and_statements.ipynb)\n",
    "* [第三章：函数](docs/03_functions.ipynb)\n",
    "* [第四章：案例研究：接口设计](docs/04_case_study_interface_design.ipynb)\n",
    "* [第五章：条件和递归](docs/05_conditionals_and_recursion.ipynb)\n",
    "* [第六章：有返回值的函数](docs/06_fruitful_functions.ipynb)\n",
    "* [第七章：迭代](docs/07_iteration.ipynb)\n",
    "* [第八章：字符串](docs/08_strings.ipynb)\n",
    "* [第九章：文字游戏](docs/09_case_study_word_play.ipynb)\n",
    "* [第十章：列表](docs/10_lists.ipynb)\n",
    "* [第十一章：字典](docs/11_dictionaries.ipynb)\n",
    "* [第十二章：元组](docs/12_tuples.ipynb)\n",
    "* [第十三章：案例研究：数据结构选择](docs/13_case_study_data_structure_selection.ipynb)\n",
    "* [第十四章：文件](docs/14_files.ipynb)\n",
    "* [第十五章：类和对象](docs/15_classes_and_objects.ipynb)\n",
    "* [第十六章：类和函数](docs/16_classes_and_functions.ipynb)\n",
    "* [第十七章：类和方法](docs/17_classes_and_methods.ipynb)\n",
    "* [第十八章：继承](docs/18_inheritance.ipynb)\n",
    "* [第十九章：进阶小技巧](docs/19_the_goodies.ipynb)\n",
    "* [第二十章：调试](docs/20_debugging.ipynb)\n",
    "* [第二十一章：算法分析](docs/21_analysis_of_algorithms.ipynb)\n",
    "\n"
   ]
  }
 ],
 "metadata": {
  "jupytext": {
   "formats": "ipynb,md"
  },
  "kernelspec": {
   "display_name": "Python 3",
   "language": "python",
   "name": "python3"
  }
 },
 "nbformat": 4,
 "nbformat_minor": 5
}
