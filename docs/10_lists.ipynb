{
 "cells": [
  {
   "cell_type": "markdown",
   "id": "incorporate-seattle",
   "metadata": {},
   "source": [
    "$$\n",
    "\\def\\CC{\\bf C}\n",
    "\\def\\QQ{\\bf Q}\n",
    "\\def\\RR{\\bf R}\n",
    "\\def\\ZZ{\\bf Z}\n",
    "\\def\\NN{\\bf N}\n",
    "$$\n",
    "# 第十章：列表\n",
    "\n",
    "本章介绍Python中最有用的内置类型之一：列表（list）。你还将进一步学习关于对象的知识\n",
    "以及同一个对象拥有多个名称时会发生什么。\n",
    "\n",
    "## 列表是一个序列\n",
    "\n",
    "与字符串类似，\\**列表*\\*\n",
    "是由多个值组成的序列。在字符串中，每个值都是字符；\n",
    "在列表中，值可以是任何数据类型。列表中的值称为 **元素（element）**\n",
    "，有时也被称为 **项（item）** 。\n",
    "\n",
    "创建新列表的方法有多种；最简单的方法是用方括号( `[` 和 `]`\n",
    ")将元素包括起来:"
   ]
  },
  {
   "cell_type": "code",
   "execution_count": null,
   "id": "banner-pollution",
   "metadata": {},
   "outputs": [],
   "source": [
    "[10, 20, 30, 40]\n",
    "['crunchy frog', 'ram bladder', 'lark vomit']"
   ]
  },
  {
   "cell_type": "markdown",
   "id": "identified-fellow",
   "metadata": {},
   "source": [
    "第一个例子是包含4个整数的列表。第二个是一个包含3个字符串的列表。\n",
    "一个列表中的元素不需要是相同的数据类型。下面的列表包含一个字符串、一个浮点数、一个整数和另一个列表："
   ]
  },
  {
   "cell_type": "code",
   "execution_count": null,
   "id": "productive-physics",
   "metadata": {},
   "outputs": [],
   "source": [
    "['spam', 2.0, 5, [10, 20]]"
   ]
  },
  {
   "cell_type": "markdown",
   "id": "worst-ratio",
   "metadata": {},
   "source": [
    "一个列表在另一个列表中，称为\\**嵌套（nested）列表*\\*。\n",
    "\n",
    "一个不包含元素的列表被称为空列表；你可以用空的方括号 `[]`\n",
    "创建一个空列表。\n",
    "\n",
    "正如你想的那样，你可以将列表的值赋给变量："
   ]
  },
  {
   "cell_type": "code",
   "execution_count": null,
   "id": "foster-louis",
   "metadata": {},
   "outputs": [
    {
     "data": {
      "text/plain": [
       "['Cheddar', 'Edam', 'Gouda'] [42, 123] []"
      ]
     },
     "execution_count": 1,
     "metadata": {},
     "output_type": "execute_result"
    }
   ],
   "source": [
    "cheeses = ['Cheddar', 'Edam', 'Gouda']\n",
    "numbers = [42, 123]\n",
    "empty = []\n",
    "print(cheeses, numbers, empty)"
   ]
  },
  {
   "cell_type": "markdown",
   "id": "offensive-sauce",
   "metadata": {},
   "source": [
    "## 列表是可变的\n",
    "\n",
    "访问列表中元素的语法，与访问字符串中字符的语法相同，都是通过方括号运算符实现的。\n",
    "括号中的表达式指定了元素的索引。记住，索引从0开始："
   ]
  },
  {
   "cell_type": "code",
   "execution_count": null,
   "id": "macro-kitty",
   "metadata": {},
   "outputs": [
    {
     "data": {
      "text/plain": [
       "'Cheddar'"
      ]
     },
     "execution_count": 1,
     "metadata": {},
     "output_type": "execute_result"
    }
   ],
   "source": [
    "cheeses[0]"
   ]
  },
  {
   "cell_type": "markdown",
   "id": "substantial-christian",
   "metadata": {},
   "source": [
    "和字符串不同的是，列表是可变的。当括号运算符出现在赋值语句的左边时，它就指向了列表中将被赋值的元素。"
   ]
  },
  {
   "cell_type": "code",
   "execution_count": null,
   "id": "derived-honey",
   "metadata": {},
   "outputs": [
    {
     "data": {
      "text/plain": [
       "[42, 5]"
      ]
     },
     "execution_count": 1,
     "metadata": {},
     "output_type": "execute_result"
    }
   ],
   "source": [
    "numbers = [42, 123]\n",
    "numbers[1] = 5\n",
    "numbers"
   ]
  },
  {
   "cell_type": "markdown",
   "id": "driven-elevation",
   "metadata": {},
   "source": [
    "`numbers`中索引为1的元素，原来是123，现在变成了5。\n",
    "\n",
    "`fig.liststate` 是 `cheeses` 、 `nubmers` 和 `empty` 的状态图。\n",
    "\n",
    "<div id=\"fig.liststate\">\n",
    "\n",
    "![图10-1：状态图](figs/liststate.png)\n",
    "\n",
    "</div>\n",
    "\n",
    "列表用外部标有\"list\"的盒子表示，盒子内部是列表的元素。 `cheeses`\n",
    "指向一个有3个元素的列表，3个元素的下标分别是0、1、2。`numbers`\n",
    "包含两个元素； 状态图显示第二个元素原来是123，被重新赋值为5。 `empty`\n",
    "对应一个没有元素的列表。\n",
    "\n",
    "列表下标的工作原理和字符串下标相同：\n",
    "\n",
    "-   任何整数表达式都可以用作下标。\n",
    "-   如果你试图读或写一个不存在的元素，你将会得到一个索引错误(IndexError).\n",
    "-   如果下标是负数，它将从列表的末端开始访问列表。\n",
    "\n",
    "`in`运算符在列表中同样可以使用。"
   ]
  },
  {
   "cell_type": "code",
   "execution_count": null,
   "id": "wicked-differential",
   "metadata": {},
   "outputs": [
    {
     "data": {
      "text/plain": [
       "True"
      ]
     },
     "execution_count": 1,
     "metadata": {},
     "output_type": "execute_result"
    }
   ],
   "source": [
    "cheeses = ['Cheddar', 'Edam', 'Gouda']\n",
    "'Edam' in cheeses"
   ]
  },
  {
   "cell_type": "code",
   "execution_count": null,
   "id": "curious-essence",
   "metadata": {},
   "outputs": [
    {
     "data": {
      "text/plain": [
       "False"
      ]
     },
     "execution_count": 1,
     "metadata": {},
     "output_type": "execute_result"
    }
   ],
   "source": [
    "'Brie' in cheeses"
   ]
  },
  {
   "cell_type": "markdown",
   "id": "fatal-parade",
   "metadata": {},
   "source": [
    "## 遍历列表\n",
    "\n",
    "最常用的遍历列表的方式是使用for循环。语法和字符串遍历类似："
   ]
  },
  {
   "cell_type": "code",
   "execution_count": null,
   "id": "vietnamese-welcome",
   "metadata": {},
   "outputs": [],
   "source": [
    "for cheese in cheeses:\n",
    "    print(cheese)"
   ]
  },
  {
   "cell_type": "markdown",
   "id": "thick-interim",
   "metadata": {},
   "source": [
    "如果你只需要读取列表中的元素，这种方法已经足够。然而，如果你想要写入或者更新列表中的元素，你需要通过下标访问。一种常用的方法是结合内置函数\n",
    "`range` 和 `len` ："
   ]
  },
  {
   "cell_type": "code",
   "execution_count": null,
   "id": "beneficial-daniel",
   "metadata": {},
   "outputs": [],
   "source": [
    "for i in range(len(numbers)):\n",
    "    numbers[i] = numbers[i] * 2"
   ]
  },
  {
   "cell_type": "markdown",
   "id": "humanitarian-imperial",
   "metadata": {},
   "source": [
    "这个循环将遍历列表并更新每个元素。`len` 返回列表中的元素个数。`range`\n",
    "返回一个包含从0到$n-1$下标的列表，其中$n$是列表的长度。 每次循环中，`i`\n",
    "得到下一个元素的下标。循环主体中的赋值语句使用 `i`\n",
    "读取该元素的旧值，并赋予其一个新值。\n",
    "\n",
    "对一个空列表执行for循环时，将不会执行循环的主体："
   ]
  },
  {
   "cell_type": "code",
   "execution_count": null,
   "id": "progressive-wedding",
   "metadata": {},
   "outputs": [],
   "source": [
    "for x in []:\n",
    "    print('This never happens.')"
   ]
  },
  {
   "cell_type": "markdown",
   "id": "defined-teens",
   "metadata": {},
   "source": [
    "尽管一个列表可以包含另一个列表，嵌套的列表本身还是被看作一个单个元素。\n",
    "下面这个列表的长度是4："
   ]
  },
  {
   "cell_type": "code",
   "execution_count": null,
   "id": "transparent-green",
   "metadata": {},
   "outputs": [],
   "source": [
    "['spam', 1, ['Brie', 'Roquefort', 'Pol le Veq'], [1, 2, 3]]"
   ]
  },
  {
   "cell_type": "markdown",
   "id": "processed-friday",
   "metadata": {},
   "source": [
    "## 列表操作\n",
    "\n",
    "+运算符拼接多个列表："
   ]
  },
  {
   "cell_type": "code",
   "execution_count": null,
   "id": "revised-reggae",
   "metadata": {},
   "outputs": [
    {
     "data": {
      "text/plain": [
       "[1, 2, 3, 4, 5, 6]"
      ]
     },
     "execution_count": 1,
     "metadata": {},
     "output_type": "execute_result"
    }
   ],
   "source": [
    "a = [1, 2, 3]\n",
    "b = [4, 5, 6]\n",
    "c = a + b\n",
    "c"
   ]
  },
  {
   "cell_type": "markdown",
   "id": "armed-bicycle",
   "metadata": {},
   "source": [
    "运算符 \\* 以给定次数的重复一个列表:"
   ]
  },
  {
   "cell_type": "code",
   "execution_count": null,
   "id": "measured-namibia",
   "metadata": {},
   "outputs": [
    {
     "data": {
      "text/plain": [
       "[0, 0, 0, 0]"
      ]
     },
     "execution_count": 1,
     "metadata": {},
     "output_type": "execute_result"
    }
   ],
   "source": [
    "[0] * 4"
   ]
  },
  {
   "cell_type": "code",
   "execution_count": null,
   "id": "developed-intellectual",
   "metadata": {},
   "outputs": [
    {
     "data": {
      "text/plain": [
       "[1, 2, 3, 1, 2, 3, 1, 2, 3]"
      ]
     },
     "execution_count": 1,
     "metadata": {},
     "output_type": "execute_result"
    }
   ],
   "source": [
    "[1, 2, 3] * 3"
   ]
  },
  {
   "cell_type": "markdown",
   "id": "running-rehabilitation",
   "metadata": {},
   "source": [
    "第一个例子重复4次。第二个例子重复了那个列表3次。\n",
    "\n",
    "## 列表切片\n",
    "\n",
    "切片（slice）运算符同样适用于对列表："
   ]
  },
  {
   "cell_type": "code",
   "execution_count": null,
   "id": "decimal-apparel",
   "metadata": {},
   "outputs": [
    {
     "data": {
      "text/plain": [
       "['b', 'c']"
      ]
     },
     "execution_count": 1,
     "metadata": {},
     "output_type": "execute_result"
    }
   ],
   "source": [
    "t = ['a', 'b', 'c', 'd', 'e', 'f']\n",
    "t[1:3]"
   ]
  },
  {
   "cell_type": "code",
   "execution_count": null,
   "id": "painful-legislature",
   "metadata": {},
   "outputs": [
    {
     "data": {
      "text/plain": [
       "['a', 'b', 'c', 'd']"
      ]
     },
     "execution_count": 1,
     "metadata": {},
     "output_type": "execute_result"
    }
   ],
   "source": [
    "t[:4]"
   ]
  },
  {
   "cell_type": "code",
   "execution_count": null,
   "id": "informative-client",
   "metadata": {},
   "outputs": [
    {
     "data": {
      "text/plain": [
       "['d', 'e', 'f']"
      ]
     },
     "execution_count": 1,
     "metadata": {},
     "output_type": "execute_result"
    }
   ],
   "source": [
    "t[3:]"
   ]
  },
  {
   "cell_type": "markdown",
   "id": "embedded-germany",
   "metadata": {},
   "source": [
    "如果你省略第一个索引，切片将从列表头开始。如果你省略第二个索引，切片将会到列表尾结束。\n",
    "所以如果你两者都省略，切片就是整个列表的一个拷贝。"
   ]
  },
  {
   "cell_type": "code",
   "execution_count": null,
   "id": "strong-glossary",
   "metadata": {},
   "outputs": [
    {
     "data": {
      "text/plain": [
       "['a', 'b', 'c', 'd', 'e', 'f']"
      ]
     },
     "execution_count": 1,
     "metadata": {},
     "output_type": "execute_result"
    }
   ],
   "source": [
    "t[:]"
   ]
  },
  {
   "cell_type": "markdown",
   "id": "waiting-feedback",
   "metadata": {},
   "source": [
    "由于列表是可变的，通常在修改列表之前，对列表进行拷贝是很有用的。\n",
    "\n",
    "切片运算符放在赋值语句的左边时，可以一次更新多个元素："
   ]
  },
  {
   "cell_type": "code",
   "execution_count": null,
   "id": "concerned-tension",
   "metadata": {},
   "outputs": [
    {
     "data": {
      "text/plain": [
       "['a', 'x', 'y', 'd', 'e', 'f']"
      ]
     },
     "execution_count": 1,
     "metadata": {},
     "output_type": "execute_result"
    }
   ],
   "source": [
    "t = ['a', 'b', 'c', 'd', 'e', 'f']\n",
    "t[1:3] = ['x', 'y']\n",
    "t"
   ]
  },
  {
   "cell_type": "markdown",
   "id": "monetary-tissue",
   "metadata": {},
   "source": [
    "## 列表方法\n",
    "\n",
    "Python为列表提供了一些方法. 例如, `append` 添加一个新元素到列表的末端:"
   ]
  },
  {
   "cell_type": "code",
   "execution_count": null,
   "id": "acoustic-tattoo",
   "metadata": {},
   "outputs": [
    {
     "data": {
      "text/plain": [
       "['a', 'b', 'c', 'd']"
      ]
     },
     "execution_count": 1,
     "metadata": {},
     "output_type": "execute_result"
    }
   ],
   "source": [
    "t = ['a', 'b', 'c']\n",
    "t.append('d')\n",
    "t"
   ]
  },
  {
   "cell_type": "markdown",
   "id": "formed-sunrise",
   "metadata": {},
   "source": [
    "`extend`将接受一个列表作为参数，并将其其中的所有元素添加至目标列表中："
   ]
  },
  {
   "cell_type": "code",
   "execution_count": null,
   "id": "split-category",
   "metadata": {},
   "outputs": [
    {
     "data": {
      "text/plain": [
       "['a', 'b', 'c', 'd', 'e']"
      ]
     },
     "execution_count": 1,
     "metadata": {},
     "output_type": "execute_result"
    }
   ],
   "source": [
    "t1 = ['a', 'b', 'c']\n",
    "t2 = ['d', 'e']\n",
    "t1.extend(t2)\n",
    "t1"
   ]
  },
  {
   "cell_type": "markdown",
   "id": "acceptable-reliance",
   "metadata": {},
   "source": [
    "这个例子中 `t2` 没有改动。\n",
    "\n",
    "`sort`将列表中的元素从小到大进行排序："
   ]
  },
  {
   "cell_type": "code",
   "execution_count": null,
   "id": "collaborative-monaco",
   "metadata": {},
   "outputs": [
    {
     "data": {
      "text/plain": [
       "['a', 'b', 'c', 'd', 'e']"
      ]
     },
     "execution_count": 1,
     "metadata": {},
     "output_type": "execute_result"
    }
   ],
   "source": [
    "t = ['d', 'c', 'e', 'b', 'a']\n",
    "t.sort()\n",
    "t"
   ]
  },
  {
   "cell_type": "markdown",
   "id": "interested-nicholas",
   "metadata": {},
   "source": [
    "大部分的列表方法都是无返回值的；它们对列表进行修改，然后返回None。\n",
    "如果你意外的写了 `t.sort()` ，你将会对结果感到失望的。\n",
    "\n",
    "## 映射、筛选和归并\n",
    "\n",
    "你可以这样使用循环，对列表中所有元素求和:"
   ]
  },
  {
   "cell_type": "code",
   "execution_count": null,
   "id": "phantom-speech",
   "metadata": {},
   "outputs": [],
   "source": [
    "def add_all(t):\n",
    "    total = 0\n",
    "    for x in t:\n",
    "        total += x\n",
    "    return total"
   ]
  },
  {
   "cell_type": "markdown",
   "id": "after-tunnel",
   "metadata": {},
   "source": [
    "`total`被初始化为 0。每次循环时, `x` 从列表中获取一个元素。 运算符 +=\n",
    "提供了一个快捷的更新变量的方法。这个 **增量赋值语句（augmented\n",
    "assignment statement）**"
   ]
  },
  {
   "cell_type": "code",
   "execution_count": null,
   "id": "latter-connecticut",
   "metadata": {},
   "outputs": [],
   "source": [
    "total += x"
   ]
  },
  {
   "cell_type": "markdown",
   "id": "affected-report",
   "metadata": {},
   "source": [
    "等价于"
   ]
  },
  {
   "cell_type": "code",
   "execution_count": null,
   "id": "brave-direction",
   "metadata": {},
   "outputs": [],
   "source": [
    "total = total + x"
   ]
  },
  {
   "cell_type": "markdown",
   "id": "developed-atlas",
   "metadata": {},
   "source": [
    "当循环执行时，`total` 将累计元素的和；一个这样的变量有时被称为\n",
    "**累加器（accumulator）** 。\n",
    "\n",
    "把一个列表中的元素加起来是一个很常用的操作，\n",
    "所以Python将其设置为一个内建内置函数 `sum` ："
   ]
  },
  {
   "cell_type": "code",
   "execution_count": null,
   "id": "marked-bailey",
   "metadata": {},
   "outputs": [
    {
     "data": {
      "text/plain": [
       "6"
      ]
     },
     "execution_count": 1,
     "metadata": {},
     "output_type": "execute_result"
    }
   ],
   "source": [
    "t = [1, 2, 3]\n",
    "sum(t)"
   ]
  },
  {
   "cell_type": "markdown",
   "id": "exceptional-costa",
   "metadata": {},
   "source": [
    "一个像这样的将一系列的元素合并成一个单一值的操作有时称为\n",
    "**归并（reduce）** 。\n",
    "\n",
    "有时，你在构建一个列表时还需要遍历另一个列表。\n",
    "例如，下面的函数接受一个字符串列表作为参数，返回包含大写字符的新列表："
   ]
  },
  {
   "cell_type": "code",
   "execution_count": null,
   "id": "primary-kingdom",
   "metadata": {},
   "outputs": [],
   "source": [
    "def capitalize_all(t):\n",
    "    res = []\n",
    "    for s in t:\n",
    "        res.append(s.capitalize())\n",
    "    return res"
   ]
  },
  {
   "cell_type": "markdown",
   "id": "cognitive-timeline",
   "metadata": {},
   "source": [
    "`res`被初始化为一个空列表；每次循环时，我们添加下一个元素。 所以 `res`\n",
    "是另一种形式的累加器。\n",
    "\n",
    "类似 `capitalize_all` 这样的操作有时被称为 **映射(map)**\n",
    "，因为它“映射”一个函数（在本例中是方法 `capitalize`\n",
    "）到序列中的每个元素上。\n",
    "\n",
    "另一个常见的操作是从列表中选择一些元素，并返回一个子列表。例如，下面的函数读取一个字符串列表，并返回一个仅包含大写字符串的列表："
   ]
  },
  {
   "cell_type": "code",
   "execution_count": null,
   "id": "recovered-silver",
   "metadata": {},
   "outputs": [],
   "source": [
    "def only_upper(t):\n",
    "    res = []\n",
    "    for s in t:\n",
    "        if s.isupper():\n",
    "            res.append(s)\n",
    "    return res"
   ]
  },
  {
   "cell_type": "markdown",
   "id": "ordinary-immunology",
   "metadata": {},
   "source": [
    "`isupper`是一个字符串方法，如果字符串仅含有大写字母，则返回 `True` 。\n",
    "\n",
    "类似 `only_upper` 这样的操作被称为 **筛选（filter）**\n",
    "，因为它选中某些元素，然后剔除剩余的元素。\n",
    "\n",
    "大部分常用列表操作可以用映射、筛选和归并这个组合表示。\n",
    "\n",
    "## 删除元素\n",
    "\n",
    "有多种方法可以从列表中删除一个元素。如果你知道元素的下标，你可以使用\n",
    "`pop` ："
   ]
  },
  {
   "cell_type": "code",
   "execution_count": null,
   "id": "empirical-baltimore",
   "metadata": {},
   "outputs": [
    {
     "data": {
      "text/plain": [
       "['a', 'c']"
      ]
     },
     "execution_count": 1,
     "metadata": {},
     "output_type": "execute_result"
    }
   ],
   "source": [
    "t = ['a', 'b', 'c']\n",
    "x = t.pop(1)\n",
    "t"
   ]
  },
  {
   "cell_type": "code",
   "execution_count": null,
   "id": "administrative-plymouth",
   "metadata": {},
   "outputs": [
    {
     "data": {
      "text/plain": [
       "'b'"
      ]
     },
     "execution_count": 1,
     "metadata": {},
     "output_type": "execute_result"
    }
   ],
   "source": [
    "x"
   ]
  },
  {
   "cell_type": "markdown",
   "id": "disabled-maximum",
   "metadata": {},
   "source": [
    "`pop`修改列表，并返回被移除的元素。如果你不提供下标，它将移除并返回最后一个元素。\n",
    "\n",
    "如果你不需要被移除的元素，可以使用 `del` 运算符："
   ]
  },
  {
   "cell_type": "code",
   "execution_count": null,
   "id": "round-estimate",
   "metadata": {},
   "outputs": [
    {
     "data": {
      "text/plain": [
       "['a', 'c']"
      ]
     },
     "execution_count": 1,
     "metadata": {},
     "output_type": "execute_result"
    }
   ],
   "source": [
    "t = ['a', 'b', 'c']\n",
    "del t[1]\n",
    "t"
   ]
  },
  {
   "cell_type": "markdown",
   "id": "freelance-controversy",
   "metadata": {},
   "source": [
    "如果你知道要删除的值（但是不知道其下标），你可以使用 `remove` ："
   ]
  },
  {
   "cell_type": "code",
   "execution_count": null,
   "id": "supreme-maria",
   "metadata": {},
   "outputs": [
    {
     "data": {
      "text/plain": [
       "['a', 'c']"
      ]
     },
     "execution_count": 1,
     "metadata": {},
     "output_type": "execute_result"
    }
   ],
   "source": [
    "t = ['a', 'b', 'c']\n",
    "t.remove('b')\n",
    "t"
   ]
  },
  {
   "cell_type": "markdown",
   "id": "imported-science",
   "metadata": {},
   "source": [
    "`remove`的返回值是None.\n",
    "\n",
    "要移除多个元素，你可以结合切片索引使用 `del` ："
   ]
  },
  {
   "cell_type": "code",
   "execution_count": null,
   "id": "civil-forestry",
   "metadata": {},
   "outputs": [
    {
     "data": {
      "text/plain": [
       "['a', 'f']"
      ]
     },
     "execution_count": 1,
     "metadata": {},
     "output_type": "execute_result"
    }
   ],
   "source": [
    "t = ['a', 'b', 'c', 'd', 'e', 'f']\n",
    "del t[1:5]\n",
    "t"
   ]
  },
  {
   "cell_type": "markdown",
   "id": "mighty-moderator",
   "metadata": {},
   "source": [
    "同样的，切片选择到第二个下标（不包含第二个下标）处的所有元素。\n",
    "\n",
    "## 列表和字符串\n",
    "\n",
    "一个字符串是多个字符组成的序列，一个列表是多个值组成的序列。但是一个由字符组成的列表不同于字符串。可以使用\n",
    "`list` 将一个字符串转换为字符的列表:"
   ]
  },
  {
   "cell_type": "code",
   "execution_count": null,
   "id": "streaming-fraud",
   "metadata": {},
   "outputs": [
    {
     "data": {
      "text/plain": [
       "['s', 'p', 'a', 'm']"
      ]
     },
     "execution_count": 1,
     "metadata": {},
     "output_type": "execute_result"
    }
   ],
   "source": [
    "s = 'spam'\n",
    "t = list(s)\n",
    "t"
   ]
  },
  {
   "cell_type": "markdown",
   "id": "structural-regard",
   "metadata": {},
   "source": [
    "由于 `list` 是内置函数的名称，你应避免将它用作变量名。我同样避免使用 `l`\n",
    "，因为它看起来很像1。这就是为什么我用了 `t` 。\n",
    "\n",
    "`list`函数将字符串分割成单独的字符。如果你想将一个字符串分割成一些单词，你可以使用\n",
    "`split` 方法："
   ]
  },
  {
   "cell_type": "code",
   "execution_count": null,
   "id": "demographic-secretariat",
   "metadata": {},
   "outputs": [
    {
     "data": {
      "text/plain": [
       "['pining', 'for', 'the', 'fjords']"
      ]
     },
     "execution_count": 1,
     "metadata": {},
     "output_type": "execute_result"
    }
   ],
   "source": [
    "s = 'pining for the fjords'\n",
    "t = s.split()\n",
    "t"
   ]
  },
  {
   "cell_type": "markdown",
   "id": "superb-engagement",
   "metadata": {},
   "source": [
    "可以提高一个叫做 **分隔符（delimiter）**\n",
    "的可选参数，指定什么字符作为单词之间的分界线。下面的例子使用连字符作为分隔符："
   ]
  },
  {
   "cell_type": "code",
   "execution_count": null,
   "id": "union-theme",
   "metadata": {},
   "outputs": [
    {
     "data": {
      "text/plain": [
       "['spam', 'spam', 'spam']"
      ]
     },
     "execution_count": 1,
     "metadata": {},
     "output_type": "execute_result"
    }
   ],
   "source": [
    "s = 'spam-spam-spam'\n",
    "delimiter = '-'\n",
    "t = s.split(delimiter)\n",
    "t"
   ]
  },
  {
   "cell_type": "markdown",
   "id": "qualified-stylus",
   "metadata": {},
   "source": [
    "`join`的功能和 `split` 相反。它将一个字符串列表的元素拼接起来。`join`\n",
    "是一个字符串方法，所以你需要在一个分隔符上调用它，并传入一个列表作为参数："
   ]
  },
  {
   "cell_type": "code",
   "execution_count": null,
   "id": "measured-quebec",
   "metadata": {},
   "outputs": [
    {
     "data": {
      "text/plain": [
       "'pining for the fjords'"
      ]
     },
     "execution_count": 1,
     "metadata": {},
     "output_type": "execute_result"
    }
   ],
   "source": [
    "t = ['pining', 'for', 'the', 'fjords']\n",
    "delimiter = ' '\n",
    "s = delimiter.join(t)\n",
    "s"
   ]
  },
  {
   "cell_type": "markdown",
   "id": "express-width",
   "metadata": {},
   "source": [
    "在这个例子中，分隔符是一个空格，所以 `join`\n",
    "在单词之间添加一个空格。如果不使用空格拼接字符串，你可以使用空字符串\n",
    "`''` 作为分隔符。\n",
    "\n",
    "## 对象和值\n",
    "\n",
    "如果我们执行下面的赋值语句:"
   ]
  },
  {
   "cell_type": "code",
   "execution_count": null,
   "id": "reduced-healing",
   "metadata": {},
   "outputs": [],
   "source": [
    "a = 'banana'\n",
    "b = 'banana'"
   ]
  },
  {
   "cell_type": "markdown",
   "id": "aboriginal-pulse",
   "metadata": {},
   "source": [
    "我们知道 `a` 和 `b` 都指向一个字符串，但是我们不知道是否他们指向\n",
    "*同一个* 字符串。这里有两种可能的状态，如`fig.list1`所示。\n",
    "\n",
    "<div id=\"fig.list1\">\n",
    "\n",
    "![图10-2：状态图](figs/list1.png)\n",
    "\n",
    "</div>\n",
    "\n",
    "一种情况是，`a` 和 `b` 指向两个有相同值的不同对象。\n",
    "第二种情况是，它们指向同一个对象。\n",
    "\n",
    "为了查看两个变量是否指向同一个对象，你可以使用 `is` 运算符。"
   ]
  },
  {
   "cell_type": "code",
   "execution_count": null,
   "id": "planned-attack",
   "metadata": {},
   "outputs": [
    {
     "data": {
      "text/plain": [
       "True"
      ]
     },
     "execution_count": 1,
     "metadata": {},
     "output_type": "execute_result"
    }
   ],
   "source": [
    "a = 'banana'\n",
    "b = 'banana'\n",
    "a is b"
   ]
  },
  {
   "cell_type": "markdown",
   "id": "raised-greensboro",
   "metadata": {},
   "source": [
    "在这个例子中，Python仅生成了一个字符串对象，`a` 和 `b`\n",
    "都指向它。但是当你创建两个列表时，你得到的是两个对象："
   ]
  },
  {
   "cell_type": "code",
   "execution_count": null,
   "id": "sunrise-connectivity",
   "metadata": {},
   "outputs": [
    {
     "data": {
      "text/plain": [
       "False"
      ]
     },
     "execution_count": 1,
     "metadata": {},
     "output_type": "execute_result"
    }
   ],
   "source": [
    "a = [1, 2, 3]\n",
    "b = [1, 2, 3]\n",
    "a is b"
   ]
  },
  {
   "cell_type": "markdown",
   "id": "talented-passing",
   "metadata": {},
   "source": [
    "所以状态图如`fig.list2`所示。\n",
    "\n",
    "<div id=\"fig.list2\">\n",
    "\n",
    "![图10-3：状态图](figs/list2.png)\n",
    "\n",
    "</div>\n",
    "\n",
    "在这个例子中，我们称这两个列表是 **相等（equivalent）**\n",
    "的，因为它们有相同的元素。但它们并不 **相同（identical）**\n",
    "，因为他们不是同一个对象。如果两个对象 **相同**\n",
    "，它们也是相等的，但是如果它们是相等的，它们不一定是相同的。\n",
    "\n",
    "之前，我们一直在等价地使用\"对象\"和“值”，但是更准确的说，一个对象拥有一个值。\n",
    "如果你对 `[1, 2, 3]` 求值，会得到一个值为整数序列的列表对象。\n",
    "如果另一个列表有同样的元素，我们说它们有相同的值，但是它们并不是同一个对象。\n",
    "\n",
    "## 别名\n",
    "\n",
    "如果 `a` 指向一个对象，然后你赋值 `b = a` ，那么两个变量指向同一个对象："
   ]
  },
  {
   "cell_type": "code",
   "execution_count": null,
   "id": "acting-restoration",
   "metadata": {},
   "outputs": [
    {
     "data": {
      "text/plain": [
       "True"
      ]
     },
     "execution_count": 1,
     "metadata": {},
     "output_type": "execute_result"
    }
   ],
   "source": [
    "a = [1, 2, 3]\n",
    "b = a\n",
    "b is a"
   ]
  },
  {
   "cell_type": "markdown",
   "id": "occupational-explorer",
   "metadata": {},
   "source": [
    "状态图如`fig.list3`所示。\n",
    "\n",
    "<div id=\"fig.list3\">\n",
    "\n",
    "![图10-4：状态图](figs/list3.png)\n",
    "\n",
    "</div>\n",
    "\n",
    "变量和对象之间的关联称为 **引用（reference）** 。\n",
    "在这个例子中，有两个对同一个对象的引用。\n",
    "\n",
    "如果一个对象有多于一个引用，那它也会有多个名称， 我们称这个对象是\n",
    "**有别名的（aliased）** 。\n",
    "\n",
    "如果一个有别名的对象是可变的，对其中一个别名（alias）的改变对影响到其它的别名："
   ]
  },
  {
   "cell_type": "code",
   "execution_count": null,
   "id": "mental-headquarters",
   "metadata": {},
   "outputs": [
    {
     "data": {
      "text/plain": [
       "[42, 2, 3]"
      ]
     },
     "execution_count": 1,
     "metadata": {},
     "output_type": "execute_result"
    }
   ],
   "source": [
    "b[0] = 42\n",
    "a"
   ]
  },
  {
   "cell_type": "markdown",
   "id": "bronze-palestinian",
   "metadata": {},
   "source": [
    "尽管这个行为很有用，但是容易导致出现错误。\n",
    "通常，避免对于可变对象使用别名相对更安全。\n",
    "\n",
    "对于像字符串这样的不可变对象，使用别名没有什么问题。例如："
   ]
  },
  {
   "cell_type": "code",
   "execution_count": null,
   "id": "gothic-climate",
   "metadata": {},
   "outputs": [],
   "source": [
    "a = 'banana'\n",
    "b = 'banana'"
   ]
  },
  {
   "cell_type": "markdown",
   "id": "western-valve",
   "metadata": {},
   "source": [
    "`a`和 `b` 是否指向同一个字符串基本上没有什么影响。\n",
    "\n",
    "## 列表参数\n",
    "\n",
    "当你将一个列表作为参数传给一个函数，函数将得到这个列表的一个引用。如果函数对这个列表进行了修改，会在调用者中有所体现。例如，\n",
    "`delete_head` 删除列表的第一个元素："
   ]
  },
  {
   "cell_type": "code",
   "execution_count": null,
   "id": "manual-medicaid",
   "metadata": {},
   "outputs": [],
   "source": [
    "def delete_head(t):\n",
    "    del t[0]"
   ]
  },
  {
   "cell_type": "markdown",
   "id": "atmospheric-drive",
   "metadata": {},
   "source": [
    "这样使用这个函数："
   ]
  },
  {
   "cell_type": "code",
   "execution_count": null,
   "id": "irish-mirror",
   "metadata": {},
   "outputs": [
    {
     "data": {
      "text/plain": [
       "['b', 'c']"
      ]
     },
     "execution_count": 1,
     "metadata": {},
     "output_type": "execute_result"
    }
   ],
   "source": [
    "letters = ['a', 'b', 'c']\n",
    "delete_head(letters)\n",
    "letters"
   ]
  },
  {
   "cell_type": "markdown",
   "id": "electrical-medicine",
   "metadata": {},
   "source": [
    "参数 `t` 和变量 `letters` 是同一个对象的别名。\n",
    "其堆栈图如`fig.stack5`所示。\n",
    "\n",
    "<div id=\"fig.stack5\">\n",
    "\n",
    "![图10-5：堆栈图](figs/stack5.png)\n",
    "\n",
    "</div>\n",
    "\n",
    "由于列表被两个帧共享，我把它画在它们中间。\n",
    "\n",
    "需要注意的是修改列表操作和创建列表操作间的区别。 例如，`append`\n",
    "方法是修改一个列表，而 + 运算符是创建一个新的列表："
   ]
  },
  {
   "cell_type": "code",
   "execution_count": null,
   "id": "completed-eclipse",
   "metadata": {},
   "outputs": [
    {
     "data": {
      "text/plain": [
       "[1, 2, 3]"
      ]
     },
     "execution_count": 1,
     "metadata": {},
     "output_type": "execute_result"
    }
   ],
   "source": [
    "t1 = [1, 2]\n",
    "t2 = t1.append(3)\n",
    "t1"
   ]
  },
  {
   "cell_type": "code",
   "execution_count": null,
   "id": "regional-incident",
   "metadata": {},
   "outputs": [
    {
     "data": {
      "text/plain": [
       "None"
      ]
     },
     "execution_count": 1,
     "metadata": {},
     "output_type": "execute_result"
    }
   ],
   "source": [
    "t2"
   ]
  },
  {
   "cell_type": "markdown",
   "id": "tired-tracker",
   "metadata": {},
   "source": [
    "`append`修改列表并返回None。"
   ]
  },
  {
   "cell_type": "code",
   "execution_count": null,
   "id": "enormous-steps",
   "metadata": {},
   "outputs": [
    {
     "data": {
      "text/plain": [
       "[1, 2, 3]"
      ]
     },
     "execution_count": 1,
     "metadata": {},
     "output_type": "execute_result"
    }
   ],
   "source": [
    "t3 = t1 + [4]\n",
    "t1"
   ]
  },
  {
   "cell_type": "code",
   "execution_count": null,
   "id": "backed-campbell",
   "metadata": {},
   "outputs": [
    {
     "data": {
      "text/plain": [
       "[1, 2, 3, 4]"
      ]
     },
     "execution_count": 1,
     "metadata": {},
     "output_type": "execute_result"
    }
   ],
   "source": [
    "t3"
   ]
  },
  {
   "cell_type": "code",
   "execution_count": null,
   "id": "durable-watson",
   "metadata": {},
   "outputs": [],
   "source": [
    "t1"
   ]
  },
  {
   "cell_type": "markdown",
   "id": "loaded-essence",
   "metadata": {},
   "source": [
    "运算符 + 创建了一个新列表，而不改变原始的列表。\n",
    "\n",
    "如果你要编写一个修改列表的函数，这一点就很重要。 例如，这个函数 *不会*\n",
    "删除列表的第一个元素："
   ]
  },
  {
   "cell_type": "code",
   "execution_count": null,
   "id": "sacred-manor",
   "metadata": {},
   "outputs": [],
   "source": [
    "def bad_delete_head(t):\n",
    "    t = t[1:]              # 错的！"
   ]
  },
  {
   "cell_type": "markdown",
   "id": "educated-substance",
   "metadata": {},
   "source": [
    "切片运算符创建了一个新列表，然后这个表达式让 `t` 指向了它，\n",
    "但是并不会影响原来被调用的列表。"
   ]
  },
  {
   "cell_type": "code",
   "execution_count": null,
   "id": "acknowledged-guatemala",
   "metadata": {},
   "outputs": [
    {
     "data": {
      "text/plain": [
       "[1, 2, 3]"
      ]
     },
     "execution_count": 1,
     "metadata": {},
     "output_type": "execute_result"
    }
   ],
   "source": [
    "t4 = [1, 2, 3]\n",
    "bad_delete_head(t4)\n",
    "t4"
   ]
  },
  {
   "cell_type": "markdown",
   "id": "scenic-entrepreneur",
   "metadata": {},
   "source": [
    "在 `bad_delete_head` 的开始处，`t` 和 `t4` 指向同一个列表。在结束时，`t`\n",
    "指向一个新列表，但是 `t4` 仍然指向原来的、没有被改动的列表。\n",
    "\n",
    "一个替代的写法是，写一个创建并返回一个新列表的函数。 例如，`tail`\n",
    "返回列表中除了第一个之外的所有元素："
   ]
  },
  {
   "cell_type": "code",
   "execution_count": null,
   "id": "ethical-gates",
   "metadata": {},
   "outputs": [],
   "source": [
    "def tail(t):\n",
    "    return t[1:]"
   ]
  },
  {
   "cell_type": "markdown",
   "id": "sixth-cherry",
   "metadata": {},
   "source": [
    "这个函数不会修改原来的列表。下面是函数的使用方法："
   ]
  },
  {
   "cell_type": "code",
   "execution_count": null,
   "id": "brief-blank",
   "metadata": {},
   "outputs": [
    {
     "data": {
      "text/plain": [
       "['b', 'c']"
      ]
     },
     "execution_count": 1,
     "metadata": {},
     "output_type": "execute_result"
    }
   ],
   "source": [
    "letters = ['a', 'b', 'c']\n",
    "rest = tail(letters)\n",
    "rest"
   ]
  },
  {
   "cell_type": "markdown",
   "id": "democratic-wealth",
   "metadata": {},
   "source": [
    "## 调试\n",
    "\n",
    "粗心地使用列表（以及其他可变对象）会导致长时间的调试。\n",
    "下面列举一些常见的陷阱以及避免它们的方法：\n",
    "\n",
    "1.  大多数的列表方法会对参数进行修改，然后返回 `None`\n",
    "    。这和字符串方法相反，后者保留原始的字符串并返回一个新的字符串。"
   ]
  },
  {
   "cell_type": "markdown",
   "id": "unusual-lighter",
   "metadata": {},
   "source": [
    "\n",
    "    如果你习惯这样写字符串代码：\n",
    "```{.python .input}\n",
    "    word = word.strip()\n",
    "```\n",
    "\n",
    "    那么你很可能会写出下面的列表代码：\n",
    "```{.python .input}\n",
    "    t = t.sort()           # 错误！\n",
    "```\n",
    "\n",
    "    因为 `sort` 返回 `None` ，所以你的下一个对 `t`\n",
    "    执行的操作很可能会失败。\n",
    "\n",
    "    在使用 `list`\n",
    "    方法和操作符之前，你应该仔细阅读文档，然后在交互模式下测试。\n"
   ]
  },
  {
   "cell_type": "markdown",
   "id": "geological-western",
   "metadata": {},
   "source": [
    "2.  选择一种写法，坚持下去。"
   ]
  },
  {
   "cell_type": "markdown",
   "id": "separated-gravity",
   "metadata": {},
   "source": [
    "\n",
    "    列表的一个问题就是有太多方法可以做同样的事情。\n",
    "    例如，要删除列表中的一个元素，你可以使用 `pop` 、`remove` 、`del`\n",
    "    甚至是切片赋值。\n",
    "\n",
    "    要添加一个元素，你可以使用 `append` 方法或者 + 运算符。假设 `t`\n",
    "    是一个列表，`x` 是一个列表元素，以下这些写法都是正确的：\n",
    "```{.python .input}\n",
    "    t.append(x)\n",
    "    t = t + [x]\n",
    "    t += [x]\n",
    "```\n",
    "\n",
    "    而这些是错误的：\n",
    "```{.python .input}\n",
    "    t.append([x])          # 错误！\n",
    "    t = t.append(x)        # 错误！\n",
    "    t + [x]                # 错误！\n",
    "    t = t + x              # 错误！\n",
    "```\n",
    "\n",
    "    在交互模式下尝试每一个例子，保证你明白它们做了什么。\n",
    "    注意只有最后一个会导致运行时错误；其他的都是合乎规范的的，但结果却是错的。\n"
   ]
  },
  {
   "cell_type": "markdown",
   "id": "simple-lightning",
   "metadata": {},
   "source": [
    "3.  通过创建拷贝来避免别名."
   ]
  },
  {
   "cell_type": "markdown",
   "id": "checked-necessity",
   "metadata": {},
   "source": [
    "\n",
    "    如果你要使用类似 `sort` 这样的方法来修改参数，\n",
    "    但同时有要保留原列表，你可以创建一个拷贝。\n",
    "```{.python .input}\n",
    "    t = [3, 1, 2]\n",
    "    t2 = t[:]\n",
    "    t2.sort()\n",
    "    t\n",
    "```\n",
    "```{.json .output}\n",
    "    [{\"data\": {\"text/plain\": \"[3, 1, 2]\"}, \"execution_count\": 1, \"metadata\": {}, \"output_type\": \"execute_result\"}]\n",
    "```\n",
    "```{.python .input}\n",
    "    t2\n",
    "```\n",
    "```{.json .output}\n",
    "    [{\"data\": {\"text/plain\": \"[1, 2, 3]\"}, \"execution_count\": 1, \"metadata\": {}, \"output_type\": \"execute_result\"}]\n",
    "```\n",
    "\n",
    "    在这个例子中，你还可以使用内置函数 `sorted`\n",
    "    ，它将返回一个新的已排序的列表，原列表将保持不变。\n",
    "```{.python .input}\n",
    "    t2 = sorted(t)\n",
    "    t\n",
    "```\n",
    "```{.json .output}\n",
    "    [{\"data\": {\"text/plain\": \"[3, 1, 2]\"}, \"execution_count\": 1, \"metadata\": {}, \"output_type\": \"execute_result\"}]\n",
    "```\n",
    "```{.python .input}\n",
    "    t2\n",
    "```\n",
    "```{.json .output}\n",
    "    [{\"data\": {\"text/plain\": \"[1, 2, 3]\"}, \"execution_count\": 1, \"metadata\": {}, \"output_type\": \"execute_result\"}]\n",
    "```\n"
   ]
  },
  {
   "cell_type": "markdown",
   "id": "distinguished-midnight",
   "metadata": {},
   "source": [
    "## 术语表\n",
    "\n",
    "列表（list）:\n",
    "\n",
    "> 多个值组成的序列。\n",
    "\n",
    "元素（element）:\n",
    "\n",
    "> 列表（或序列）中的一个值，也称为项。\n",
    "\n",
    "嵌套列表（nested list）:\n",
    "\n",
    "> 作为另一个列表的元素的列表。\n",
    "\n",
    "累加器（accumulator）:\n",
    "\n",
    "> 循环中用于相加或累积出一个结果的变量。\n",
    "\n",
    "增量赋值语句（augmented assignment）:\n",
    "\n",
    "> 一个使用类似 `+=` 操作符来更新一个变量的值的语句。\n",
    "\n",
    "归并（reduce）:\n",
    "\n",
    "> 遍历序列，将所有元素求和为一个值的处理模式。\n",
    "\n",
    "映射（map）:\n",
    "\n",
    "> 遍历序列，对每个元素执行操作的处理模式。\n",
    "\n",
    "筛选（filter）:\n",
    "\n",
    "> 遍历序列，选出满足一定标准的元素的处理模式。\n",
    "\n",
    "对象（object）:\n",
    "\n",
    "> 变量可以指向的东西。一个对象有数据类型和值。\n",
    "\n",
    "相等（equivalent）:\n",
    "\n",
    "> 有相同的值。\n",
    "\n",
    "相同（identical）:\n",
    "\n",
    "> 是同一个对象（隐含着相等）。\n",
    "\n",
    "引用（reference）:\n",
    "\n",
    "> 一个变量和它的值之间的关联。\n",
    "\n",
    "别名使用:\n",
    "\n",
    "> 两个或者两个以上变量指向同一个对象的情况。\n",
    "\n",
    "分隔符（delimiter）:\n",
    "\n",
    "> 一个用于指示字符串分割位置的字符或者字符串。\n",
    "\n",
    "## 练习题\n",
    "\n",
    "你可以从 <http://thinkpython2.com/code/list_exercises.py>\n",
    "下载这些练习题的答案。\n",
    "\n",
    "### 习题10-1\n",
    "\n",
    "编写一个叫做 `nested_sum`\n",
    "的函数，接受一个由一些整数列表构成的列表作为参数，并将所有嵌套列表中的元素相加。\n",
    "例如："
   ]
  },
  {
   "cell_type": "code",
   "execution_count": null,
   "id": "hidden-crack",
   "metadata": {},
   "outputs": [
    {
     "data": {
      "text/plain": [
       "21"
      ]
     },
     "execution_count": 1,
     "metadata": {},
     "output_type": "execute_result"
    }
   ],
   "source": [
    "t = [[1, 2], [3], [4, 5, 6]]\n",
    "nested_sum(t)"
   ]
  },
  {
   "cell_type": "markdown",
   "id": "taken-attack",
   "metadata": {},
   "source": [
    "### 习题10-2\n",
    "\n",
    "编写一个叫做 `cumsum` 的函数，接受一个由数值组成的列表，并返回累加和；\n",
    "即一个新列表，其中第$i$个元素是原列表中前$i+1$个元素的和。 例如："
   ]
  },
  {
   "cell_type": "code",
   "execution_count": null,
   "id": "returning-brook",
   "metadata": {},
   "outputs": [
    {
     "data": {
      "text/plain": [
       "[1, 3, 6]"
      ]
     },
     "execution_count": 1,
     "metadata": {},
     "output_type": "execute_result"
    }
   ],
   "source": [
    "t = [1, 2, 3]\n",
    "cumsum(t)"
   ]
  },
  {
   "cell_type": "markdown",
   "id": "sweet-attribute",
   "metadata": {},
   "source": [
    "### 习题10-3\n",
    "\n",
    "编写一个叫做 `middle`\n",
    "的函数，接受一个列表作为参数，并返回一个除了第一个和最后一个元素的列表。\n",
    "例如："
   ]
  },
  {
   "cell_type": "code",
   "execution_count": null,
   "id": "revolutionary-large",
   "metadata": {},
   "outputs": [
    {
     "data": {
      "text/plain": [
       "[2, 3]"
      ]
     },
     "execution_count": 1,
     "metadata": {},
     "output_type": "execute_result"
    }
   ],
   "source": [
    "t = [1, 2, 3, 4]\n",
    "middle(t)"
   ]
  },
  {
   "cell_type": "markdown",
   "id": "juvenile-specification",
   "metadata": {},
   "source": [
    "### 习题10-4\n",
    "\n",
    "编写一个叫做 `chop`\n",
    "的函数，接受一个列表作为参数，移除第一个和最后一个元素，并返回None。\n",
    "例如："
   ]
  },
  {
   "cell_type": "code",
   "execution_count": null,
   "id": "homeless-kinase",
   "metadata": {},
   "outputs": [
    {
     "data": {
      "text/plain": [
       "[2, 3]"
      ]
     },
     "execution_count": 1,
     "metadata": {},
     "output_type": "execute_result"
    }
   ],
   "source": [
    "t = [1, 2, 3, 4]\n",
    "chop(t)\n",
    "t"
   ]
  },
  {
   "cell_type": "markdown",
   "id": "specialized-voltage",
   "metadata": {},
   "source": [
    "### 习题10-5\n",
    "\n",
    "编写一个叫做`is_sorted`的函数，接受一个列表作为参数，\n",
    "如果列表是递增排列的则返回 `True` ，否则返回False。 例如："
   ]
  },
  {
   "cell_type": "code",
   "execution_count": null,
   "id": "standard-ferry",
   "metadata": {},
   "outputs": [
    {
     "data": {
      "text/plain": [
       "True"
      ]
     },
     "execution_count": 1,
     "metadata": {},
     "output_type": "execute_result"
    }
   ],
   "source": [
    "is_sorted([1, 2, 2])"
   ]
  },
  {
   "cell_type": "code",
   "execution_count": null,
   "id": "synthetic-priest",
   "metadata": {},
   "outputs": [
    {
     "data": {
      "text/plain": [
       "False"
      ]
     },
     "execution_count": 1,
     "metadata": {},
     "output_type": "execute_result"
    }
   ],
   "source": [
    "is_sorted(['b', 'a'])"
   ]
  },
  {
   "cell_type": "markdown",
   "id": "patent-trauma",
   "metadata": {},
   "source": [
    "### 习题10-6\n",
    "\n",
    "如果可以通过重排一个单词中字母的顺序，得到另外一个单词，那么称这两个单词是变位词。\n",
    "编写一个叫做 `is_anagram` 的函数，接受两个字符串作为参数，\n",
    "如果它们是变位词则返回 `True` 。\n",
    "\n",
    "### 习题10-7\n",
    "\n",
    "编写一个叫做 `has_duplicates` 的函数，接受一个列表作为参数，\n",
    "如果一个元素在列表中出现了不止一次，则返回 `True` 。\n",
    "这个函数不能改变原列表。\n",
    "\n",
    "### 习题10-8\n",
    "\n",
    "这个习题与所谓的生日悖论有关。 你可以在\n",
    "<http://en.wikipedia.org/wiki/Birthday_paradox> 中了解更多相关的内容。\n",
    "\n",
    "如果你的班级上有23个学生， 2个学生生日相同的概率是多少？\n",
    "你可以通过随机产生23个生日，并检查匹配来估算概率。 提示：你可以使用\n",
    "`random` 模块中的 `randint` 函 数来生成随机生日。\n",
    "\n",
    "你可以从 <http://thinkpython2.com/code/birthday.py> 下载我的答案。\n",
    "\n",
    "### 习题10-9\n",
    "\n",
    "编写一个函数，读取文件 `words.txt`\n",
    "，建立一个列表,其中每个单词为一个元素。 编写两个版本，一个使用 `append`\n",
    "方法，另一个使用 `t = t + [x]` 。 那个版本运行得慢？为什么？\n",
    "\n",
    "答案： <http://thinkpython2.com/code/wordlist.py> 。\n",
    "\n",
    "### 习题10-10\n",
    "\n",
    "你可以使用 in\n",
    "运算符检查一个单词是否在单词表中，但这很慢，因为它是按顺序查找单词。\n",
    "\n",
    "由于单词是按照字母顺序排序的，我们可以使用两分法（也称二进制搜索）来加快速度，\n",
    "类似你在字典中查找单词的方法。\n",
    "你从中间开始，如果你要找的单词在中间的单词之前，你查找前半部分，否则你查找后半部分。\n",
    "\n",
    "不管怎样，你都会将搜索范围减小一半。 如果单词表有 113,809\n",
    "个单词，你只需要 17步就可以找到这个单词，或着得出单词不存在的结论。\n",
    "\n",
    "编写一个叫做 `in_bisect`\n",
    "的函数，接受一个已排序的列表和一个目标值作为参数，\n",
    "返回该值在列表中的位置，如果不存在则返回 `None` 。\n",
    "\n",
    "或者你可以阅读 `bisect` 模块的文档并使用它！\n",
    "\n",
    "答案： <http://thinkpython2.com/code/inlist.py>.\n",
    "\n",
    "### 习题10-11\n",
    "\n",
    "两个单词中如果一个是另一个的反转，则二者被称为是“反转词对”。\n",
    "编写一个函数，找出单词表中所有的反转词对。\n",
    "\n",
    "解答： <http://thinkpython2.com/code/reverse_pair.py> 。\n",
    "\n",
    "### 习题10-12\n",
    "\n",
    "如果交替的从两个单词中取出字符将组成一个新的单词，这两个单词被称为是“连锁词”。\n",
    "例如，“ shoe”和“ cold”连锁后成为“schooled”。\n",
    "\n",
    "答案： <http://thinkpython2.com/code/interlock.py> 。\n",
    "致谢：这个练习的灵感来自网站 <http://puzzlers.org> 的一个示例。\n",
    "\n",
    "1.  编写一个程序，找出单词表中所有的连锁词。提示：不要枚举所有的单词对。\n",
    "2.  你能够找到三重连锁的单词吗？即每个字母依次从3个单词得到。\n",
    "\n",
    "### **贡献者**\n",
    "\n",
    "1.  翻译：[@obserthinker](https://github.com/obserthinker)\n",
    "2.  校对：[@bingjin](https://github.com/bingjin)\n",
    "3.  参考：[@carfly](https://github.com/carfly)"
   ]
  }
 ],
 "metadata": {},
 "nbformat": 4,
 "nbformat_minor": 5
}
