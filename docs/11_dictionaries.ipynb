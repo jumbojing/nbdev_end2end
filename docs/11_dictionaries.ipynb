{
 "cells": [
  {
   "cell_type": "markdown",
   "id": "restricted-spyware",
   "metadata": {},
   "source": [
    "$$\n",
    "\\def\\CC{\\bf C}\n",
    "\\def\\QQ{\\bf Q}\n",
    "\\def\\RR{\\bf R}\n",
    "\\def\\ZZ{\\bf Z}\n",
    "\\def\\NN{\\bf N}\n",
    "$$\n",
    "# 第十一章：字典\n",
    "\n",
    "本章介绍另一个内建数据类型：字典(dictionary)。\n",
    "字典是Python中最优秀的特性之一；许多高效、优雅的算法即以此为基础。\n",
    "\n",
    "## 字典即映射\n",
    "\n",
    "**字典** 与列表类似，但是更加通用。\n",
    "在列表中，索引必须是整数；但在字典中，它们可以是（几乎）任何类型。\n",
    "\n",
    "字典包含了一个索引的集合，被称为 **键（keys）**\n",
    "，和一个值(values)的集合。 一个键对应一个值。这种一一对应的关联被称为\n",
    "**键值对（key-value pair)** ， 有时也被称为 **项（item）**。\n",
    "\n",
    "在数学语言中，字典表示的是从键到值的 **映射**，所以你也可以说每一个键\n",
    "“映射到” 一个值。\n",
    "举个例子，我们接下来创建一个字典，将英语单词映射至西班牙语单词，因此键和值都是字符串。\n",
    "\n",
    "`dict`函数生成一个不含任何项的新字典。 由于 `dict`\n",
    "是内建函数名，你应该避免使用它来命名变量。"
   ]
  },
  {
   "cell_type": "code",
   "execution_count": null,
   "id": "magnetic-heavy",
   "metadata": {},
   "outputs": [
    {
     "data": {
      "text/plain": [
       "{}"
      ]
     },
     "execution_count": 1,
     "metadata": {},
     "output_type": "execute_result"
    }
   ],
   "source": [
    "eng2sp = dict()\n",
    "eng2sp"
   ]
  },
  {
   "cell_type": "markdown",
   "id": "residential-alcohol",
   "metadata": {},
   "source": [
    "花括号 `{}` 表示一个空字典。你可以使用方括号向字典中增加项："
   ]
  },
  {
   "cell_type": "code",
   "execution_count": null,
   "id": "other-allah",
   "metadata": {},
   "outputs": [],
   "source": [
    "eng2sp['one'] = 'uno'"
   ]
  },
  {
   "cell_type": "markdown",
   "id": "ignored-clerk",
   "metadata": {},
   "source": [
    "这行代码创建一个新项，将键 `'one'` 映射至值 `'uno'`。\n",
    "如果我们再次打印该字典，会看到一个以冒号分隔的键值对："
   ]
  },
  {
   "cell_type": "code",
   "execution_count": null,
   "id": "strange-round",
   "metadata": {},
   "outputs": [
    {
     "data": {
      "text/plain": [
       "{'one': 'uno'}"
      ]
     },
     "execution_count": 1,
     "metadata": {},
     "output_type": "execute_result"
    }
   ],
   "source": [
    "eng2sp"
   ]
  },
  {
   "cell_type": "markdown",
   "id": "german-projection",
   "metadata": {},
   "source": [
    "输出的格式同样也是输入的格式。\n",
    "例如，你可以像这样创建一个包含三个项的字典："
   ]
  },
  {
   "cell_type": "code",
   "execution_count": null,
   "id": "curious-florence",
   "metadata": {},
   "outputs": [],
   "source": [
    "eng2sp = {'one': 'uno', 'two': 'dos', 'three': 'tres'}"
   ]
  },
  {
   "cell_type": "markdown",
   "id": "national-advantage",
   "metadata": {},
   "source": [
    "但是，如果你打印 `eng2sp` ，结果可能会让你感到意外："
   ]
  },
  {
   "cell_type": "code",
   "execution_count": null,
   "id": "still-bottom",
   "metadata": {},
   "outputs": [
    {
     "data": {
      "text/plain": [
       "{'one': 'uno', 'three': 'tres', 'two': 'dos'}"
      ]
     },
     "execution_count": 1,
     "metadata": {},
     "output_type": "execute_result"
    }
   ],
   "source": [
    "eng2sp"
   ]
  },
  {
   "cell_type": "markdown",
   "id": "aquatic-moldova",
   "metadata": {},
   "source": [
    "键-值对的顺序和原来不同。\n",
    "同样的例子在你的电脑上可能有不同的结果。通常来说，字典中项的顺序是不可预知的。\n",
    "\n",
    "但这没有关系，因为字典的元素不使用整数索引来索引，而是用键来查找对应的值："
   ]
  },
  {
   "cell_type": "code",
   "execution_count": null,
   "id": "royal-empty",
   "metadata": {},
   "outputs": [
    {
     "data": {
      "text/plain": [
       "'dos'"
      ]
     },
     "execution_count": 1,
     "metadata": {},
     "output_type": "execute_result"
    }
   ],
   "source": [
    "eng2sp['two']"
   ]
  },
  {
   "cell_type": "markdown",
   "id": "seven-tanzania",
   "metadata": {},
   "source": [
    "键 `'two'` 总是映射到值 `'dos'` ，因此项的顺序没有关系。\n",
    "\n",
    "如果键不存在字典中，会抛出一个异常："
   ]
  },
  {
   "cell_type": "code",
   "execution_count": null,
   "id": "mexican-laugh",
   "metadata": {},
   "outputs": [
    {
     "data": {
      "text/plain": [
       "KeyError: 'four'"
      ]
     },
     "execution_count": 1,
     "metadata": {},
     "output_type": "execute_result"
    }
   ],
   "source": [
    "eng2sp['four']"
   ]
  },
  {
   "cell_type": "markdown",
   "id": "korean-process",
   "metadata": {},
   "source": [
    "`len`函数也适用于字典；它返回键值对的个数："
   ]
  },
  {
   "cell_type": "code",
   "execution_count": null,
   "id": "ceramic-bullet",
   "metadata": {},
   "outputs": [
    {
     "data": {
      "text/plain": [
       "3"
      ]
     },
     "execution_count": 1,
     "metadata": {},
     "output_type": "execute_result"
    }
   ],
   "source": [
    "len(eng2sp)"
   ]
  },
  {
   "cell_type": "markdown",
   "id": "appreciated-noise",
   "metadata": {},
   "source": [
    "`in`操作符也适用于字典；它可以用来检验字典中是否存在某个 *键*\n",
    "（仅仅有这个值还不够）。"
   ]
  },
  {
   "cell_type": "code",
   "execution_count": null,
   "id": "reasonable-reviewer",
   "metadata": {},
   "outputs": [
    {
     "data": {
      "text/plain": [
       "True"
      ]
     },
     "execution_count": 1,
     "metadata": {},
     "output_type": "execute_result"
    }
   ],
   "source": [
    "'one' in eng2sp"
   ]
  },
  {
   "cell_type": "code",
   "execution_count": null,
   "id": "universal-moment",
   "metadata": {},
   "outputs": [
    {
     "data": {
      "text/plain": [
       "False"
      ]
     },
     "execution_count": 1,
     "metadata": {},
     "output_type": "execute_result"
    }
   ],
   "source": [
    "'uno' in eng2sp"
   ]
  },
  {
   "cell_type": "markdown",
   "id": "inclusive-sleeping",
   "metadata": {},
   "source": [
    "想要知道字典中是否存在某个值，你可以使用 `values`\n",
    "方法，它返回值的集合，然后你可以使用 `in` 操作符来验证："
   ]
  },
  {
   "cell_type": "code",
   "execution_count": null,
   "id": "interpreted-passing",
   "metadata": {},
   "outputs": [
    {
     "data": {
      "text/plain": [
       "True"
      ]
     },
     "execution_count": 1,
     "metadata": {},
     "output_type": "execute_result"
    }
   ],
   "source": [
    "vals = eng2sp.values()\n",
    "'uno' in vals"
   ]
  },
  {
   "cell_type": "markdown",
   "id": "informative-substance",
   "metadata": {},
   "source": [
    "`in`操作符对列表和字典采用不同的算法。\n",
    "对于列表，它按顺序依次查找目标，如[search2](search2.ipynb)一节所示。\n",
    "随着列表的增长，搜索时间成正比增长。\n",
    "\n",
    "对于字典，Python使用一种叫做 **哈希表（hashtable）** 的算法，\n",
    "这种算法具备一种了不起的特性： 无论字典中有多少项，`in`\n",
    "运算符搜索所需的时间都是一样的。我将在第二十一章的哈希表一节中具体解释背后的原理，\n",
    "但是如果你不再多学习几章内容，现在去看解释的话可能很难理解。\n",
    "\n",
    "## 字典作为计数器集合\n",
    "\n",
    "假设给你一个字符串，你想计算每个字母出现的次数。 有多种方法可以使用：\n",
    "\n",
    "1.  你可以生成26个变量，每个对应一个字母表中的字母。然后你可以遍历字符串，对于\n",
    "    每个字符，递增相应的计数器，你可能会用到链式条件。\n",
    "2.  你可以生成具有26个元素的列表。然后你可以将每个字符转化为一个数字（使用内建函数\n",
    "    `ord` ），使用这些数字作为列表的索引，并递增适当的计数器。\n",
    "3.  你可以生成一个字典，将字符作为键，计数器作为相应的值。字母第一次出现时，你应该向字典中增加一项。\n",
    "    这之后，你应该递增一个已有项的值。\n",
    "\n",
    "每个方法都是为了做同一件事，但是各自的实现方法不同。\n",
    "\n",
    "**实现** 是指执行某种计算的方法；有的实现更好。\n",
    "例如，使用字典的实现有一个优势，即我们不需要事先知道字符串中有几种字母，\n",
    "只要在出现新字母时分配空间就好了。\n",
    "\n",
    "代码可能是这样的："
   ]
  },
  {
   "cell_type": "code",
   "execution_count": null,
   "id": "portable-criticism",
   "metadata": {},
   "outputs": [],
   "source": [
    "def histogram(s):\n",
    "    d = dict()\n",
    "    for c in s:\n",
    "        if c not in d:\n",
    "            d[c] = 1\n",
    "        else:\n",
    "            d[c] += 1\n",
    "    return d"
   ]
  },
  {
   "cell_type": "markdown",
   "id": "clean-condition",
   "metadata": {},
   "source": [
    "函数名叫 `histogram` (直方图) ，是计数器（或是频率）集合的统计术语。\n",
    "\n",
    "函数的第一行生成一个空字典。`for` 循环遍历该字符串。 每次循环，如果字符\n",
    "`c` 不在字典中， 我们用键 `c` 和初始值 `1` 生成一个新项\n",
    "（因为该字母出现了一次）。 如果 `c` 已经在字典中了，那么我们递增 `d[c]`\n",
    "。\n",
    "\n",
    "下面是运行结果："
   ]
  },
  {
   "cell_type": "code",
   "execution_count": null,
   "id": "sharing-haven",
   "metadata": {},
   "outputs": [
    {
     "data": {
      "text/plain": [
       "{'a': 1, 'b': 1, 'o': 2, 'n': 1, 's': 2, 'r': 2, 'u': 2, 't': 1}"
      ]
     },
     "execution_count": 1,
     "metadata": {},
     "output_type": "execute_result"
    }
   ],
   "source": [
    "h = histogram('brontosaurus')\n",
    "h"
   ]
  },
  {
   "cell_type": "markdown",
   "id": "south-verse",
   "metadata": {},
   "source": [
    "`histogram`函数表明字母 `'a'` 和 `'b'` 出现了一次， `'o'`\n",
    "出现了两次，等等。\n",
    "\n",
    "字典类有一个 `get` 方法，接受一个键和一个默认值作为参数。\n",
    "如果字典中存在该键，则返回对应值；否则返回传入的默认值。例如："
   ]
  },
  {
   "cell_type": "code",
   "execution_count": null,
   "id": "rising-burlington",
   "metadata": {},
   "outputs": [
    {
     "data": {
      "text/plain": [
       "{'a': 1}"
      ]
     },
     "execution_count": 1,
     "metadata": {},
     "output_type": "execute_result"
    }
   ],
   "source": [
    "h = histogram('a')\n",
    "h"
   ]
  },
  {
   "cell_type": "code",
   "execution_count": null,
   "id": "immune-license",
   "metadata": {},
   "outputs": [
    {
     "data": {
      "text/plain": [
       "1"
      ]
     },
     "execution_count": 1,
     "metadata": {},
     "output_type": "execute_result"
    }
   ],
   "source": [
    "h.get('a', 0)"
   ]
  },
  {
   "cell_type": "code",
   "execution_count": null,
   "id": "careful-intellectual",
   "metadata": {},
   "outputs": [
    {
     "data": {
      "text/plain": [
       "0"
      ]
     },
     "execution_count": 1,
     "metadata": {},
     "output_type": "execute_result"
    }
   ],
   "source": [
    "h.get('b', 0)"
   ]
  },
  {
   "cell_type": "markdown",
   "id": "metric-cedar",
   "metadata": {},
   "source": [
    "我们做个练习，试着用 `get` 简化 `histogram` 函数。你应该能够不再使用\n",
    "`if` 语句。\n",
    "\n",
    "## 循环和字典\n",
    "\n",
    "在 `for` 循环中使用字典会遍历其所有的键。 例如，下面的 `print_hist`\n",
    "会打印所有键与对应的值："
   ]
  },
  {
   "cell_type": "code",
   "execution_count": null,
   "id": "solved-links",
   "metadata": {},
   "outputs": [],
   "source": [
    "def print_hist(h):\n",
    "    for c in h:\n",
    "        print(c, h[c])"
   ]
  },
  {
   "cell_type": "markdown",
   "id": "identified-canal",
   "metadata": {},
   "source": [
    "输出类似："
   ]
  },
  {
   "cell_type": "code",
   "execution_count": null,
   "id": "stuck-contributor",
   "metadata": {},
   "outputs": [
    {
     "data": {
      "text/plain": [
       "a 1\n",
       "p 1\n",
       "r 2\n",
       "t 1\n",
       "o 1"
      ]
     },
     "execution_count": 1,
     "metadata": {},
     "output_type": "execute_result"
    }
   ],
   "source": [
    "h = histogram('parrot')\n",
    "print_hist(h)"
   ]
  },
  {
   "cell_type": "markdown",
   "id": "assisted-marketing",
   "metadata": {},
   "source": [
    "重申一遍，字典中的键是无序的。\n",
    "如果要以确定的顺序遍历字典，你可以使用内建方法 `sorted`："
   ]
  },
  {
   "cell_type": "code",
   "execution_count": null,
   "id": "protective-circle",
   "metadata": {},
   "outputs": [
    {
     "data": {
      "text/plain": [
       "a 1\n",
       "o 1\n",
       "p 1\n",
       "r 2\n",
       "t 1"
      ]
     },
     "execution_count": 1,
     "metadata": {},
     "output_type": "execute_result"
    }
   ],
   "source": [
    "for key in sorted(h):\n",
    "    print(key, h[key])"
   ]
  },
  {
   "cell_type": "markdown",
   "id": "hollow-housing",
   "metadata": {},
   "source": [
    "## 逆向查找\n",
    "\n",
    "给定一个字典 `d` 以及一个键 `t` ，很容易找到相应的值 `v = d[k]` 。\n",
    "该运算被称作 **查找（lookup）** 。\n",
    "\n",
    "但是如果你想通过 `v` 找到 `k` 呢？\n",
    "有两个问题：第一，可能有不止一个的键其映射到值v。\n",
    "你可能可以找到唯一一个，不然就得用 `list` 把所有的键包起来。\n",
    "第二，没有简单的语法可以完成 **逆向查找（reverse\n",
    "lookup）**；你必须搜索。\n",
    "\n",
    "下面这个函数接受一个值并返回映射到该值的第一个键："
   ]
  },
  {
   "cell_type": "code",
   "execution_count": null,
   "id": "cooked-supply",
   "metadata": {},
   "outputs": [],
   "source": [
    "def reverse_lookup(d, v):\n",
    "    for k in d:\n",
    "        if d[k] == v:\n",
    "            return k\n",
    "    raise LookupError()"
   ]
  },
  {
   "cell_type": "markdown",
   "id": "brutal-butter",
   "metadata": {},
   "source": [
    "该函数是搜索模式的另一个例子，但是它使用了一个我们之前没有见过的特性，`raise`。\n",
    "**raise 语句** 能触发异常，这里它触发了\n",
    "`ValueError`，这是一个表示查找操作失败的内建异常。\n",
    "\n",
    "如果我们到达循环结尾，这意味着字典中不存在 `v`\n",
    "这个值，所以我们触发一个异常。\n",
    "\n",
    "下面是一个成功逆向查找的例子："
   ]
  },
  {
   "cell_type": "code",
   "execution_count": null,
   "id": "subtle-character",
   "metadata": {},
   "outputs": [
    {
     "data": {
      "text/plain": [
       "'r'"
      ]
     },
     "execution_count": 1,
     "metadata": {},
     "output_type": "execute_result"
    }
   ],
   "source": [
    "h = histogram('parrot')\n",
    "key = reverse_lookup(h, 2)\n",
    "key"
   ]
  },
  {
   "cell_type": "markdown",
   "id": "entire-label",
   "metadata": {},
   "source": [
    "和一个失败的例子："
   ]
  },
  {
   "cell_type": "code",
   "execution_count": null,
   "id": "sunrise-capitol",
   "metadata": {},
   "outputs": [
    {
     "data": {
      "text/plain": [
       "Traceback (most recent call last):\n",
       "  File \"<stdin>\", line 1, in <module>\n",
       "  File \"<stdin>\", line 5, in reverse_lookup\n",
       "LookupError"
      ]
     },
     "execution_count": 1,
     "metadata": {},
     "output_type": "execute_result"
    }
   ],
   "source": [
    "key = reverse_lookup(h, 3)"
   ]
  },
  {
   "cell_type": "markdown",
   "id": "portuguese-membership",
   "metadata": {},
   "source": [
    "你触发的异常和 `Python` 触发的产生效果一样：都打印一条回溯和错误信息。\n",
    "\n",
    "`raise`语句接受一个详细的错误信息作为可选的实参。 例如："
   ]
  },
  {
   "cell_type": "code",
   "execution_count": null,
   "id": "peaceful-partition",
   "metadata": {},
   "outputs": [
    {
     "data": {
      "text/plain": [
       "Traceback (most recent call last):\n",
       "  File \"<stdin>\", line 1, in ?\n",
       "LookupError: value does not appear in the dictionary"
      ]
     },
     "execution_count": 1,
     "metadata": {},
     "output_type": "execute_result"
    }
   ],
   "source": [
    "raise LookupError('value does not appear in the dictionary')"
   ]
  },
  {
   "cell_type": "markdown",
   "id": "comic-damages",
   "metadata": {},
   "source": [
    "逆向查找比正向查找慢得多；\n",
    "如果你频繁执行这个操作或是字典很大，程序性能会变差。\n",
    "\n",
    "## 字典和列表\n",
    "\n",
    "在字典中，列表可以作为值出现。\n",
    "例如，如果你有一个从字母映射到频率的字典， 而你想倒转它；\n",
    "也就是生成一个从频率映射到字母的字典。\n",
    "因为可能有些字母具有相同的频率，所以在倒转字典中的每个值应该是一个字母组成的列表。\n",
    "\n",
    "下面是一个倒转字典的函数："
   ]
  },
  {
   "cell_type": "code",
   "execution_count": null,
   "id": "raised-somewhere",
   "metadata": {},
   "outputs": [],
   "source": [
    "def invert_dict(d):\n",
    "    inverse = dict()\n",
    "    for key in d:\n",
    "        val = d[key]\n",
    "        if val not in inverse:\n",
    "            inverse[val] = [key]\n",
    "        else:\n",
    "            inverse[val].append(key)\n",
    "    return inverse"
   ]
  },
  {
   "cell_type": "markdown",
   "id": "monthly-python",
   "metadata": {},
   "source": [
    "每次循环，`key` 从 `d` 获得一个键和相应的值 `val` 。 如果 `val` 不在\n",
    "`inverse` 中，意味着我们之前没有见过它， 因此我们生成一个新项并用一个\n",
    "**单元素集合（singleton）** （只包含一个元素的列表）初始化它。\n",
    "否则就意味着之前已经见过该值，因此将其对应的键添加至列表。\n",
    "\n",
    "举个例子："
   ]
  },
  {
   "cell_type": "code",
   "execution_count": null,
   "id": "popular-yellow",
   "metadata": {},
   "outputs": [
    {
     "data": {
      "text/plain": [
       "{'a': 1, 'p': 1, 'r': 2, 't': 1, 'o': 1}"
      ]
     },
     "execution_count": 1,
     "metadata": {},
     "output_type": "execute_result"
    }
   ],
   "source": [
    "hist = histogram('parrot')\n",
    "hist"
   ]
  },
  {
   "cell_type": "code",
   "execution_count": null,
   "id": "optional-validation",
   "metadata": {},
   "outputs": [
    {
     "data": {
      "text/plain": [
       "{1: ['a', 'p', 't', 'o'], 2: ['r']}"
      ]
     },
     "execution_count": 1,
     "metadata": {},
     "output_type": "execute_result"
    }
   ],
   "source": [
    "inverse = invert_dict(hist)\n",
    "inverse"
   ]
  },
  {
   "cell_type": "markdown",
   "id": "powered-closer",
   "metadata": {},
   "source": [
    "<div id=\"fig.dict1\">\n",
    "\n",
    "![图11-1：状态图](figs/dict1.png)\n",
    "\n",
    "</div>\n",
    "\n",
    "`fig.dict1`是关于 `hist` 与 `inverse`\n",
    "的状态图。字典用标有类型dict的方框表示，方框中是键值对。如果值是整数、浮点数或字符串，\n",
    "我就把它们画在方框内部，但我通常把列表画在方框外面，目的只是为了不让图表变复杂。\n",
    "\n",
    "如本例所示，列表可以作为字典中的值，但是不能是键。\n",
    "下面演示了这样做的结果："
   ]
  },
  {
   "cell_type": "code",
   "execution_count": null,
   "id": "exceptional-helen",
   "metadata": {},
   "outputs": [
    {
     "data": {
      "text/plain": [
       "Traceback (most recent call last):\n",
       "  File \"<stdin>\", line 1, in ?\n",
       "TypeError: list objects are unhashable"
      ]
     },
     "execution_count": 1,
     "metadata": {},
     "output_type": "execute_result"
    }
   ],
   "source": [
    "t = [1, 2, 3]\n",
    "d = dict()\n",
    "d[t] = 'oops'"
   ]
  },
  {
   "cell_type": "markdown",
   "id": "expanded-writing",
   "metadata": {},
   "source": [
    "我之前提过，字典使用哈希表实现，这意味着键必须是\n",
    "**可哈希的（hashable）** 。\n",
    "\n",
    "**哈希（hash）** 函数接受一个值（任何类型）并返回一个整数。\n",
    "字典使用被称作哈希值的这些整数，来存储和查找键值对。\n",
    "\n",
    "如果键是不可变的，那么这种实现可以很好地工作。\n",
    "但是如果键是可变的，如列表，那么就会发生糟糕的事情。\n",
    "例如，当你生成一个键值对时，Python哈希该键并将其存储在相应的位置。\n",
    "如果你改变键然后再次哈希它，它将被存储到另一个位置。\n",
    "在那种情况下，对于相同的键，你可能有两个值， 或者你可能无法找到一个键。\n",
    "无论如何，字典都不会正确的工作。\n",
    "\n",
    "这就是为什么键必须是可哈希的，以及为什么如列表这种可变类型不能作为键。\n",
    "绕过这种限制最简单的方法是使用元组， 我们将在下一章中介绍。\n",
    "\n",
    "因为字典是可变的，因此它们不能作为键，但是 *可以* 用作值。\n",
    "\n",
    "## 备忘录\n",
    "\n",
    "如果你在 [onemoreexample](onemoreexample.ipynb)一节中接触过 `fibonacci`\n",
    "函数，你可能注意到输入的实参越大，函数运行就需要越多时间。\n",
    "而且运行时间增长得非常快。\n",
    "\n",
    "要理解其原因，思考 `fig.fibonacci`，它展示了当 `n=4` 时 `fibonacci` 的\n",
    "**调用图（call graph）** ：\n",
    "\n",
    "<div id=\"fig.fibonacci\">\n",
    "\n",
    "![图11-2：调用图](figs/fibonacci.png)\n",
    "\n",
    "</div>\n",
    "\n",
    "调用图中列出了一系列函数栈帧，每个栈帧之间通过线条与调用它的函数栈帧相连。\n",
    "在图的顶端，`n=4` 的 `fibonacci` 调用 `n=3` 和 `n=2` 的 `fibonacci` 。\n",
    "接着，`n=3` 的 `fibonacci` 调用 `n=2` 和 `n=1` 的 `fibonacci`\n",
    "。以此类推。\n",
    "\n",
    "数数 `fibonacci(0)` 和 `fibonacci(1)` 总共被调用了几次。\n",
    "对该问题，这不是一个高效的解，并且随着实参的变大会变得更糟。\n",
    "\n",
    "一个解决办法是保存已经计算过的值，将它们存在一个字典中。\n",
    "存储之前计算过的值以便今后使用，它被称作 **备忘录（memo）** 。\n",
    "下面是使用备忘录（memoized）的 `fibonacci` 的实现："
   ]
  },
  {
   "cell_type": "code",
   "execution_count": null,
   "id": "individual-familiar",
   "metadata": {},
   "outputs": [],
   "source": [
    "known = {0:0, 1:1}\n",
    "\n",
    "def fibonacci(n):\n",
    "    if n in known:\n",
    "        return known[n]\n",
    "\n",
    "    res = fibonacci(n-1) + fibonacci(n-2)\n",
    "    known[n] = res\n",
    "    return res"
   ]
  },
  {
   "cell_type": "markdown",
   "id": "developmental-plastic",
   "metadata": {},
   "source": [
    "`known`是一个字典，记录了我们已经计算过的斐波纳契数字。\n",
    "它一开始包含两个项：0映射到0，1映射到1。\n",
    "\n",
    "当 `fibonacci` 被调用时，它先检查 `known` 。 如果结果存在，则立即返回。\n",
    "否则，它必须计算新的值，将其加入字典，并返回它。\n",
    "\n",
    "将两个版本的 `fibonacci` 函数比比看，你就知道后者快了很多。\n",
    "\n",
    "## 全局变量\n",
    "\n",
    "在前面的例子中，`known` 是在函数的外部创建的， 因此它属于被称作\n",
    "`__main__` 的特殊帧。 因为 `__main__`\n",
    "中的变量可以被任何函数访问，它们也被称作 **全局变量（global）** 。\n",
    "与函数结束时就会消失的局部变量不同，不同函数调用时全局变量一直都存在。\n",
    "\n",
    "全局变量普遍用作 **标记（flag）**；\n",
    "也就是说明（标记）一个条件是否为真的布尔变量。\n",
    "例如，一些程序使用一个被称作 `verbose` 的标记来控制输出的丰富程度："
   ]
  },
  {
   "cell_type": "code",
   "execution_count": null,
   "id": "promotional-vector",
   "metadata": {},
   "outputs": [],
   "source": [
    "verbose = True\n",
    "\n",
    "def example1():\n",
    "    if verbose:\n",
    "        print('Running example1')"
   ]
  },
  {
   "cell_type": "markdown",
   "id": "married-manhattan",
   "metadata": {},
   "source": [
    "如果你试图对一个全局变量重新赋值，结果可能出乎意料。\n",
    "下面的例子本应该记录函数是否已经被调用过了："
   ]
  },
  {
   "cell_type": "code",
   "execution_count": null,
   "id": "unsigned-chemical",
   "metadata": {},
   "outputs": [],
   "source": [
    "been_called = False\n",
    "\n",
    "def example2():\n",
    "    been_called = True         # 错误"
   ]
  },
  {
   "cell_type": "markdown",
   "id": "extraordinary-dominant",
   "metadata": {},
   "source": [
    "但是如果你运行它，你会发现 `been_called` 的值并未发生改变。 问题在于\n",
    "`example2` 生成了一个新的被称作 `been_called` 的局部变量。\n",
    "当函数结束的时候，该局部变量也消失了，并且对全局变量没有影响。\n",
    "\n",
    "要在函数内对全局变量重新赋值，你必须在使用之前 **声明(declare)**\n",
    "该全局变量："
   ]
  },
  {
   "cell_type": "code",
   "execution_count": null,
   "id": "automotive-stereo",
   "metadata": {},
   "outputs": [],
   "source": [
    "been_called = False\n",
    "\n",
    "def example2():\n",
    "    global been_called\n",
    "    been_called = True"
   ]
  },
  {
   "cell_type": "markdown",
   "id": "signed-talent",
   "metadata": {},
   "source": [
    "**global 语句** 告诉编译器，“在这个函数里，当我说 `been_called`\n",
    "时，我指的是那个全局变量，别生成局部变量”。\n",
    "\n",
    "下面是一个试图更新全局变量的例子："
   ]
  },
  {
   "cell_type": "code",
   "execution_count": null,
   "id": "accepted-north",
   "metadata": {},
   "outputs": [],
   "source": [
    "count = 0\n",
    "\n",
    "def example3():\n",
    "    count = count + 1          # 错误"
   ]
  },
  {
   "cell_type": "markdown",
   "id": "rotary-given",
   "metadata": {},
   "source": [
    "一旦运行，你会发现："
   ]
  },
  {
   "cell_type": "code",
   "execution_count": null,
   "id": "perceived-turning",
   "metadata": {},
   "outputs": [],
   "source": [
    "UnboundLocalError: local variable 'count' referenced before assignment"
   ]
  },
  {
   "cell_type": "markdown",
   "id": "stupid-earth",
   "metadata": {},
   "source": [
    "Python默认 `count`\n",
    "是局部变量，在这个假设下，你这是在未写入任何东西前就试图读取。\n",
    "解决方法还是声明 `count` 是全局变量。"
   ]
  },
  {
   "cell_type": "code",
   "execution_count": null,
   "id": "hungry-lancaster",
   "metadata": {},
   "outputs": [],
   "source": [
    "def example3():\n",
    "    global count\n",
    "    count += 1"
   ]
  },
  {
   "cell_type": "markdown",
   "id": "defined-underwear",
   "metadata": {},
   "source": [
    "如果全局变量是可变的，你可以不加声明地修改它："
   ]
  },
  {
   "cell_type": "code",
   "execution_count": null,
   "id": "convertible-editing",
   "metadata": {},
   "outputs": [],
   "source": [
    "known = {0:0, 1:1}\n",
    "\n",
    "def example4():\n",
    "    known[2] = 1"
   ]
  },
  {
   "cell_type": "markdown",
   "id": "neutral-latino",
   "metadata": {},
   "source": [
    "因此你可以增加、删除和替代全局列表或者字典的元素，\n",
    "但是如果你想对变量重新赋值，你必须声明它："
   ]
  },
  {
   "cell_type": "code",
   "execution_count": null,
   "id": "federal-shore",
   "metadata": {},
   "outputs": [],
   "source": [
    "def example5():\n",
    "    global known\n",
    "    known = dict()"
   ]
  },
  {
   "cell_type": "markdown",
   "id": "optimum-stream",
   "metadata": {},
   "source": [
    "全局变量有时是很有用的，但如果你的程序中有很多全局变量，而且修改频繁，\n",
    "这样会增加程序调试的难度。\n",
    "\n",
    "## 调试\n",
    "\n",
    "当你操作较大的数据集时，通过打印并手工检查数据来调试很不方便。\n",
    "下面是针对调试大数据集的一些建议：\n",
    "\n",
    "缩小输入：\n",
    "\n",
    "> 如果可能，减小数据集合的大小。\n",
    "> 例如，如果程序读入一个文本文件，从前10行开始分析，或是找到更小的样例。\n",
    "> 你可以选择编辑读入的文件，或是（最好）修改程序使它只读入前 n 行。\n",
    ">\n",
    "> 如果出错了，你可以将 n\n",
    "> 缩小为会导致该错误的最小值，然后在查找和解决错误的同时，逐步增加 n\n",
    "> 的值。\n",
    "\n",
    "检查摘要和类型：\n",
    "\n",
    "> 考虑打印数据的摘要，而不是打印并检查全部数据集合：\n",
    "> 例如，字典中项的数目或者数字列表的总和。\n",
    ">\n",
    "> 运行时错误的一个常见原因，是值的类型不正确。\n",
    "> 为了调试此类错误，打印值的类型通常就足够了。\n",
    "\n",
    "编写自检代码：\n",
    "\n",
    "> 有时你可以写代码来自动检查错误。\n",
    "> 例如，如果你正在计算数字列表的平均数，你可以检查其结果是不是大于列表中最大的元素，或者小于最小的元素。\n",
    "> 这被称 作“合理性检查”，因为它能检测出“不合理的”结果。\n",
    ">\n",
    "> 另一类检查是比较两个不同计算的结果，来看一下它们是否一致。这被称作“一致性检查”。\n",
    "\n",
    "格式化输出：\n",
    "\n",
    "> 格式化调试输出能够更容易定位一个错误。\n",
    "> 我们在[factdebug](factdebug.ipynb)一节中看过一个示例。`pprint`\n",
    "> 模块提供了一个 `pprint` 函数，它可以更可读的格式显示内建类型（\n",
    "> `pprint` 代表 “pretty print”）。\n",
    "\n",
    "重申一次，你花在搭建脚手架上的时间能减少你花在调试上的时间。\n",
    "\n",
    "## 术语表\n",
    "\n",
    "映射（mapping）：\n",
    "\n",
    "> 一个集合中的每个元素对应另一个集合中的一个元素的关系。\n",
    "\n",
    "字典（dictionary）：\n",
    "\n",
    "> 将键映射到对应值的映射。\n",
    "\n",
    "键值对（key-value pair）：\n",
    "\n",
    "> 键值之间映射关系的呈现形式。\n",
    "\n",
    "项（item）：\n",
    "\n",
    "> 在字典中，这是键值对的另一个名称。\n",
    "\n",
    "键（key）：\n",
    "\n",
    "> 字典中作为键值对第一部分的对象。\n",
    "\n",
    "值（value）：\n",
    "\n",
    "> 字典中作为键值对第二部分的对象。它比我们之前所用的“值”一词更具体。\n",
    "\n",
    "实现（implementation）：\n",
    "\n",
    "> 执行计算的一种形式。\n",
    "\n",
    "哈希表（hashtable）：\n",
    "\n",
    "> 用来实现Python字典的算法。\n",
    "\n",
    "哈希函数（hash function）：\n",
    "\n",
    "> 哈希表用来计算键的位置的函数。\n",
    "\n",
    "可哈希的（hashable）：\n",
    "\n",
    "> 具备哈希函数的类型。诸如整数、浮点数和字符串这样的不可变类型是可哈希的；诸如列表和字典这样的可变对象是不可哈希的。\n",
    "\n",
    "查找（lookup）：\n",
    "\n",
    "> 接受一个键并返回相应值的字典操作。\n",
    "\n",
    "逆向查找（reverse lookup）：\n",
    "\n",
    "> 接受一个值并返回一个或多个映射至该值的键的字典操作。\n",
    "\n",
    "raise语句：\n",
    "\n",
    "> 专门印发异常的一个语句。\n",
    "\n",
    "单元素集合（singleton）：\n",
    "\n",
    "> 只有一个元素的列表（或其他序列）。\n",
    "\n",
    "调用图（call graph）：\n",
    "\n",
    "> 绘出程序执行过程中创建的每个栈帧的调用图，其中的箭头从调用者指向被调用者。\n",
    "\n",
    "备忘录（memo）：\n",
    "\n",
    "> 一个存储的计算值，避免之后进行不必要的计算。\n",
    "\n",
    "全局变量（global variable）：\n",
    "\n",
    "> 在函数外部定义的变量。任何函数都可以访问全局变量。\n",
    "\n",
    "global语句：\n",
    "\n",
    "> 将变量名声明为全局变量的语句。\n",
    "\n",
    "标记（flag）：\n",
    "\n",
    "> 用于说明一个条件是否为真的布尔变量。\n",
    "\n",
    "声明（declaration）：\n",
    "\n",
    "> 类似global这种告知解释器如何处理变量的语句。\n",
    "\n",
    "## 练习题\n",
    "\n",
    "### 习题11-1\n",
    "\n",
    "编写一函数，读取 `words.txt`\n",
    "中的单词并存储为字典中的键。值是什么无所谓。 然后，你可以使用 `in`\n",
    "操作符检查一个字符串是否在字典中。\n",
    "\n",
    "如果你做过[exercise10-10](exercise10-10.ipynb)，可以比较一下 `in` 操作符\n",
    "和二分查找的速度。\n",
    "\n",
    "### 习题11-2\n",
    "\n",
    "查看字典方法 `setdefault` 的文档，并使用该方法写一个更简洁的\n",
    "`invert_dict` 。\n",
    "\n",
    "答案： <http://thinkpython2.com/code/invert_dict.py> 。\n",
    "\n",
    "### 习题11-3\n",
    "\n",
    "将[exercise6-2](exercise6-2.ipynb)中的Ackermann函数备忘录化（memoize），看看备忘录化（memoization）是否可以支持解决更大的参数。没有提示！\n",
    "\n",
    "答案： <http://thinkpython2.com/code/ackermann_memo.py> 。\n",
    "\n",
    "### 习题11-4\n",
    "\n",
    "如果你做了[exercise10-7](exercise10-7.ipynb)，你就已经写过一个叫\n",
    "`has_duplicates`\n",
    "的函数，它接受一个列表作为参数，如果其中有某个对象在列表中出现不止一次就返回True。\n",
    "\n",
    "用字典写个更快、更简单的版本。\n",
    "\n",
    "答案： <http://thinkpython2.com/code/has_duplicates.py> 。\n",
    "\n",
    "### 习题11-5\n",
    "\n",
    "两个单词如果反转其中一个就会得到另一个，则被称作“反转对”（参见[exercise8-5](exercise8-5.ipynb)中的\n",
    "`rotate_word` ）。\n",
    "\n",
    "编写一程序，读入单词表并找到所有反转对。\n",
    "\n",
    "答案： <http://thinkpython2.com/code/rotate_pairs.py> 。\n",
    "\n",
    "### 习题11-6\n",
    "\n",
    "下面是取自 *Car Talk*\n",
    "的另一个字谜题(<http://www.cartalk.com/content/puzzlers>)：\n",
    "\n",
    "> 这是来自一位名叫Dan\n",
    "> O'Leary的朋友的分享。他有一次碰到了一个常见的单音节、有五个字母的单词，它具备以下独特的特性。当你移除第一个字母时，剩下的字母组成了原单词的同音词，即发音完全相同的单词。将第一个字母放回，然后取出第二个字母，结果又是原单词的另一个同音词。那么问题来了，这个单词是什么？\n",
    ">\n",
    "> 接下来我给大家举一个不满足要求的例子。我们来看一个五个字母的单词“wrack”。W-R-A-C-K，常用短句为“wrack\n",
    "> with\n",
    "> pain”。如果我移除第一个字母，就剩下了一个四个字母的单词“R-A-C-K”。可以这么用，“Holy\n",
    "> cow, did you see the rack on that buck! It must have been a\n",
    "> nine-pointer!”它是一个完美的同音词。如果你把“w”放回去，移除“r”，你得到的单词是“wack”。这是一个真实的单词，但并不是前两个单词的同音词。\n",
    ">\n",
    "> 不过，我们和Dan知道至少有一个单词是满足这个条件的，即移除前两个字母中的任意一个，将会得到两个新的由四个字母组成的单词，而且发音完全一致。那么这个单词是什么呢？\n",
    "\n",
    "你可以使用[exercise11-1](exercise11-1.ipynb)中的字典检查某字符串是否出现在单词表中。\n",
    "\n",
    "你可以使用CMU发音字典检查两个单词是否为同音词。从\n",
    "<http://www.speech.cs.cmu.edu/cgi-bin/cmudict> 或\n",
    "<http://thinkpython2.com/code/c06d> 即可下载。你还可以下载\n",
    "<http://thinkpython2.com/code/pronounce.py> 这个脚本，其中提供了一个名叫\n",
    "`read_dictionary`\n",
    "的函数，可以读取发音字典，并返回一个将每个单词映射至描述其主要梵音的字符串的Python字典。\n",
    "\n",
    "编写一个程序，找到满足字谜题条件的所有单词。\n",
    "\n",
    "### **贡献者**\n",
    "\n",
    "1.  翻译：[@theJian](https://github.com/thejian) &\n",
    "    [@bingjin](https://github.com/bingjin)\n",
    "2.  校对：[@bingjin](https://github.com/bingjin)\n",
    "3.  参考：[@carfly](https://github.com/carfly)"
   ]
  }
 ],
 "metadata": {},
 "nbformat": 4,
 "nbformat_minor": 5
}
