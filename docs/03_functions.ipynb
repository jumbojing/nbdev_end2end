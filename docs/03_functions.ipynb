{
 "cells": [
  {
   "cell_type": "markdown",
   "id": "amazing-receptor",
   "metadata": {},
   "source": [
    "$$\n",
    "\\def\\CC{\\bf C}\n",
    "\\def\\QQ{\\bf Q}\n",
    "\\def\\RR{\\bf R}\n",
    "\\def\\ZZ{\\bf Z}\n",
    "\\def\\NN{\\bf N}\n",
    "$$\n",
    "# 第三章：函数\n",
    "\n",
    "在编程的语境下，**函数（function）**指的是一个有命名的、执行某个计算的语句序列（sequence\n",
    "of statements）。 在定义一个函数的时候，你需要指定函数的名字和语句序列。\n",
    "之后，你可以通过这个名字“调用（call）”该函数。\n",
    "\n",
    "## 函数调用\n",
    "\n",
    "我们已经看见过一个**函数调用（function call）**的例子。"
   ]
  },
  {
   "cell_type": "code",
   "execution_count": null,
   "id": "placed-excess",
   "metadata": {},
   "outputs": [
    {
     "data": {
      "text/plain": [
       "<class 'int'>"
      ]
     },
     "execution_count": 1,
     "metadata": {},
     "output_type": "execute_result"
    }
   ],
   "source": [
    "type(42)"
   ]
  },
  {
   "cell_type": "markdown",
   "id": "racial-protection",
   "metadata": {},
   "source": [
    "这个函数的名字是 `type`。括号中的表达式被称为这个函数的\n",
    "**实参（argument）**。这个函数执行的结果，就是实参的类型。\n",
    "\n",
    "人们常说函数“接受（accept）”实参，然后“返回(return)”一个结果。\n",
    "该结果也被称为**返回值（return value）**。\n",
    "\n",
    "Python提供了能够将值从一种类型转换为另一种类型的内建函数。 函数 `int`\n",
    "接受任意值，并在其能做到的情况下，将该值转换成一个整型数， 否则会报错："
   ]
  },
  {
   "cell_type": "code",
   "execution_count": null,
   "id": "increased-canyon",
   "metadata": {},
   "outputs": [
    {
     "data": {
      "text/plain": [
       "32"
      ]
     },
     "execution_count": 1,
     "metadata": {},
     "output_type": "execute_result"
    }
   ],
   "source": [
    "int('32')"
   ]
  },
  {
   "cell_type": "code",
   "execution_count": null,
   "id": "polished-architect",
   "metadata": {},
   "outputs": [
    {
     "data": {
      "text/plain": [
       "ValueError: invalid literal for int(): Hello"
      ]
     },
     "execution_count": 1,
     "metadata": {},
     "output_type": "execute_result"
    }
   ],
   "source": [
    "int('Hello')"
   ]
  },
  {
   "cell_type": "markdown",
   "id": "pretty-worthy",
   "metadata": {},
   "source": [
    "`int` 能将浮点数转换为整型数，但是它并不进行舍入；只是截掉了小数点部分："
   ]
  },
  {
   "cell_type": "code",
   "execution_count": null,
   "id": "optical-sequence",
   "metadata": {},
   "outputs": [
    {
     "data": {
      "text/plain": [
       "3"
      ]
     },
     "execution_count": 1,
     "metadata": {},
     "output_type": "execute_result"
    }
   ],
   "source": [
    "int(3.99999)"
   ]
  },
  {
   "cell_type": "code",
   "execution_count": null,
   "id": "fundamental-knowing",
   "metadata": {},
   "outputs": [
    {
     "data": {
      "text/plain": [
       "-2"
      ]
     },
     "execution_count": 1,
     "metadata": {},
     "output_type": "execute_result"
    }
   ],
   "source": [
    "int(-2.3)"
   ]
  },
  {
   "cell_type": "markdown",
   "id": "right-browse",
   "metadata": {},
   "source": [
    "`float` 可以将整型数和字符串转换为浮点数："
   ]
  },
  {
   "cell_type": "code",
   "execution_count": null,
   "id": "connected-flesh",
   "metadata": {},
   "outputs": [
    {
     "data": {
      "text/plain": [
       "32.0"
      ]
     },
     "execution_count": 1,
     "metadata": {},
     "output_type": "execute_result"
    }
   ],
   "source": [
    "float(32)"
   ]
  },
  {
   "cell_type": "code",
   "execution_count": null,
   "id": "indian-healing",
   "metadata": {},
   "outputs": [
    {
     "data": {
      "text/plain": [
       "3.14159"
      ]
     },
     "execution_count": 1,
     "metadata": {},
     "output_type": "execute_result"
    }
   ],
   "source": [
    "float('3.14159')"
   ]
  },
  {
   "cell_type": "markdown",
   "id": "elementary-affair",
   "metadata": {},
   "source": [
    "最后，`str` 可以将其实参转换成字符串："
   ]
  },
  {
   "cell_type": "code",
   "execution_count": null,
   "id": "coordinate-fluid",
   "metadata": {},
   "outputs": [
    {
     "data": {
      "text/plain": [
       "'32'"
      ]
     },
     "execution_count": 1,
     "metadata": {},
     "output_type": "execute_result"
    }
   ],
   "source": [
    "str(32)"
   ]
  },
  {
   "cell_type": "code",
   "execution_count": null,
   "id": "textile-enough",
   "metadata": {},
   "outputs": [
    {
     "data": {
      "text/plain": [
       "'3.14159'"
      ]
     },
     "execution_count": 1,
     "metadata": {},
     "output_type": "execute_result"
    }
   ],
   "source": [
    "str(3.14159)"
   ]
  },
  {
   "cell_type": "markdown",
   "id": "placed-islam",
   "metadata": {},
   "source": [
    "## 数学函数\n",
    "\n",
    "Python中有一个数学模块（`math`），提供了大部分常用的数学函数。\n",
    "**模块（module）**指的是一个含有相关函数的文件。\n",
    "\n",
    "在使用模块之前，我们需要通过 **导入语句（import statement）**\n",
    "导入该模块："
   ]
  },
  {
   "cell_type": "code",
   "execution_count": null,
   "id": "prime-companion",
   "metadata": {},
   "outputs": [],
   "source": [
    "import math"
   ]
  },
  {
   "cell_type": "markdown",
   "id": "nonprofit-season",
   "metadata": {},
   "source": [
    "这条语句会生成一个名为 `math` 的**模块对象（module object）**。\n",
    "如果你打印这个模块对象，你将获得关于它的一些信息："
   ]
  },
  {
   "cell_type": "code",
   "execution_count": null,
   "id": "official-brunei",
   "metadata": {},
   "outputs": [
    {
     "data": {
      "text/plain": [
       "<module 'math' (built-in)>"
      ]
     },
     "execution_count": 1,
     "metadata": {},
     "output_type": "execute_result"
    }
   ],
   "source": [
    "math"
   ]
  },
  {
   "cell_type": "markdown",
   "id": "bound-scene",
   "metadata": {},
   "source": [
    "该模块对象包括了定义在模块内的所有函数和变量。\n",
    "想要访问其中的一个函数，你必须指定该模块的名字以及函数名，\n",
    "并以点号（也被叫做句号）分隔开来。 这种形式被称作**点标记法（dot\n",
    "notation）**。"
   ]
  },
  {
   "cell_type": "code",
   "execution_count": null,
   "id": "loose-enlargement",
   "metadata": {},
   "outputs": [],
   "source": [
    "ratio = signal_power / noise_power\n",
    "decibels = 10 * math.log10(ratio)"
   ]
  },
  {
   "cell_type": "code",
   "execution_count": null,
   "id": "identified-frost",
   "metadata": {},
   "outputs": [],
   "source": [
    "radians = 0.7\n",
    "height = math.sin(radians)"
   ]
  },
  {
   "cell_type": "markdown",
   "id": "skilled-complexity",
   "metadata": {},
   "source": [
    "第一个例子使用`math.log10`计算分贝信噪比（假设`signal_power`和`noise_power`已经被定义了）。\n",
    "math模块也提供了 `log` 函数，用于计算以e为底的对数。\n",
    "\n",
    "第二个例子计算radians的正弦值（sine）。 变量名暗示 `sin`\n",
    "函数以及其它三角函数（`cos`、`tan` 等）接受弧度（radians）实参。\n",
    "度数转换为弧度，需要除以180，并乘以 $\\pi$："
   ]
  },
  {
   "cell_type": "code",
   "execution_count": null,
   "id": "greater-dispute",
   "metadata": {},
   "outputs": [
    {
     "data": {
      "text/plain": [
       "0.707106781187"
      ]
     },
     "execution_count": 1,
     "metadata": {},
     "output_type": "execute_result"
    }
   ],
   "source": [
    "degrees = 45\n",
    "radians = degrees / 180.0 * math.pi\n",
    "math.sin(radians)"
   ]
  },
  {
   "cell_type": "markdown",
   "id": "relevant-builder",
   "metadata": {},
   "source": [
    "表达式 `math.pi` 从 `math` 模块中获得变量 `pi` 。\n",
    "该变量的值是$\\pi$的一个浮点数近似值，精确到大约15位数。\n",
    "\n",
    "如果你懂几何学（trigonometry），你可以将之前的结果和二分之根号二进行比较，检查是否正确："
   ]
  },
  {
   "cell_type": "code",
   "execution_count": null,
   "id": "concrete-confidentiality",
   "metadata": {},
   "outputs": [
    {
     "data": {
      "text/plain": [
       "0.707106781187"
      ]
     },
     "execution_count": 1,
     "metadata": {},
     "output_type": "execute_result"
    }
   ],
   "source": [
    "math.sqrt(2) / 2.0"
   ]
  },
  {
   "cell_type": "markdown",
   "id": "sitting-treasury",
   "metadata": {},
   "source": [
    "## 组合\n",
    "\n",
    "目前为止，我们已经分别介绍了程序的基本元素——变量、表达式和语句，但是还没有讨论如何将它们组合在一起。\n",
    "\n",
    "编程语言的最有用特征之一，是能够将小块构建材料（building\n",
    "blocks）**组合（compose）**在一起。\n",
    "例如，函数的实参可以是任意类型的表达式，包括算术运算符："
   ]
  },
  {
   "cell_type": "code",
   "execution_count": null,
   "id": "approximate-culture",
   "metadata": {},
   "outputs": [],
   "source": [
    "x = math.sin(degrees / 360.0 * 2 * math.pi)"
   ]
  },
  {
   "cell_type": "markdown",
   "id": "bibliographic-bloom",
   "metadata": {},
   "source": [
    "甚至是函数调用："
   ]
  },
  {
   "cell_type": "code",
   "execution_count": null,
   "id": "banned-destiny",
   "metadata": {},
   "outputs": [],
   "source": [
    "x = math.exp(math.log(x+1))"
   ]
  },
  {
   "cell_type": "markdown",
   "id": "novel-generic",
   "metadata": {},
   "source": [
    "几乎任何你可以放值的地方，你都可以放一个任意类型的表达式，只有一个例外：\n",
    "赋值语句的左侧必须是一个变量名。左侧放其他任何表达式都会产生语法错误\n",
    "（后面我们会讲到这个规则的例外）。"
   ]
  },
  {
   "cell_type": "code",
   "execution_count": null,
   "id": "outside-despite",
   "metadata": {},
   "outputs": [
    {
     "data": {
      "text/plain": [
       "SyntaxError: can't assign to operator"
      ]
     },
     "execution_count": 1,
     "metadata": {},
     "output_type": "execute_result"
    }
   ],
   "source": [
    "minutes = hours * 60                 # 正确\n",
    "hours * 60 = minutes                 # 错误！"
   ]
  },
  {
   "cell_type": "markdown",
   "id": "initial-branch",
   "metadata": {},
   "source": [
    "## 新建函数\n",
    "\n",
    "目前为止，我们只使用了Python自带的函数， 但是创建新函数也是可能的。\n",
    "一个**函数定义（function definition）**指定了新函数的名称\n",
    "以及当函数被调用时执行的语句序列。\n",
    "\n",
    "下面是一个示例："
   ]
  },
  {
   "cell_type": "code",
   "execution_count": null,
   "id": "vulnerable-participant",
   "metadata": {},
   "outputs": [],
   "source": [
    "def print_lyrics():\n",
    "    print(\"I'm a lumberjack, and I'm okay.\")\n",
    "    print(\"I sleep all night and I work all day.\")"
   ]
  },
  {
   "cell_type": "markdown",
   "id": "occupational-maria",
   "metadata": {},
   "source": [
    "`def` 是一个关键字，表明这是一个函数定义。 这个函数的名字是\n",
    "`print_lyrics`。\n",
    "函数的命名规则与变量名相同：字母、数字以及下划线是合法的，\n",
    "但是第一个字符不能是数字。不能使用关键字作为函数名，并应该避免\n",
    "变量和函数同名。\n",
    "\n",
    "函数名后面的圆括号是空的，表明该函数不接受任何实参。\n",
    "\n",
    "函数定义的第一行被称作**函数头（header）**；\n",
    "其余部分被称作**函数体（body）**。\n",
    "函数头必须以冒号结尾，而函数体必须缩进。 按照惯例，缩进总是4个空格。\n",
    "函数体能包含任意条语句。\n",
    "\n",
    "打印语句中的字符串被括在双引号中。单引号和双引号的作用相同；大多数人使用单引号，上述代码中的情况除外，即单引号（同时也是撇号）出现在字符串中时。\n",
    "\n",
    "所有引号（单引号和双引号）必须是“直引号（straight\n",
    "quotes）”，它们通常位于键盘上Enter键的旁边。像这句话中使用的‘弯引号（curly\n",
    "quotes）’，在Python语言中则是不合法的。\n",
    "\n",
    "如果你在交互模式下键入函数定义，每空一行解释器就会打印三个句点（*...*），\n",
    "让你知道定义并没有结束。"
   ]
  },
  {
   "cell_type": "code",
   "execution_count": null,
   "id": "regulation-cruise",
   "metadata": {},
   "outputs": [],
   "source": [
    "def print_lyrics():\n",
    "    print(\"I'm a lumberjack, and I'm okay.\")\n",
    "    print(\"I sleep all night and I work all day.\")"
   ]
  },
  {
   "cell_type": "markdown",
   "id": "reflected-paint",
   "metadata": {},
   "source": [
    "为了结束函数定义，你必须输入一个空行。\n",
    "\n",
    "定义一个函数会创建一个 **函数对象（function object）**，其类型是\n",
    "`function`："
   ]
  },
  {
   "cell_type": "code",
   "execution_count": null,
   "id": "social-throat",
   "metadata": {},
   "outputs": [
    {
     "data": {
      "text/plain": [
       "<function print_lyrics at 0xb7e99e9c>"
      ]
     },
     "execution_count": 1,
     "metadata": {},
     "output_type": "execute_result"
    }
   ],
   "source": [
    "print(print_lyrics)"
   ]
  },
  {
   "cell_type": "code",
   "execution_count": null,
   "id": "executed-comment",
   "metadata": {},
   "outputs": [
    {
     "data": {
      "text/plain": [
       "<class 'function'>"
      ]
     },
     "execution_count": 1,
     "metadata": {},
     "output_type": "execute_result"
    }
   ],
   "source": [
    "type(print_lyrics)"
   ]
  },
  {
   "cell_type": "markdown",
   "id": "every-saskatchewan",
   "metadata": {},
   "source": [
    "调用新函数的语法，和调用内建函数的语法相同："
   ]
  },
  {
   "cell_type": "code",
   "execution_count": null,
   "id": "knowing-topic",
   "metadata": {},
   "outputs": [
    {
     "data": {
      "text/plain": [
       "I'm a lumberjack, and I'm okay.\n",
       "I sleep all night and I work all day."
      ]
     },
     "execution_count": 1,
     "metadata": {},
     "output_type": "execute_result"
    }
   ],
   "source": [
    "print_lyrics()"
   ]
  },
  {
   "cell_type": "markdown",
   "id": "aging-booking",
   "metadata": {},
   "source": [
    "一旦你定义了一个函数，你就可以在另一个函数内部使用它。\n",
    "例如，为了重复之前的叠句（refrain），我们可以编写一个名叫`repeat_lyrics`的函数："
   ]
  },
  {
   "cell_type": "code",
   "execution_count": null,
   "id": "tamil-balloon",
   "metadata": {},
   "outputs": [],
   "source": [
    "def repeat_lyrics():\n",
    "    print_lyrics()\n",
    "    print_lyrics()"
   ]
  },
  {
   "cell_type": "markdown",
   "id": "bizarre-genome",
   "metadata": {},
   "source": [
    "然后调用`repeat_lyrics`："
   ]
  },
  {
   "cell_type": "code",
   "execution_count": null,
   "id": "pressing-november",
   "metadata": {},
   "outputs": [
    {
     "data": {
      "text/plain": [
       "I'm a lumberjack, and I'm okay.\n",
       "I sleep all night and I work all day.\n",
       "I'm a lumberjack, and I'm okay.\n",
       "I sleep all night and I work all day."
      ]
     },
     "execution_count": 1,
     "metadata": {},
     "output_type": "execute_result"
    }
   ],
   "source": [
    "repeat_lyrics()"
   ]
  },
  {
   "cell_type": "markdown",
   "id": "right-arbitration",
   "metadata": {},
   "source": [
    "不过，这首歌的歌词实际上不是这样的。\n",
    "\n",
    "## 定义和使用\n",
    "\n",
    "将上一节的多个代码段组合在一起，整个程序看起来是这样的："
   ]
  },
  {
   "cell_type": "code",
   "execution_count": null,
   "id": "soviet-charge",
   "metadata": {},
   "outputs": [],
   "source": [
    "def print_lyrics():\n",
    "    print(\"I'm a lumberjack, and I'm okay.\")\n",
    "    print(\"I sleep all night and I work all day.\")\n",
    "\n",
    "def repeat_lyrics():\n",
    "    print_lyrics()\n",
    "    print_lyrics()\n",
    "\n",
    "repeat_lyrics()"
   ]
  },
  {
   "cell_type": "markdown",
   "id": "super-dressing",
   "metadata": {},
   "source": [
    "该程序包含两个函数定义：`print_lyrics`和`repeat_lyrics`。\n",
    "函数定义和其它语句一样，都会被执行，但是其作用是创建函数对象。\n",
    "函数内部的语句在函数被调用之前，是不会执行的，而且函数定义不会产生任何输出。\n",
    "\n",
    "你可能猜到了，在运行函数之前，你必须先创建这个函数。换句话说，函数定义必须在其第一次被调用之前执行。\n",
    "\n",
    "我们做个小练习，将程序的最后一行移到顶部，使得函数调用出现在函数定义之前。运行程序，看看会得到怎样的错误信息。\n",
    "\n",
    "现在将函数调用移回底部，然后将`print_lyrics`的定义移到`repeat_lyrics`的定义之后。这次运行程序时会发生什么？\n",
    "\n",
    "## 执行流程\n",
    "\n",
    "为了保证函数第一次使用之前已经被定义，你必须要了解语句执行的顺序，\n",
    "这也被称作**执行流程（flow of execution）**。\n",
    "\n",
    "执行流程总是从程序的第一条语句开始，自顶向下，每次执行一条语句。\n",
    "\n",
    "函数定义不改变程序执行的流程，但是请记住，函数不被调用的话，函数内部的语句是不会执行的。\n",
    "\n",
    "函数调用像是在执行流程上绕了一个弯路。\n",
    "执行流程没有进入下一条语句，而是跳入了函数体，开始执行那里的语句，然后再回到它离开的位置。\n",
    "\n",
    "这听起来足够简单，至少在你想起一个函数可以调用另一个函数之前。\n",
    "当一个函数执行到中间的时候，程序可能必须执行另一个函数里的语句。\n",
    "然后在执行那个新函数的时候，程序可能又得执行另外一个函数！\n",
    "\n",
    "幸运的是，Python善于记录程序执行流程的位置，因此每次一个函数执行完成时，\n",
    "程序会回到调用它的那个函数原来执行的位置。当到达程序的结尾时，程序才会终止。\n",
    "\n",
    "总之，阅读程序时，你没有必要总是从上往下读。有时候，跟着执行流程阅读反而更加合理。\n",
    "\n",
    "## 形参和实参\n",
    "\n",
    "我们之前接触的一些函数需要实参。例如，当你调用 `math.sin`\n",
    "时，你传递一个数字作为实参。 有些函数接受一个以上的实参：`math.pow`\n",
    "接受两个，底数和指数。\n",
    "\n",
    "在函数内部，实参被赋给称作**形参（parameters）**的变量。\n",
    "下面的代码定义了一个接受一个实参的函数："
   ]
  },
  {
   "cell_type": "code",
   "execution_count": null,
   "id": "electrical-sympathy",
   "metadata": {},
   "outputs": [],
   "source": [
    "def print_twice(bruce):\n",
    "    print(bruce)\n",
    "    print(bruce)"
   ]
  },
  {
   "cell_type": "markdown",
   "id": "theoretical-french",
   "metadata": {},
   "source": [
    "这个函数将实参赋给名为 `bruce`\n",
    "的形参。当函数被调用的时候，它会打印形参（无论它是什么）的值两次。\n",
    "\n",
    "该函数对任意能被打印的值都有效。"
   ]
  },
  {
   "cell_type": "code",
   "execution_count": null,
   "id": "comic-hartford",
   "metadata": {},
   "outputs": [
    {
     "data": {
      "text/plain": [
       "Spam\n",
       "Spam"
      ]
     },
     "execution_count": 1,
     "metadata": {},
     "output_type": "execute_result"
    }
   ],
   "source": [
    "print_twice('Spam')"
   ]
  },
  {
   "cell_type": "code",
   "execution_count": null,
   "id": "mighty-clothing",
   "metadata": {},
   "outputs": [
    {
     "data": {
      "text/plain": [
       "42\n",
       "42"
      ]
     },
     "execution_count": 1,
     "metadata": {},
     "output_type": "execute_result"
    }
   ],
   "source": [
    "print_twice(42)"
   ]
  },
  {
   "cell_type": "code",
   "execution_count": null,
   "id": "prompt-nepal",
   "metadata": {},
   "outputs": [
    {
     "data": {
      "text/plain": [
       "3.14159265359\n",
       "3.14159265359"
      ]
     },
     "execution_count": 1,
     "metadata": {},
     "output_type": "execute_result"
    }
   ],
   "source": [
    "print_twice(math.pi)"
   ]
  },
  {
   "cell_type": "markdown",
   "id": "invisible-anderson",
   "metadata": {},
   "source": [
    "组合规则不仅适用于内建函数，而且也适用于开发者自定义的函数（programmer-defined\n",
    "functions），因此我们可以使用任意类型的表达式作为`print_twice`的实参："
   ]
  },
  {
   "cell_type": "code",
   "execution_count": null,
   "id": "second-collection",
   "metadata": {},
   "outputs": [
    {
     "data": {
      "text/plain": [
       "Spam Spam Spam Spam\n",
       "Spam Spam Spam Spam"
      ]
     },
     "execution_count": 1,
     "metadata": {},
     "output_type": "execute_result"
    }
   ],
   "source": [
    "print_twice('Spam '*4)"
   ]
  },
  {
   "cell_type": "code",
   "execution_count": null,
   "id": "nasty-leisure",
   "metadata": {},
   "outputs": [
    {
     "data": {
      "text/plain": [
       "-1.0\n",
       "-1.0"
      ]
     },
     "execution_count": 1,
     "metadata": {},
     "output_type": "execute_result"
    }
   ],
   "source": [
    "print_twice(math.cos(math.pi))"
   ]
  },
  {
   "cell_type": "markdown",
   "id": "sapphire-vision",
   "metadata": {},
   "source": [
    "在函数被调用之前，实参会先进行计算，因此在这些例子中，\n",
    "表达式`'Spam '*4`和 `math.cos(math.pi)` 都只被计算了一次。\n",
    "\n",
    "你也可以用变量作为实参："
   ]
  },
  {
   "cell_type": "code",
   "execution_count": null,
   "id": "anticipated-priest",
   "metadata": {},
   "outputs": [
    {
     "data": {
      "text/plain": [
       "Eric, the half a bee.\n",
       "Eric, the half a bee."
      ]
     },
     "execution_count": 1,
     "metadata": {},
     "output_type": "execute_result"
    }
   ],
   "source": [
    "michael = 'Eric, the half a bee.'\n",
    "print_twice(michael)"
   ]
  },
  {
   "cell_type": "markdown",
   "id": "modern-isolation",
   "metadata": {},
   "source": [
    "我们传递的实参名（`michael`）与形参的名字（`bruce`）没有任何关系。\n",
    "这个值在传入函数之前叫什么都没有关系；只要传入了`print_twice`函数，我们将所有人都称为\n",
    "`bruce` 。\n",
    "\n",
    "## 变量和形参都是局部的\n",
    "\n",
    "当你在函数里面创建变量时，这个变量是**局部的（local）**，\n",
    "也就是说它只在函数内部存在。例如："
   ]
  },
  {
   "cell_type": "code",
   "execution_count": null,
   "id": "civic-value",
   "metadata": {},
   "outputs": [],
   "source": [
    "def cat_twice(part1, part2):\n",
    "    cat = part1 + part2\n",
    "    print_twice(cat)"
   ]
  },
  {
   "cell_type": "markdown",
   "id": "hindu-panic",
   "metadata": {},
   "source": [
    "该函数接受两个实参，拼接（concatenates）它们并打印结果两次。\n",
    "下面是使用该函数的一个示例："
   ]
  },
  {
   "cell_type": "code",
   "execution_count": null,
   "id": "reserved-prize",
   "metadata": {},
   "outputs": [
    {
     "data": {
      "text/plain": [
       "Bing tiddle tiddle bang.\n",
       "Bing tiddle tiddle bang."
      ]
     },
     "execution_count": 1,
     "metadata": {},
     "output_type": "execute_result"
    }
   ],
   "source": [
    "line1 = 'Bing tiddle '\n",
    "line2 = 'tiddle bang.'\n",
    "cat_twice(line1, line2)"
   ]
  },
  {
   "cell_type": "markdown",
   "id": "foreign-beast",
   "metadata": {},
   "source": [
    "当`cat_twice`结束时，变量 `cat` 被销毁了。\n",
    "如果我们试图打印它，我们将获得一个异常："
   ]
  },
  {
   "cell_type": "code",
   "execution_count": null,
   "id": "registered-amino",
   "metadata": {},
   "outputs": [
    {
     "data": {
      "text/plain": [
       "NameError: name 'cat' is not defined"
      ]
     },
     "execution_count": 1,
     "metadata": {},
     "output_type": "execute_result"
    }
   ],
   "source": [
    "print(cat)"
   ]
  },
  {
   "cell_type": "markdown",
   "id": "ordered-package",
   "metadata": {},
   "source": [
    "形参也都是局部的。例如，在`print_twice`函数的外部并没有 `bruce`\n",
    "这个变量。\n",
    "\n",
    "## 堆栈图\n",
    "\n",
    "有时，画一个**堆栈图（stack\n",
    "diagram）**可以帮助你跟踪哪个变量能在哪儿用。\n",
    "与状态图类似，堆栈图要说明每个变量的值，但是它们也要说明每个变量所属的函数。\n",
    "\n",
    "每个函数用一个**栈帧（frame）**表示。\n",
    "一个栈帧就是一个线框，函数名在旁边，形参以及函数内部的变量则在里面。\n",
    "前面例子的堆栈图如图3-1所示。\n",
    "\n",
    "![图3-1：堆栈图。](figs/stack.png)\n",
    "\n",
    "这些线框排列成栈的形式，说明了哪个函数调用了哪个函数等信息。\n",
    "在此例中，`print_twice`被`cat_twice`调用，\n",
    "`cat_twice`又被`__main__`调用，`__main__`是一个表示最上层栈帧的特殊名字。\n",
    "当你在所有函数之外创建一个变量时，它就属于`__main__`。\n",
    "\n",
    "每个形参都指向其对应实参的值。 因此，`part1` 和 `line1`\n",
    "的值相同，`part2` 和 `line2` 的值相同， `bruce` 和 `cat` 的值相同。\n",
    "\n",
    "如果函数调用时发生错误，Python会打印出错函数的名字以及调用它的函数的名字，\n",
    "以及调用 *后面这个函数* 的函数的名字，一直追溯到`__main__`为止。\n",
    "\n",
    "例如，如果你试图在`print_twice`里面访问 `cat` ， 你将获得一个\n",
    "`NameError` ："
   ]
  },
  {
   "cell_type": "code",
   "execution_count": null,
   "id": "determined-hamburg",
   "metadata": {},
   "outputs": [],
   "source": [
    "Traceback (innermost last):\n",
    "  File \"test.py\", line 13, in __main__\n",
    "    cat_twice(line1, line2)\n",
    "  File \"test.py\", line 5, in cat_twice\n",
    "    print_twice(cat)\n",
    "  File \"test.py\", line 9, in print_twice\n",
    "    print(cat)\n",
    "NameError: name 'cat' is not defined"
   ]
  },
  {
   "cell_type": "markdown",
   "id": "bottom-culture",
   "metadata": {},
   "source": [
    "这个函数列表被称作**回溯（traceback）**。\n",
    "它告诉你发生错误的是哪个程序文件，错误在哪一行，以及当时在执行哪个函数。\n",
    "它还会显示引起错误的那一行代码。\n",
    "\n",
    "回溯中的函数顺序，与堆栈图中的函数顺序一致。出错时正在运行的那个函数则位于回溯信息的底部。\n",
    "\n",
    "## 有返回值函数和无返回值函数\n",
    "\n",
    "有一些我们之前用过的函数，例如数学函数，会返回结果；\n",
    "由于没有更好的名字，我姑且叫它们**有返回值函数（fruitful functions）**。\n",
    "其它的函数，像`print_twice`，执行一个动作但是不返回任何值。\n",
    "我称它们为**无返回值函数（void functions）**。\n",
    "\n",
    "当你调用一个有返回值函数时，你几乎总是想用返回的结果去做些什么；\n",
    "例如，你可能将它赋值给一个变量，或者把它用在表达式里："
   ]
  },
  {
   "cell_type": "code",
   "execution_count": null,
   "id": "native-destiny",
   "metadata": {},
   "outputs": [],
   "source": [
    "x = math.cos(radians)\n",
    "golden = (math.sqrt(5) + 1) / 2"
   ]
  },
  {
   "cell_type": "markdown",
   "id": "spoken-sugar",
   "metadata": {},
   "source": [
    "当你在交互模式下调用一个函数时，Python解释器会马上显示结果："
   ]
  },
  {
   "cell_type": "code",
   "execution_count": null,
   "id": "spiritual-carrier",
   "metadata": {},
   "outputs": [
    {
     "data": {
      "text/plain": [
       "2.2360679774997898"
      ]
     },
     "execution_count": 1,
     "metadata": {},
     "output_type": "execute_result"
    }
   ],
   "source": [
    "math.sqrt(5)"
   ]
  },
  {
   "cell_type": "markdown",
   "id": "indirect-killing",
   "metadata": {},
   "source": [
    "但是在脚本中，如果你单单调用一个有返回值函数， 返回值就永远丢失了！"
   ]
  },
  {
   "cell_type": "code",
   "execution_count": null,
   "id": "dominant-template",
   "metadata": {},
   "outputs": [],
   "source": [
    "math.sqrt(5)"
   ]
  },
  {
   "cell_type": "markdown",
   "id": "tribal-demand",
   "metadata": {},
   "source": [
    "该脚本计算5的平方根，但是因为它没保存或者显示这个结果，\n",
    "这个脚本并没多大用处。\n",
    "\n",
    "无返回值函数可能在屏幕上打印输出结果，或者产生其它的影响，\n",
    "但是它们并没有返回值。如果你试图将无返回值函数的结果赋给一个变量，\n",
    "你会得到一个被称作 `None` 的特殊值。"
   ]
  },
  {
   "cell_type": "code",
   "execution_count": null,
   "id": "divided-basic",
   "metadata": {},
   "outputs": [
    {
     "data": {
      "text/plain": [
       "Bing\n",
       "Bing"
      ]
     },
     "execution_count": 1,
     "metadata": {},
     "output_type": "execute_result"
    }
   ],
   "source": [
    "result = print_twice('Bing')"
   ]
  },
  {
   "cell_type": "code",
   "execution_count": null,
   "id": "obvious-marine",
   "metadata": {},
   "outputs": [
    {
     "data": {
      "text/plain": [
       "None"
      ]
     },
     "execution_count": 1,
     "metadata": {},
     "output_type": "execute_result"
    }
   ],
   "source": [
    "print(result)"
   ]
  },
  {
   "cell_type": "markdown",
   "id": "nuclear-trader",
   "metadata": {},
   "source": [
    "`None` 这个值和字符串`'None'`不同。这是一个自己有独立类型的特殊值："
   ]
  },
  {
   "cell_type": "code",
   "execution_count": null,
   "id": "prostate-metro",
   "metadata": {},
   "outputs": [
    {
     "data": {
      "text/plain": [
       "<class 'NoneType'>"
      ]
     },
     "execution_count": 1,
     "metadata": {},
     "output_type": "execute_result"
    }
   ],
   "source": [
    "print(type(None))"
   ]
  },
  {
   "cell_type": "markdown",
   "id": "detailed-short",
   "metadata": {},
   "source": [
    "目前为止，我们写的函数都是无返回值函数。\n",
    "我们将在几章之后开始编写有返回值函数。\n",
    "\n",
    "## 为什么写函数？\n",
    "\n",
    "你可能还不明白为什么值得将一个程序分解成多个函数。 原因包括以下几点：\n",
    "\n",
    "-   创建一个新的函数可以让你给一组语句命名，\n",
    "    这可以让你的程序更容易阅读和调试。\n",
    "-   通过消除重复的代码，函数精简了程序。\n",
    "    以后，如果你要做个变动，你只需在一处修改即可。\n",
    "-   将一个长程序分解为多个函数，可以让你一次调试一部分，然后再将它们组合为一个可行的整体。\n",
    "-   设计良好的函数经常对多个程序都有帮助。一旦你写出并调试好一个函数，你就可以重复使用它。\n",
    "\n",
    "## 调试\n",
    "\n",
    "调试，是你能获得的最重要的技能之一。\n",
    "虽然调试会让人沮丧，但却是编程过程中最富含智慧、挑战以及乐趣的一部分。\n",
    "\n",
    "在某些方面，调试像是侦探工作。\n",
    "你面对一些线索，必须推理出是什么进程（processes）和事件（events）导致了你看到的结果。\n",
    "\n",
    "调试也像是一门实验性科学。一旦你猜到大概哪里出错了，\n",
    "你可以修改程序，再试一次。\n",
    "如果你的假设是正确的，那么你就可以预测到修改的结果，并且离正常运行的程序又近了一步。\n",
    "如果你的假设是错误的，你就不得不再提一个新的假设。\n",
    "如夏洛克·福尔摩斯所指出的，“当你排除了所有的不可能，无论剩下的是什么，\n",
    "不管多么难以置信，一定就是真相。”（阿瑟·柯南·道尔，*《四签名》*）\n",
    "\n",
    "对某些人来说，编程和调试是同一件事。\n",
    "也就是说，编程是逐步调试一个程序，直到它满足了你期待的过程。\n",
    "这意味着，你应该从一个能*正常运行*（working）\n",
    "的程序开始，每次只做一些小改动，并同步进行调试。\n",
    "\n",
    "举个例子，Linux是一个有着数百万行代码的操作系统 但是它一开始，只是Linus\n",
    "Torvalds写的一个用于研究Intel 80386芯片的简单程序。 根据Larry\n",
    "Greenfield的描述，“Linus的早期项目中，有一个能够交替打印AAAA和BBBB的程序。\n",
    "这个程序后来演变为了Linux。”（*Linux用户手册* Beta 版本1）。\n",
    "\n",
    "## 术语表\n",
    "\n",
    "函数（function）：\n",
    "\n",
    "> 执行某种有用运算的命名语句序列。函数可以接受形参，也可以不接受；可以返回一个结果，也可以不返回。\n",
    "\n",
    "函数定义（function definition）：\n",
    "\n",
    "> 创建一个新函数的语句，指定了函数名、形参以及所包含的语句。\n",
    "\n",
    "函数对象（function object）：\n",
    "\n",
    "> 函数定义所创建的一个值。函数名是一个指向函数对象的变量。\n",
    "\n",
    "函数头（header）：\n",
    "\n",
    "> 函数定义的第一行。\n",
    "\n",
    "函数体（body）：\n",
    "\n",
    "> 函数定义内部的语句序列。\n",
    "\n",
    "形参（parameters）：\n",
    "\n",
    "> 函数内部用于指向被传作实参的值的名字。\n",
    "\n",
    "函数调用（function call）：\n",
    "\n",
    "> 运行一个函数的语句。它包括了函数名，紧随其后的实参列表，实参用圆括号包围起来。\n",
    "\n",
    "实参（argument）：\n",
    "\n",
    "> 函数调用时传给函数的值。这个值被赋给函数中相对应的形参。\n",
    "\n",
    "局部变量（local variable）：\n",
    "\n",
    "> 函数内部定义的变量。局部变量只能在函数内部使用。\n",
    "\n",
    "返回值（return value）：\n",
    "\n",
    "> 函数执行的结果。如果函数调用被用作表达式，其返回值是这个表达式的值。\n",
    "\n",
    "有返回值函数（fruitful function）：\n",
    "\n",
    "> 会返回一个值的函数。\n",
    "\n",
    "无返回值函数（void function）：\n",
    "\n",
    "> 总是返回None的函数。\n",
    "\n",
    "None：\n",
    "\n",
    "> 无返回值函数返回的一个特殊值。\n",
    "\n",
    "模块（module）：\n",
    "\n",
    "> 包含了一组相关函数及其他定义的的文件。\n",
    "\n",
    "导入语句（import statement）：\n",
    "\n",
    "> 读取一个模块文件，并创建一个模块对象的语句。\n",
    "\n",
    "模块对象（module object）：\n",
    "\n",
    "> 导入语句创建的一个值，可以让开发者访问模块内部定义的值。\n",
    "\n",
    "点标记法（dot notation）：\n",
    "\n",
    "> 调用另一个模块中函数的语法，需要指定模块名称，之后跟着一个点（句号）和函数名。\n",
    "\n",
    "组合（composition）：\n",
    "\n",
    "> 将一个表达式嵌入一个更长的表达式，或者是将一个语句嵌入一个更长语句的一部分。\n",
    "\n",
    "执行流程（flow of execution）：\n",
    "\n",
    "> 语句执行的顺序。\n",
    "\n",
    "堆栈图（stack diagram）：\n",
    "\n",
    "> 一种图形化表示堆栈的方法，堆栈中包括函数、函数的变量及其所指向的值。\n",
    "\n",
    "栈帧（frame）：\n",
    "\n",
    "> 堆栈图中一个栈帧，代表一个函数调用。其中包含了函数的局部变量和形参。\n",
    "\n",
    "回溯（traceback）：\n",
    "\n",
    "> 当出现异常时，解释器打印出的出错时正在执行的函数列表。\n",
    "\n",
    "## 练习题\n",
    "\n",
    "### 习题 3-1\n",
    "\n",
    "编写一个名为`right_justify`的函数，函数接受一个名为`s`的字符串作为形参，\n",
    "并在打印足够多的前导空格（leading\n",
    "space）之后打印这个字符串，使得字符串的最后一个字母位于显示屏的第70列。"
   ]
  },
  {
   "cell_type": "code",
   "execution_count": null,
   "id": "joint-friend",
   "metadata": {},
   "outputs": [
    {
     "data": {
      "text/plain": [
       "                                                                 monty"
      ]
     },
     "execution_count": 1,
     "metadata": {},
     "output_type": "execute_result"
    }
   ],
   "source": [
    "right_justify('monty')"
   ]
  },
  {
   "cell_type": "markdown",
   "id": "provincial-suspect",
   "metadata": {},
   "source": [
    "提示：使用字符串拼接（string\n",
    "concatenation）和重复。另外，Python提供了一个名叫len的内建函数，可以返回一个字符串的长度，因此`len('allen')`的值是5。\n",
    "\n",
    "函数对象是一个可以赋值给变量的值，也可以作为实参传递。例如，\n",
    "`do_twice`函数接受函数对象作为实参，并调用这个函数对象两次："
   ]
  },
  {
   "cell_type": "code",
   "execution_count": null,
   "id": "dated-reason",
   "metadata": {},
   "outputs": [],
   "source": [
    "def do_twice(f):\n",
    "    f()\n",
    "    f()"
   ]
  },
  {
   "cell_type": "markdown",
   "id": "conceptual-terrorist",
   "metadata": {},
   "source": [
    "下面这个示例使用`do_twice`来调用名为`print_spam`的函数两次。"
   ]
  },
  {
   "cell_type": "code",
   "execution_count": null,
   "id": "regulation-today",
   "metadata": {},
   "outputs": [],
   "source": [
    "def print_spam():\n",
    "    print('spam')\n",
    "\n",
    "do_twice(print_spam)"
   ]
  },
  {
   "cell_type": "markdown",
   "id": "monthly-moore",
   "metadata": {},
   "source": [
    "1.  将这个示例写入脚本，并测试。\n",
    "2.  修改`do_twice`，使其接受两个实参，一个是函数对象，另一个是值。\n",
    "    然后调用这一函数对象两次，将那个值传递给函数对象作为实参。\n",
    "3.  从本章前面一些的示例中，将 `print_twice` 函数的定义复制到脚本中。\n",
    "4.  使用修改过的`do_twice`，调用`print_twice`两次，将`'spam'`传递给它作为实参。\n",
    "5.  定义一个名为`do_four`的新函数，其接受一个函数对象和一个值作为实参。\n",
    "    调用这个函数对象四次，将那个值作为形参传递给它。\n",
    "    函数体中应该只有两条语句，而不是四条。\n",
    "\n",
    "答案： <http://thinkpython2.com/code/do_four.py> 。\n",
    "\n",
    "注意：这一习题只能使用我们目前学过的语句和特性来完成。\n",
    "\n",
    "### 习题 3-2\n",
    "\n",
    "1.  编写一个能画出如下网格（grid）的函数："
   ]
  },
  {
   "cell_type": "code",
   "execution_count": null,
   "id": "universal-fabric",
   "metadata": {},
   "outputs": [],
   "source": [
    "    + - - - - + - - - - +\n",
    "    |         |         |\n",
    "    |         |         |\n",
    "    |         |         |\n",
    "    |         |         |\n",
    "    + - - - - + - - - - +\n",
    "    |         |         |\n",
    "    |         |         |\n",
    "    |         |         |\n",
    "    |         |         |\n",
    "    + - - - - + - - - - +"
   ]
  },
  {
   "cell_type": "markdown",
   "id": "potential-affair",
   "metadata": {},
   "source": [
    "\n",
    "    提示：你可以使用一个用逗号分隔的值序列，在一行中打印出多个值：\n",
    "```{.python .input}\n",
    "    print('+', '-')\n",
    "```\n",
    "\n",
    "    `print`\n",
    "    函数默认会自动换行，但是你可以阻止这个行为，只需要像下面这样将行结尾变成一个空格：\n",
    "```{.python .input}\n",
    "    print('+', end=' ')\n",
    "    print('-')\n",
    "```\n",
    "\n",
    "    这两个语句的输出结果是 `'+ -'`。\n",
    "\n",
    "    一个没有传入实参的 `print` 语句会结束当前行，跳到下一行。\n"
   ]
  },
  {
   "cell_type": "markdown",
   "id": "swedish-remainder",
   "metadata": {},
   "source": [
    "2.  编写一个能够画出四行四列的类似网格的函数。\n",
    "\n",
    "答案： <http://thinkpython2.com/code/grid.py> 。致谢：这个习题基于\n",
    "*Practical C Programming, Third Edition*\n",
    "一书中的习题改编，此书由O’Reilly出版社于1997年出版。\n",
    "\n",
    "### **贡献者**\n",
    "\n",
    "1.  翻译：[@bingjin](https://github.com/bingjin)\n",
    "2.  校对：[@bingjin](https://github.com/bingjin)\n",
    "3.  参考：[@carfly](https://github.com/carfly)"
   ]
  }
 ],
 "metadata": {},
 "nbformat": 4,
 "nbformat_minor": 5
}
