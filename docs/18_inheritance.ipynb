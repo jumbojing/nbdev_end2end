{
 "cells": [
  {
   "cell_type": "markdown",
   "id": "progressive-surge",
   "metadata": {},
   "source": [
    "$$\n",
    "\\def\\CC{\\bf C}\n",
    "\\def\\QQ{\\bf Q}\n",
    "\\def\\RR{\\bf R}\n",
    "\\def\\ZZ{\\bf Z}\n",
    "\\def\\NN{\\bf N}\n",
    "$$\n",
    "# 第十八章：继承\n",
    "\n",
    "最常与面向对象编程联系在一起的语言特性就是 **继承**\n",
    "。继承指的是在现有类的基础下进行修改，从而定义新类的能力。在本章中，我会用表示卡牌（playing\n",
    "cards）、一副牌（deck of hands）和牌型（poker\n",
    "hands）的类，来展示继承这一特性。\n",
    "\n",
    "如果你不玩扑克牌，你可以阅读 <http://en.wikipedia.org/wiki/Poker>\n",
    "了解一下，但这不是必须的；我会告诉你完成练习所需要了解的知识点。\n",
    "\n",
    "本章的代码示例可以从 <http://thinkpython2.com/code/Card.py> 下载。\n",
    "\n",
    "## 卡牌对象\n",
    "\n",
    "一副牌有52张牌，每一张属于4种花色的一个和13个等级的一个。\n",
    "4种花色是黑桃（Spades），红心（Hearts），方块（Diamonds），梅花（Clubs），\n",
    "以桥牌中的逆序排列。13个等级是A、2、3、4、5、6、7、8、9、10、J、Q、K。\n",
    "根据你玩的游戏的不同，A 可能比 K 大或者比 2 小。\n",
    "\n",
    "如果我们定义一个新的对象来表示卡牌，明显它应该有`rank`（等级）\n",
    "和`suit`（花色）\n",
    "两个属性。但两个属性的类型不太明显。一个可能是使用字符串类型，\n",
    "如`'Spade'`表示花色，`'Queen'`表示等级。这种实现的一个问题是，不是那么容易比较牌的大小，看哪张牌的等级或花色更高。\n",
    "\n",
    "另外一种方法，是使用一个整型来 **编码** 等级和花色。\n",
    "在这里，“编码”表示我们要定义一个数字到花色或数字到等级的映射。\n",
    "但是这里的编码并不是为了保密（那就成了“加密”）。\n",
    "\n",
    "例如，下面的表格列出了花色和对应的整数码：\n",
    "\n",
    "|          |           |     |\n",
    "|----------|-----------|-----|\n",
    "| Spades   | $\\mapsto$ | 3   |\n",
    "| Hearts   | $\\mapsto$ | 2   |\n",
    "| Diamonds | $\\mapsto$ | 1   |\n",
    "| Clubs    | $\\mapsto$ | 0   |\n",
    "\n",
    "整数码使得很容易比较牌的大小；因为更高的花色对应更高的数字，我们可以通过比较数字，来判断花色的的大小。\n",
    "\n",
    "等级的映射类型选择就显而易见；每个数字等级对应相应的整数，然后对于J，K，Q：\n",
    "\n",
    "|       |           |     |\n",
    "|-------|-----------|-----|\n",
    "| Jack  | $\\mapsto$ | 11  |\n",
    "| Queen | $\\mapsto$ | 12  |\n",
    "| King  | $\\mapsto$ | 13  |\n",
    "\n",
    "这里，我使用$\\mapsto$符号来清楚的表示，这些不是 Python\n",
    "程序的一部分。它们属于程序设计的一部分，但是不会出现在代码中。\n",
    "\n",
    "`Card`的类定义如下："
   ]
  },
  {
   "cell_type": "code",
   "execution_count": null,
   "id": "classical-thriller",
   "metadata": {},
   "outputs": [],
   "source": [
    "class Card:\n",
    "    \"\"\"代表一张标准的卡牌\"\"\"\n",
    "\n",
    "    def __init__(self, suit=0, rank=2):\n",
    "        self.suit = suit\n",
    "        self.rank = rank"
   ]
  },
  {
   "cell_type": "markdown",
   "id": "charitable-mississippi",
   "metadata": {},
   "source": [
    "通常，init 方法接受针对每个属性的可选形参。默认的卡牌是梅花 2。\n",
    "\n",
    "可以使用你需要的花色和等级调用 `Card` ，创建一个 `Card` 对象。"
   ]
  },
  {
   "cell_type": "code",
   "execution_count": null,
   "id": "positive-tradition",
   "metadata": {},
   "outputs": [],
   "source": [
    "queen_of_diamonds = Card(1, 12)"
   ]
  },
  {
   "cell_type": "markdown",
   "id": "handmade-wrist",
   "metadata": {},
   "source": [
    "## 类属性\n",
    "\n",
    "为了以大家能够轻松看懂的方式来打印卡牌对象，我们需要一个从整数码到对应的等级和花色的映射。\n",
    "一种直接的方法是使用字符串列表。我们把这些列表赋值到**类属性**："
   ]
  },
  {
   "cell_type": "code",
   "execution_count": null,
   "id": "limited-savings",
   "metadata": {},
   "outputs": [],
   "source": [
    "# 在Card类内部:\n",
    "\n",
    "    suit_names = ['Clubs', 'Diamonds', 'Hearts', 'Spades']\n",
    "    rank_names = [None, 'Ace', '2', '3', '4', '5', '6', '7', \n",
    "              '8', '9', '10', 'Jack', 'Queen', 'King']\n",
    "\n",
    "    def __str__(self):\n",
    "        return '%s of %s' % (Card.rank_names[self.rank],\n",
    "                             Card.suit_names[self.suit])"
   ]
  },
  {
   "cell_type": "markdown",
   "id": "exceptional-ultimate",
   "metadata": {},
   "source": [
    "像 `suit_names` 和 `rank_names` 这样的变量，是定义在类内部但在方法之外，\n",
    "被称为类属性。因为他们是被关联到 `Card` 类对象上的。\n",
    "\n",
    "这个术语将它们同 `suit` 和 `rank`\n",
    "这样的变量区分开来，后者被称为**实例属性**，\n",
    "因为他们被关联到了特定的实例。\n",
    "\n",
    "这两种属性都使用点标记法来访问。例如，在`__str__`中，`self` 是一个卡牌对\n",
    "象，`self.rank` 是它的等级。 同样的，`Card`\n",
    "是一个类对象，`Card.rank_names`是一个和类关联的字符串列表。\n",
    "\n",
    "每一张卡牌都有自己的花色和等级，\n",
    "但是这里只有一份`suit_names`和`rank_names`拷贝。\n",
    "\n",
    "综合来说，表达式`Card.rank_names[self.rank]`表示“使用 `self` 对象 中的\n",
    "`rank` 属性作为 `Card`\n",
    "类的`rank_names`列表的索引下标，然后获取相应的字符串。”\n",
    "\n",
    "`rank_names`的第一个元素是 `None` ，因为没有卡牌的等级是 0 。 通过使用\n",
    "`None` 作为占位符，我们可以很好地将索引 2 映射到字符串`'2'`，等等。\n",
    "为了避免使用这种小技巧，我们也可以使用一个字典来代替列表。\n",
    "\n",
    "利用现有的方法，我们可以创建和打印卡牌："
   ]
  },
  {
   "cell_type": "code",
   "execution_count": null,
   "id": "wired-dairy",
   "metadata": {},
   "outputs": [
    {
     "data": {
      "text/plain": [
       "Jack of Hearts"
      ]
     },
     "execution_count": null,
     "metadata": {},
     "output_type": "execute_result"
    }
   ],
   "source": [
    "card1 = Card(2, 11)\n",
    "print(card1)"
   ]
  },
  {
   "cell_type": "markdown",
   "id": "desirable-radiation",
   "metadata": {},
   "source": [
    "<div id=\"fig.card1\">\n",
    "\n",
    "![图18-1：对象图](figs/card1.png)\n",
    "\n",
    "</div>\n",
    "\n",
    "`fig.card1`是 `Card` 类对象和一个 `Card` 实例的图示。`Card`\n",
    "是一个类对象；它的类型是 `type` 。`card1` 是 `Card`\n",
    "的一个实例，因此它的类型是 `Card` 。为了节省空间，我没有画出`suit_names`\n",
    "和 `rank_names`的内容。\n",
    "\n",
    "## 比较卡牌\n",
    "\n",
    "对于内建类型，有关系运算符(\\<, \\>, ==,\n",
    "等等)可以比较值，判断哪一个是大于、小于或等于另外一个。\n",
    "对于程序员自定义的类型，我们可以通过提供一个叫\n",
    "`__lt__`（代表“小于”）的方法，来覆盖内建运算符的行为。\n",
    "\n",
    "`__lt__`接受 2 个参数, `self` 和 `other`，如果 `self` 比 `other`\n",
    "的值要小则返回 `True` 。\n",
    "\n",
    "卡牌的正确顺序并不明显。例如，梅花 3 和方块 2 哪个更高？\n",
    "一个等级更高，另一个花色更高。为了比较卡牌，你必须决定等级还是花色更重要。\n",
    "\n",
    "答案可能根据你玩的是什么游戏而不同，但是简洁起见，我们将规定花色更重要，所以所有的黑桃大于任何方块卡牌，以此类推。\n",
    "\n",
    "定好了这个规则后，我们可以编写`__lt__`了：\n",
    "\n",
    "[目录](index.ipynb)"
   ]
  },
  {
   "cell_type": "code",
   "execution_count": null,
   "id": "increased-century",
   "metadata": {},
   "outputs": [],
   "source": [
    "# 在Card类内部:\n",
    "\n",
    "    def __lt__(self, other):\n",
    "        # 判断花色\n",
    "        if self.suit < other.suit: return True\n",
    "        if self.suit > other.suit: return False\n",
    "\n",
    "        # 花色相同...判断等级\n",
    "        return self.rank < other.rank"
   ]
  },
  {
   "cell_type": "markdown",
   "id": "biblical-lebanon",
   "metadata": {},
   "source": [
    "你可以使用元组比较来使得代码更加简洁："
   ]
  },
  {
   "cell_type": "code",
   "execution_count": null,
   "id": "israeli-lying",
   "metadata": {},
   "outputs": [],
   "source": [
    "# 在Card类内部:\n",
    "\n",
    "    def __lt__(self, other):\n",
    "        t1 = self.suit, self.rank\n",
    "        t2 = other.suit, other.rank\n",
    "        return t1 < t2"
   ]
  },
  {
   "cell_type": "markdown",
   "id": "greenhouse-depression",
   "metadata": {},
   "source": [
    "我们做个练习，编写一个 `Time` 对象的 `__lt__`\n",
    "方法。你可以使用元组比较，也可以考虑比较整数。\n",
    "\n",
    "## 一副牌\n",
    "\n",
    "现在我们有 `Card`\n",
    "类了，下一步是定义完整的一副牌（Deck）了。因为一副牌由许多牌组成，自然地\n",
    "每一个 `Deck` 都有一个卡牌列表作为属性。\n",
    "\n",
    "下面是一个 `Deck` 的类定义。初始化方法创建了 `cards`\n",
    "属性，然后生成了由52张牌组成一副标准卡牌。"
   ]
  },
  {
   "cell_type": "code",
   "execution_count": null,
   "id": "combined-denver",
   "metadata": {},
   "outputs": [],
   "source": [
    "class Deck:\n",
    "\n",
    "    def __init__(self):\n",
    "        self.cards = []\n",
    "        for suit in range(4):\n",
    "            for rank in range(1, 14):\n",
    "                card = Card(suit, rank)\n",
    "                self.cards.append(card)"
   ]
  },
  {
   "cell_type": "markdown",
   "id": "passing-leisure",
   "metadata": {},
   "source": [
    "生成一副牌的最简单方法是使用嵌套循环。外层循环枚举 0 到 3\n",
    "的花色。内层循环枚举 1 到 13\n",
    "的等级。每一个迭代都用当前的花色和等级创建一张新的牌。然后放入\n",
    "`self.cards` 中。\n",
    "\n",
    "## 打印一副牌\n",
    "\n",
    "下面是为 `Deck` 定义的 `__str__` 方法："
   ]
  },
  {
   "cell_type": "code",
   "execution_count": null,
   "id": "still-smile",
   "metadata": {},
   "outputs": [],
   "source": [
    "# Deck类的内部\n",
    "\n",
    "    def __str__(self):\n",
    "        res = []\n",
    "        for card in self.cards:\n",
    "            res.append(str(card))\n",
    "        return '\\n'.join(res)"
   ]
  },
  {
   "cell_type": "markdown",
   "id": "rubber-child",
   "metadata": {},
   "source": [
    "这个方法展示了累积大字符串的高效方法：建立一个字符串列表然后使用字符串方法\n",
    "`join` 。 内建函数 `str`\n",
    "会调用每个卡牌上的`__str__`方法，并返回它们的字符串表示。\n",
    "\n",
    "由于我们是在一个换行符上调用的 `join`\n",
    "，卡牌之间被换行符分隔。下面是结果示例："
   ]
  },
  {
   "cell_type": "code",
   "execution_count": null,
   "id": "theoretical-february",
   "metadata": {},
   "outputs": [
    {
     "data": {
      "text/plain": [
       "Ace of Clubs\n",
       "2 of Clubs\n",
       "3 of Clubs\n",
       "...\n",
       "10 of Spades\n",
       "Jack of Spades\n",
       "Queen of Spades\n",
       "King of Spades"
      ]
     },
     "execution_count": null,
     "metadata": {},
     "output_type": "execute_result"
    }
   ],
   "source": [
    "deck = Deck()\n",
    "print(deck)"
   ]
  },
  {
   "cell_type": "markdown",
   "id": "automated-ambassador",
   "metadata": {},
   "source": [
    "虽然这个结果有52行，但他实际上是包含换行符的一个长字符串。\n",
    "\n",
    "## 添加，移除，洗牌和排序\n",
    "\n",
    "为了发牌，我们需要一个可以把卡牌从一副牌中移除并返回的方法。 列表的\n",
    "`pop` 方法提供了一个便捷的实现："
   ]
  },
  {
   "cell_type": "code",
   "execution_count": null,
   "id": "announced-shipping",
   "metadata": {},
   "outputs": [],
   "source": [
    "# Deck类的内部\n",
    "\n",
    "    def pop_card(self):\n",
    "        return self.cards.pop()"
   ]
  },
  {
   "cell_type": "markdown",
   "id": "excellent-crash",
   "metadata": {},
   "source": [
    "Since pop removes the *last* card in the list, we are dealing from the\n",
    "bottom of the deck.\n",
    "\n",
    "由于 `pop` 移除列表的 **最后一张** 卡牌，所以我们从牌底开始发牌。\n",
    "\n",
    "我们可以使用列表的 `append` 方法，添加一张卡牌："
   ]
  },
  {
   "cell_type": "code",
   "execution_count": null,
   "id": "superb-organ",
   "metadata": {},
   "outputs": [],
   "source": [
    "# Deck类的内部\n",
    "\n",
    "    def add_card(self, card):\n",
    "        self.cards.append(card)"
   ]
  },
  {
   "cell_type": "markdown",
   "id": "continent-prompt",
   "metadata": {},
   "source": [
    "像上面这样利用别的方法（method），自己却没有做太多处理的方法，有时候被称为\n",
    "**伪装方法（veneer）** 。\n",
    "这个隐喻来源于木工行业，他们通常用一片高质量的木质薄层粘贴在一块便宜木材的表面，改善外观形象。\n",
    "\n",
    "在这里，`add_card`\n",
    "是一个“瘦”方法，以卡牌的术语来表述一个列表操作。它改善了实现的外观，或者说接口。\n",
    "\n",
    "再举一个例子，我们可以用 `random` 模块中的 `shuffle` 函数，给 `Deck`\n",
    "写一个叫 `shuffle` 的方法。"
   ]
  },
  {
   "cell_type": "code",
   "execution_count": null,
   "id": "utility-algeria",
   "metadata": {},
   "outputs": [],
   "source": [
    "# Deck类的内部\n",
    "\n",
    "    def shuffle(self):\n",
    "        random.shuffle(self.cards)"
   ]
  },
  {
   "cell_type": "markdown",
   "id": "arctic-robertson",
   "metadata": {},
   "source": [
    "不要忘记了导入 `random` 。\n",
    "\n",
    "我们做个练习，用列表的 `sort` 方法来写一个 `Deck` 的 `sort`\n",
    "方法，给卡牌排序。 `sort`使用我们定义的`__cmp__`来决定排序顺序。\n",
    "\n",
    "## 继承\n",
    "\n",
    "继承指的是在现有类的基础下进行修改，从而定义新类的能力。例如，假设我们想定义一个类来代表手牌（hand），即玩家目前手里有的牌。手牌与一副牌（deck）类似：二者都由卡牌组成，都要求支持添加和移除卡牌的操作。\n",
    "\n",
    "但二者也有区别；有些我们希望手牌具备的操作，对于 deck\n",
    "来说并不合理。例如，在扑克牌中，我们可能需要比较两个手牌，比较哪方赢了。在桥牌中，我们可能需要计算手牌的得分，才好下注。\n",
    "\n",
    "类之间有相似之处，但也存在不同，这时就可以用上继承了。你只需要在定义新类时，将现有类的名称放在括号里，即可继承现有类："
   ]
  },
  {
   "cell_type": "code",
   "execution_count": null,
   "id": "bridal-fiber",
   "metadata": {},
   "outputs": [],
   "source": [
    "class Hand(Deck):\n",
    "    \"\"\"Represents a hand of playing cards.\"\"\""
   ]
  },
  {
   "cell_type": "markdown",
   "id": "suspended-rings",
   "metadata": {},
   "source": [
    "这个定义表明，`Hand` 继承自 `Deck` ；这意味着我们也可以对 `Hands` 使用\n",
    "`Deck` 的`pop_card`和`add_card`方法。\n",
    "\n",
    "当一个新类继承自一个现有类时，现有类被称为 **父类** ，新类被称为\n",
    "**子类** 。\n",
    "\n",
    "在此例中，`Hand` 继承了 `Deck`\n",
    "的`__init__`方法，但是它并没有满足我们的要求：init 方法应该为 `Hand`\n",
    "初始化一个空的 `cards` 列表，而不是往手牌里添加 52 张新牌。\n",
    "\n",
    "如果我们提供一个 `Hand` 的 init 方法，它会覆盖从 `Deck`\n",
    "类继承来的同名方法。"
   ]
  },
  {
   "cell_type": "code",
   "execution_count": null,
   "id": "verified-intake",
   "metadata": {},
   "outputs": [],
   "source": [
    "# Hand 类的内部\n",
    "\n",
    "    def __init__(self, label=''):\n",
    "        self.cards = []\n",
    "        self.label = label"
   ]
  },
  {
   "cell_type": "markdown",
   "id": "academic-isaac",
   "metadata": {},
   "source": [
    "当你创建一个 `Hand` 时，Python 会调用这个 init 方法，而不是 `Deck`\n",
    "中的同名方法。"
   ]
  },
  {
   "cell_type": "code",
   "execution_count": null,
   "id": "integrated-reset",
   "metadata": {},
   "outputs": [
    {
     "data": {
      "text/plain": [
       "[]"
      ]
     },
     "execution_count": null,
     "metadata": {},
     "output_type": "execute_result"
    }
   ],
   "source": [
    "hand = Hand('new hand')\n",
    "hand.cards"
   ]
  },
  {
   "cell_type": "code",
   "execution_count": null,
   "id": "delayed-render",
   "metadata": {},
   "outputs": [
    {
     "data": {
      "text/plain": [
       "'new hand'"
      ]
     },
     "execution_count": null,
     "metadata": {},
     "output_type": "execute_result"
    }
   ],
   "source": [
    "hand.label"
   ]
  },
  {
   "cell_type": "markdown",
   "id": "employed-egyptian",
   "metadata": {},
   "source": [
    "其它方法是从 `Deck` 继承来的，所以我们可以使用`pop_card` 和\n",
    "`add_card`来发牌："
   ]
  },
  {
   "cell_type": "code",
   "execution_count": null,
   "id": "labeled-genealogy",
   "metadata": {},
   "outputs": [
    {
     "data": {
      "text/plain": [
       "King of Spades"
      ]
     },
     "execution_count": null,
     "metadata": {},
     "output_type": "execute_result"
    }
   ],
   "source": [
    "deck = Deck()\n",
    "card = deck.pop_card()\n",
    "hand.add_card(card)\n",
    "print(hand)"
   ]
  },
  {
   "cell_type": "markdown",
   "id": "substantial-southwest",
   "metadata": {},
   "source": [
    "很自然地，下一步就是把这些代码封装进一个叫`move_cards`的方法："
   ]
  },
  {
   "cell_type": "code",
   "execution_count": null,
   "id": "bronze-dragon",
   "metadata": {},
   "outputs": [],
   "source": [
    "# Deck类的内部\n",
    "\n",
    "    def move_cards(self, hand, num):\n",
    "        for i in range(num):\n",
    "            hand.add_card(self.pop_card())"
   ]
  },
  {
   "cell_type": "markdown",
   "id": "bibliographic-dispute",
   "metadata": {},
   "source": [
    "`move_cards`接受两个参数，一个是 `Hand` 对象，另一个是发牌的数量。\n",
    "它会同时修改 `self` 和 `hand` ，然后返回 `None` 。\n",
    "\n",
    "在有些游戏里面，卡牌从一个手牌移动到另外一个手牌，或者从手牌退还到牌堆里面。\n",
    "任何这些操作都可以使用 `move_cards`：`self` 可以是一个 `Deck` 或者一个\n",
    "`Hand` ，而且尽管名字叫 `hand` ，它也可以是一个 `Deck` 。\n",
    "\n",
    "继承是一个非常有用的特性。有了继承，一些重复性的代码可以写得非常的优雅。\n",
    "继承有助于代码重用，因为你可以在不修改父类定义的前提下，就改变父类的行为。\n",
    "在有些情况下，继承的结构反映了真实问题的结构，使得程序更易于理解。\n",
    "\n",
    "另一方面，继承又有可能会使得程序更加难读。\n",
    "当调用一个方法时，有时候搞不清楚去哪找它的定义。\n",
    "相关的代码可能被分散在几个模块之中。\n",
    "而且，许多用继承能完成的事情，不用继承也可以完成，有可能还完成得更好。\n",
    "\n",
    "## 类图\n",
    "\n",
    "到目前为止我们已经了解过栈图，它显示的是一个程序的状态；以及对象图，它显示的是一个对象的属性及其值。这些图代表了程序执行中的一个快照，所以它们随着程序的运行而变化。\n",
    "\n",
    "它们也十分的详细；但有些时候显得过于详细了。类图是程序结构的一种更加抽象的表达。\n",
    "它显示的是类和类之间的关系，而不是每个独立的对象。\n",
    "\n",
    "类之间有如下几种关系：\n",
    "\n",
    "-   一个类中的对象可以包含对另外一个类的对象的引用。例如，每一个矩形包含对点的引用，每一个\n",
    "    `Deck` 包含对许多 `Card` 的引用。这种关系被称为组合( **HAS-A**\n",
    "    )，可以类似这样描述：“一个矩形有一个（has a）点”。\n",
    "-   一个类可能继承自另外一个类。这种关系被称为继承(**IS-A**)，可以类似这样描述：“Hand\n",
    "    is a kind of Deck”。\n",
    "-   一个类可能强赖另一个类，因为前者中的对象接受后者中的对象作为参数，或者使用后者中的对象作为计算的一部分。这种关系被称为\n",
    "    **依赖** 。\n",
    "\n",
    "类图是这些关系的图形化表示。例如，`fig.class1`标明了 `Card` ， `Deck` 和\n",
    "`Hand` 之间的关系。\n",
    "\n",
    "<div id=\"fig.class1\">\n",
    "\n",
    "![图18-2：类图](figs/class1.png)\n",
    "\n",
    "</div>\n",
    "\n",
    "带空心三角的箭头表示 IS-A 的关系；这里它表示 `Hand` 继承自 `Deck` 。\n",
    "\n",
    "标准箭头表示 HAS-A 的关系；这里表示 `Deck` 包含对 `Card` 对象的引用。\n",
    "\n",
    "箭头旁边的星号是一个复数（ **multiplicity** ）表达；它表示 `Deck`\n",
    "包含多少个 `Card` 。一个复数表达可以是一个简单的数字(如 52\n",
    ")，一个范围（如5..7）或者是\\*，表示有任意数量的 `Card` 。\n",
    "\n",
    "上图中没有标出依赖关系。这种关系通常使用虚线箭头表示。或者，如果有很多依赖关系的话，有时候会省略。\n",
    "\n",
    "一个更详细的类图可能会显示 `Deck` 实际包含了一个由 `Cards`\n",
    "组成的列表，但是通常类图中不会包含 `list` 和 `dict` 等内建类型。\n",
    "\n",
    "## 数据封装\n",
    "\n",
    "前面几章中描述了一种可以称为”面向对象设计“的开发计划。我们确定所需要的对象\n",
    "—— 如`Point` 、 `Rectangle` 和 `Time` —— 然后定义代表它们的类。\n",
    "对于每个类来说，这个类对象和真实世界（或至少是数学世界）中的某种实体具有明显的对应关系。\n",
    "\n",
    "但是有时有很难界定你需要的对象以及它们如何交互。在这个时候，你需要一个不同的开发计划。之前我们通过封装和泛化来编写函数接口，我们同样可以通过\n",
    "**数据封装** 来编写类接口。\n",
    "\n",
    "[markov](markov.ipynb)一节中介绍的马尔科夫分析就是一个很好的例子。如果你从<http://thinkpython2.com/code/markov.py>\n",
    "下载我的代码，你会发现它使用了两个全局变量 ——\n",
    "`suffix_map`和`prefix`，它们被多个函数进行读写。"
   ]
  },
  {
   "cell_type": "code",
   "execution_count": null,
   "id": "driven-safety",
   "metadata": {},
   "outputs": [],
   "source": [
    "suffix_map = {}        \n",
    "prefix = ()            "
   ]
  },
  {
   "cell_type": "markdown",
   "id": "developed-scotland",
   "metadata": {},
   "source": [
    "因为这些变量是全局的，我们一次只能运行一个分析。如果我们读取了两个文本，\n",
    "它们的前缀和后缀会被加入相同的数据结构（会使得输出文本混乱）。\n",
    "\n",
    "如果想同时运行多个分析，并且保持它们的相互独立，我们可以把每个分析的状态封装到一个对象中。\n",
    "下面是一个示例："
   ]
  },
  {
   "cell_type": "code",
   "execution_count": null,
   "id": "threaded-fairy",
   "metadata": {},
   "outputs": [],
   "source": [
    "class Markov:\n",
    "\n",
    "    def __init__(self):\n",
    "        self.suffix_map = {}\n",
    "        self.prefix = ()    "
   ]
  },
  {
   "cell_type": "markdown",
   "id": "imposed-teach",
   "metadata": {},
   "source": [
    "下一步，我们把这些函数转换为方法。例如：下面是`process_word`："
   ]
  },
  {
   "cell_type": "code",
   "execution_count": null,
   "id": "fluid-syndrome",
   "metadata": {},
   "outputs": [],
   "source": [
    "def process_word(self, word, order=2):\n",
    "    if len(self.prefix) < order:\n",
    "        self.prefix += (word,)\n",
    "        return\n",
    "\n",
    "    try:\n",
    "        self.suffix_map[self.prefix].append(word)\n",
    "    except KeyError:\n",
    "        # if there is no entry for this prefix, make one\n",
    "        self.suffix_map[self.prefix] = [word]\n",
    "\n",
    "    self.prefix = shift(self.prefix, word)        "
   ]
  },
  {
   "cell_type": "markdown",
   "id": "minimal-nowhere",
   "metadata": {},
   "source": [
    "像这样改变一个程序 —— 改变设计而保持功能不变 ——\n",
    "是代码重构的另一个例子（参见[refactoring](refactoring.ipynb)一节）。\n",
    "\n",
    "下面的例子给出了一种设计对象和方法的开发计划：\n",
    "\n",
    "1.  首先编写读取全局变量的函数（如有必要）。\n",
    "2.  一旦你让程序跑起来了，开始查找全局变量和使用它们的函数的联系。\n",
    "3.  封装相关的变量作为一个对象的属性。\n",
    "4.  转换相关函数为新类的方法。\n",
    "\n",
    "我们做个练习，从 <http://thinkpython2.com/code/markov.py>\n",
    "下载我的马尔科夫分析代码，然后按照上面所述的步骤，将全局变量封装为新类\n",
    "`Markov` （注意M为大写）的属性。\n",
    "\n",
    "## 调试\n",
    "\n",
    "继承会使得调试变得更加复杂，因为你可能不知道实际调用的是哪个类的方法。\n",
    "\n",
    "假设你在写一个处理 `Hand` 对象的函数。你可能会想让它可以处理所有种类的\n",
    "`Hand` ，如 `PockerHands` ，`BridgeHands` ，等等。如果你调用类似\n",
    "`shuffle` 这样的方法，你可能会得到 `Deck` 中定义的那个，\n",
    "但是如果有任何一个子类覆盖了这个方法。你实际上得到的是子类的那个方法。这个行为通常是一件好事，但是容易让人混淆。\n",
    "\n",
    "只要你不确定程序的执行流程，最简单的方法是在相关方法的开始处添加 `print`\n",
    "语 句。如果 `Deck.shuffle` 打印一条如像 `Running Deck.shuffle`\n",
    "的消息，那么随着程序的运行，它会追踪执行的流程。\n",
    "\n",
    "另外一种方法是使用下面的函数，它接受一个对象和一个方法的名字（字符串格式）作\n",
    "为参数，然后返回提供这个方法定义的类："
   ]
  },
  {
   "cell_type": "code",
   "execution_count": null,
   "id": "valuable-prague",
   "metadata": {},
   "outputs": [],
   "source": [
    "def find_defining_class(obj, meth_name):\n",
    "    for ty in type(obj).mro():\n",
    "        if meth_name in ty.__dict__:\n",
    "            return ty"
   ]
  },
  {
   "cell_type": "markdown",
   "id": "written-electronics",
   "metadata": {},
   "source": [
    "例如："
   ]
  },
  {
   "cell_type": "code",
   "execution_count": null,
   "id": "surface-longer",
   "metadata": {},
   "outputs": [
    {
     "data": {
      "text/plain": [
       "<class 'Card.Deck'>"
      ]
     },
     "execution_count": null,
     "metadata": {},
     "output_type": "execute_result"
    }
   ],
   "source": [
    "hand = Hand()\n",
    "find_defining_class(hand, 'shuffle')"
   ]
  },
  {
   "cell_type": "markdown",
   "id": "closing-proxy",
   "metadata": {},
   "source": [
    "所以 `Hand` 的 `shuffle` 方法是来自于 `Deck` 的。\n",
    "\n",
    "`find_defining_class`使用 `mro` 方法获得将类对象（类型）的列表，\n",
    "解释器将会从这里依次搜索哪个类提供了这个方法。“MOR”是“method resolution\n",
    "order”的简称，指的是Python “解析” 方法名时将搜索的一个类序列。\n",
    "\n",
    "我提一个对程序设计的建议：当你覆盖一个方法时，新方法的接口应该与旧方法保持一致。\n",
    "它们应该接受相同的参数，返回相同的类型，遵守相同的先决条件和后置条件。\n",
    "如果你遵循这个原则，你会发现：任何你设计的函数，只要能用于一个父类的对象（\n",
    "如 `Deck` ），就能够用于任何子类的实例（如 `Hand` 和 `PockerHand` ）。\n",
    "\n",
    "如果你违背这条规则（该原则被称为“里氏代换原理”，英文为：Liskov\n",
    "substitution principle），你的代码逻辑就会变得乱七八糟。\n",
    "\n",
    "## 术语表\n",
    "\n",
    "编码（encode）：\n",
    "\n",
    "> 利用另一组值代表一组值，方法时构建二者之间的映射。\n",
    "\n",
    "类属性（class attribute）：\n",
    "\n",
    "> 与类对象相关联的属性。类属性定义在类定义的内部，但在方法的外部。\n",
    "\n",
    "实例属性（instance attribute）：\n",
    "\n",
    "> 与类的实例相关联的属性。\n",
    "\n",
    "伪装方法（veneer）：\n",
    "\n",
    "> 提供另一个函数的不同接口，但不做太多计算的函数或方法。\n",
    "\n",
    "继承（inheritance）：\n",
    "\n",
    "> 在此前定义的类的基础下进行修改，从而定义一个新类的能力。\n",
    "\n",
    "父类（parent class）：\n",
    "\n",
    "> 子类所继承自的类。\n",
    "\n",
    "子类（child class）：\n",
    "\n",
    "> 通过继承一个现有类创建的新类。\n",
    "\n",
    "IS-A 关系：\n",
    "\n",
    "> 子类和父类之间的关系。\n",
    "\n",
    "HAS-A 关系：\n",
    "\n",
    "> 两个类之中，有一个类包含对另一个类的实例的引用的关系。\n",
    "\n",
    "依赖（dependency）：\n",
    "\n",
    "> 两个类之中，一个类的实例使用了另一个类的实例，但没有将其保存为属性的关系。\n",
    "\n",
    "类图（class diagram）：\n",
    "\n",
    "> 表明程序中包含的类及其之间的关系的图示。\n",
    "\n",
    "复数（multiplicity）：\n",
    "\n",
    "> 类图中的一种标记，表明在 HAS-A\n",
    "> 关系中，某个对包含了多少个对另一个类实例的引用。\n",
    "\n",
    "数据封装（data encapsulation）：\n",
    "\n",
    "> 一种程序开发计划，包括首先编写一个使用全局变量的原型，然后再讲全局变量变成实例属性的最终版代码。\n",
    "\n",
    "## 练习题\n",
    "\n",
    "### 习题18-1\n",
    "\n",
    "针对以下程序，画一个 UML 类图，说明其中包含的类及其之间的关系。"
   ]
  },
  {
   "cell_type": "code",
   "execution_count": null,
   "id": "municipal-fantasy",
   "metadata": {},
   "outputs": [],
   "source": [
    "class PingPongParent:\n",
    "    pass\n",
    "\n",
    "class Ping(PingPongParent):\n",
    "    def __init__(self, pong):\n",
    "        self.pong = pong\n",
    "\n",
    "\n",
    "class Pong(PingPongParent):\n",
    "    def __init__(self, pings=None):\n",
    "        if pings is None:\n",
    "            self.pings = []\n",
    "        else:\n",
    "            self.pings = pings\n",
    "\n",
    "    def add_ping(self, ping):\n",
    "        self.pings.append(ping)\n",
    "\n",
    "pong = Pong()\n",
    "ping = Ping(pong)\n",
    "pong.add_ping(ping)"
   ]
  },
  {
   "cell_type": "markdown",
   "id": "bronze-repair",
   "metadata": {},
   "source": [
    "### 习题18-2\n",
    "\n",
    "为 `Deck` 编写一个叫 `deal_hands`\n",
    "的方法，接受两个参数：手牌的数量以及每个手牌的卡牌数。它应该创建相应数量的\n",
    "`Hand` 对象，给每个手牌发放相应数量的卡牌，然后返回一个 `Hands` 列表。\n",
    "\n",
    "下面是扑克牌中可能的手牌（牌型），越往下值越大，几率越低：\n",
    "\n",
    "对牌：\n",
    "\n",
    "> 两张相同牌面的牌\n",
    "\n",
    "两对牌：\n",
    "\n",
    "> 两对相同牌面的牌\n",
    "\n",
    "三条：\n",
    "\n",
    "> 三张等级相同的牌\n",
    "\n",
    "顺子：\n",
    "\n",
    "> 五张连续的牌（A可高可低。如A-2-3-4-5是一个顺子,10-J-Q-K-A也\n",
    "> 是。但是Q-K-A-2-3就不是）\n",
    "\n",
    "同花：\n",
    "\n",
    "> 五张花色一样的牌\n",
    "\n",
    "三代二：\n",
    "\n",
    "> 三张等级一样的牌，另外两张等级一样的牌\n",
    "\n",
    "四条：\n",
    "\n",
    "> 四张牌面一样的牌\n",
    "\n",
    "同花顺：\n",
    "\n",
    "> 五张花色相同的等级连续的牌\n",
    "\n",
    "### 习题18-3\n",
    "\n",
    "下面这些习题的目的，是估算抽到不同手牌的几率。\n",
    "\n",
    "1.  从<http://thinkpython2.com/code> 页面下载以下文件：\n",
    "    Card.py  \n",
    "    : 本章中完整版本的Card , Deck和Hand类。"
   ]
  },
  {
   "cell_type": "markdown",
   "id": "heavy-harrison",
   "metadata": {},
   "source": [
    "    PokerHand.py  \n",
    "    : 代表 poker hand 的不完整的实现，和一些测试代码。\n",
    "2.  如果你运行 `PokerHand.py` ,它会发放 7 张牌的 poker\n",
    "    hand，检查是否含有顺子。仔细阅读代码，再继续下面的内容。\n",
    "3.  往 `PokerHand.py` 文件中添加叫做 `has_pair` 、 `has_twopair`\n",
    "    等方法，这些方法根据手牌是否满足相应的标准来返回 `True` 或 `False`\n",
    "    。你的代码应该可以正确地处理包含任意卡牌数量（虽然 5 和 7\n",
    "    是最常见的数量）的手牌。\n",
    "4.  写一个叫 `classify`\n",
    "    的方法，计算出一个手牌的最高值分类，然后设置对应的 `label`\n",
    "    属性。例如，一个 7\n",
    "    张牌的手牌可能包含一个顺子和一个对子；那么它应该标注为“顺子”。\n",
    "5.  确信你的分类方法是正确的之后，下一步是估算这些不同手牌出现的几率。在\n",
    "    `PokerHand.py`\n",
    "    中编写一个函数，完成洗牌，分牌，对牌分类，然后记录每种分类出现的次数。\n",
    "6.  打印每种分类和对应频率的表格。运行你的程序，不断增加手牌的卡牌数量，直到输出的值保持在足够准确的范围。将你的结果和<http://en.wikipedia.org/wiki/Hand_rankings>\n",
    "    页面中的的值进行比较。"
   ]
  },
  {
   "cell_type": "markdown",
   "id": "instrumental-oregon",
   "metadata": {},
   "source": [
    "答案： <http://thinkpython2.com/code/PokerHandSoln.py> 。\n",
    "\n",
    "### **贡献者**\n",
    "\n",
    "1.  翻译：[@bingjin](https://github.com/bingjin)\n",
    "2.  校对：[@bingjin](https://github.com/bingjin)\n",
    "3.  参考：[@carfly](https://github.com/carfly)"
   ]
  }
 ],
 "metadata": {
  "jupytext": {
   "formats": "ipynb,md:myst"
  },
  "kernelspec": {
   "display_name": "Python 3",
   "language": "python",
   "name": "python3"
  }
 },
 "nbformat": 4,
 "nbformat_minor": 5
}
