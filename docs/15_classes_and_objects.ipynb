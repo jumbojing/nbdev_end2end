{
 "cells": [
  {
   "cell_type": "markdown",
   "id": "precious-outreach",
   "metadata": {},
   "source": [
    "$$\n",
    "\\def\\CC{\\bf C}\n",
    "\\def\\QQ{\\bf Q}\n",
    "\\def\\RR{\\bf R}\n",
    "\\def\\ZZ{\\bf Z}\n",
    "\\def\\NN{\\bf N}\n",
    "$$\n",
    "# 第十五章：类和对象\n",
    "\n",
    "目前你已经知道如何使用函数来组织你的代码，同时用内置的类型来管理数据。\n",
    "下一步我们将学习“面向对象编程”，即使用 程序员定义的类来组织代码和数据。\n",
    "面向对象编程是一个很大的话题，讲完需要一些章节。\n",
    "\n",
    "本章的示例代码可以在<http://thinkpython2.com/code/Point1.py> 获取；\n",
    "练习题的答案可以在<http://thinkpython2.com/code/Point1_soln.py> 获取。\n",
    "\n",
    "## 程序员自定义类型\n",
    "\n",
    "我们已经使用过了许多 Python 的内置类型；\n",
    "现在我们要定义一个新类型。举个例子，我们来创建一个叫做 `Point`\n",
    "的类型，代表二维空间中的一个点。\n",
    "\n",
    "在数学记法中，点通常被写成在两个小括号中用一个逗号分隔坐标的形式。\n",
    "例如$(0,0)$代表原点，$(x,y)$代表原点向右 x 个单位，向上 y 个单位的点。\n",
    "\n",
    "在 Python 中，有几种表示点的方法：\n",
    "\n",
    "-   我们可以将坐标存储在两个独立的变量，x和y中。\n",
    "-   我们可以将坐标作为一个列表或者元组的元素存储。\n",
    "-   我们可以创建一个新类型将点表示为对象。\n",
    "\n",
    "创建一个新类型比其他方法更复杂，但是它的优势一会儿会显现出来。\n",
    "\n",
    "程序员自定义类型( A programmer-defined type )也被称作**类（class）**。\n",
    "像这样定义一个对象："
   ]
  },
  {
   "cell_type": "code",
   "execution_count": null,
   "id": "continuous-worth",
   "metadata": {},
   "outputs": [],
   "source": [
    "class Point:\n",
    "    \"\"\"Represents a point in 2-D space.\"\"\""
   ]
  },
  {
   "cell_type": "markdown",
   "id": "technological-cleanup",
   "metadata": {},
   "source": [
    "头部语句表明新类的名称是 `Point` 。\n",
    "主体部分是文档字符串，用来解释这个类的用途。\n",
    "你可以在一个类的定义中定义变量和函数，稍后会讨论这个。\n",
    "\n",
    "定义一个叫做 `Point` 的类将创建了一个**类对象（class object）**。"
   ]
  },
  {
   "cell_type": "code",
   "execution_count": null,
   "id": "working-testimony",
   "metadata": {},
   "outputs": [
    {
     "data": {
      "text/plain": [
       "<class '__main__.Point'>"
      ]
     },
     "execution_count": 1,
     "metadata": {},
     "output_type": "execute_result"
    }
   ],
   "source": [
    "Point"
   ]
  },
  {
   "cell_type": "markdown",
   "id": "likely-principal",
   "metadata": {},
   "source": [
    "由于 `Point` 是定义在顶层的，所以它的“全名”是`__main__.Point`。\n",
    "\n",
    "类对象就像是一个用来创建对象的工厂。\n",
    "要创建一个点，你可以像调用函数那样调用 `Point` 。"
   ]
  },
  {
   "cell_type": "code",
   "execution_count": null,
   "id": "excellent-lesbian",
   "metadata": {},
   "outputs": [
    {
     "data": {
      "text/plain": [
       "<__main__.Point object at 0xb7e9d3ac>"
      ]
     },
     "execution_count": 1,
     "metadata": {},
     "output_type": "execute_result"
    }
   ],
   "source": [
    "blank = Point()\n",
    "blank"
   ]
  },
  {
   "cell_type": "markdown",
   "id": "statistical-respect",
   "metadata": {},
   "source": [
    "返回值是一个 `Point` 对象的引用，我们将它赋值给 `blank` 。\n",
    "\n",
    "创建一个新对象的过程叫做**实例化（instantiation）**，这个新对象叫做这个类的一个**实例（instance）**。\n",
    "\n",
    "当你试图打印一个实例，Python 会告诉你它属于哪个类，\n",
    "以及它在内存中的存储地址（前缀0x代表紧跟后面的数是以十六进制表示的）。\n",
    "\n",
    "每一个对象都是某种类的实例，所以对象和实例可以互换。但是在这章我用“实例”来表示我在讨论程序员自定义类型。\n",
    "\n",
    "## 属性\n",
    "\n",
    "你可以使用点标记法向一个实例进行赋值操作："
   ]
  },
  {
   "cell_type": "code",
   "execution_count": null,
   "id": "bound-exception",
   "metadata": {},
   "outputs": [],
   "source": [
    "blank.x = 3.0\n",
    "blank.y = 4.0"
   ]
  },
  {
   "cell_type": "markdown",
   "id": "broken-raise",
   "metadata": {},
   "source": [
    "这个语法类似于从一个模块中使用变量的语法，比如 `math.pi` 和\n",
    "`string.whitespace` 。\n",
    "不过在这个例子中，我们是给一个类中已命名的元素赋值。\n",
    "这类元素叫做**属性（attributes）**。\n",
    "\n",
    "作为名词的时候，“属性”的英文“AT-trib-ute”的重音在第一个音节上，\n",
    "作为动词的时候，“a-TRIB-ute”重音在第二个音节上。\n",
    "\n",
    "下面这张图展示了这些赋值操作的结果。说明一个对象及其属性的状态图叫做**对象图（object\n",
    "diagram）**；见图`fig.point`。\n",
    "\n",
    "<div id=\"fig.point\">\n",
    "\n",
    "![图15-1：对象图](figs/point.png)\n",
    "\n",
    "</div>\n",
    "\n",
    "变量 `blank` 引用了一个 `Point` 类，这个类拥有了两个属性。\n",
    "每个属性都引用了一个浮点数。\n",
    "\n",
    "你可以使用相同的语法读取一个属性的值："
   ]
  },
  {
   "cell_type": "code",
   "execution_count": null,
   "id": "wooden-sponsorship",
   "metadata": {},
   "outputs": [
    {
     "data": {
      "text/plain": [
       "4.0"
      ]
     },
     "execution_count": 1,
     "metadata": {},
     "output_type": "execute_result"
    }
   ],
   "source": [
    "blank.y"
   ]
  },
  {
   "cell_type": "code",
   "execution_count": null,
   "id": "cognitive-insert",
   "metadata": {},
   "outputs": [
    {
     "data": {
      "text/plain": [
       "3.0"
      ]
     },
     "execution_count": 1,
     "metadata": {},
     "output_type": "execute_result"
    }
   ],
   "source": [
    "x = blank.x\n",
    "x"
   ]
  },
  {
   "cell_type": "markdown",
   "id": "premium-freeware",
   "metadata": {},
   "source": [
    "表达式 `blank.x` 的意思是，“前往 `blank` 所引用的对象并且获取 `x`\n",
    "的值”。 在这个例子中，我们将获取到的值赋值给了一个叫做 `x` 的变量。 变量\n",
    "`x` 和属性 `x` 并不会冲突。\n",
    "\n",
    "你可以在任何表达式中使用点标记法。例如："
   ]
  },
  {
   "cell_type": "code",
   "execution_count": null,
   "id": "cellular-tutorial",
   "metadata": {},
   "outputs": [
    {
     "data": {
      "text/plain": [
       "'(3.0, 4.0)'"
      ]
     },
     "execution_count": 1,
     "metadata": {},
     "output_type": "execute_result"
    }
   ],
   "source": [
    "'(%g, %g)' % (blank.x, blank.y)"
   ]
  },
  {
   "cell_type": "code",
   "execution_count": null,
   "id": "quantitative-richards",
   "metadata": {},
   "outputs": [
    {
     "data": {
      "text/plain": [
       "5.0"
      ]
     },
     "execution_count": 1,
     "metadata": {},
     "output_type": "execute_result"
    }
   ],
   "source": [
    "distance = math.sqrt(blank.x**2 + blank.y**2)\n",
    "distance"
   ]
  },
  {
   "cell_type": "markdown",
   "id": "moral-mileage",
   "metadata": {},
   "source": [
    "你可以将一个实例作为参数传递。 例如："
   ]
  },
  {
   "cell_type": "code",
   "execution_count": null,
   "id": "announced-tractor",
   "metadata": {},
   "outputs": [],
   "source": [
    "def print_point(p):\n",
    "    print('(%g, %g)' % (p.x, p.y))"
   ]
  },
  {
   "cell_type": "markdown",
   "id": "willing-genome",
   "metadata": {},
   "source": [
    "`print_point`接受一个点作为参数，打印出其在数学中的表示方法。\n",
    "调用它的时候，你可以将 `blank` 作为参数传递："
   ]
  },
  {
   "cell_type": "code",
   "execution_count": null,
   "id": "driving-millennium",
   "metadata": {},
   "outputs": [
    {
     "data": {
      "text/plain": [
       "(3.0, 4.0)"
      ]
     },
     "execution_count": 1,
     "metadata": {},
     "output_type": "execute_result"
    }
   ],
   "source": [
    "print_point(blank)"
   ]
  },
  {
   "cell_type": "markdown",
   "id": "enormous-camel",
   "metadata": {},
   "source": [
    "在这个函数内部，`p` 是 `blank` 的别名， 所以，如果函数修改了 `p`\n",
    "，`blank` 也会随之改变。\n",
    "\n",
    "我们做个联系，编写一个叫做`distance_between_points`的函数，它接受两个\n",
    "`Point` 作为参数，然后返回这两个点之间的距离。\n",
    "\n",
    "## 矩形\n",
    "\n",
    "有时候，一个对象该拥有哪些属性是显而易见的，但有时候你需要好好考虑一番。\n",
    "比如，你需要设计一个代表矩形的类。\n",
    "为了描述一个矩形的位置和大小，你需要设计哪些属性呢？\n",
    "角度是可以忽略的；为了使事情更简单，我们假设矩形是水平或者竖直的。\n",
    "\n",
    "至少有两种可能的设计：\n",
    "\n",
    "-   你可以指定矩形的一个角（或是中心）、宽度以及长度。\n",
    "-   你可以指定对角线上的两个角。\n",
    "\n",
    "这个时候还不能够说明哪个方法优于哪个方法。我们先来实现前者。\n",
    "\n",
    "下面是类的定义："
   ]
  },
  {
   "cell_type": "code",
   "execution_count": null,
   "id": "electoral-wales",
   "metadata": {},
   "outputs": [],
   "source": [
    "class Rectangle:\n",
    "    \"\"\"Represents a rectangle.\n",
    "\n",
    "    attributes: width, height, corner.\n",
    "    \"\"\""
   ]
  },
  {
   "cell_type": "markdown",
   "id": "artistic-galaxy",
   "metadata": {},
   "source": [
    "文档字符串中列出了属性：`width` 和 `height` 是数字； `corner`是一个\n",
    "`Point` 对象，代表左下角的那个点。\n",
    "\n",
    "为了描述一个矩形，你需要实例化一个 `Rectangle`\n",
    "对象，并且为它的属性赋值："
   ]
  },
  {
   "cell_type": "code",
   "execution_count": null,
   "id": "detected-purpose",
   "metadata": {},
   "outputs": [],
   "source": [
    "box = Rectangle()\n",
    "box.width = 100.0\n",
    "box.height = 200.0\n",
    "box.corner = Point()\n",
    "box.corner.x = 0.0\n",
    "box.corner.y = 0.0"
   ]
  },
  {
   "cell_type": "markdown",
   "id": "fallen-thinking",
   "metadata": {},
   "source": [
    "表达式 `box.corner.x` 的意思是， “前往 `box` 所引用的对象，找到叫做\n",
    "`corner` 的属性； 然后前往 `corner` 所引用的对象，找到叫做 `x` 的属性。”\n",
    "\n",
    "<div id=\"fig.rectangle\">\n",
    "\n",
    "![图15-2：对象图](figs/rectangle.png)\n",
    "\n",
    "</div>\n",
    "\n",
    "`fig.rectangle`展示了这个对象的状态。\n",
    "一个对象作为另一个对象的属性叫做**嵌套（embedded）**。\n",
    "\n",
    "## 实例作为返回值\n",
    "\n",
    "函数可以返回实例。例如，`find_center`接受一个 `Rectangle` 作为参数，\n",
    "返回一个 `Point` ，代表了这个 `Rectangle` 的中心坐标："
   ]
  },
  {
   "cell_type": "code",
   "execution_count": null,
   "id": "monthly-right",
   "metadata": {},
   "outputs": [],
   "source": [
    "def find_center(rect):\n",
    "    p = Point()\n",
    "    p.x = rect.corner.x + rect.width/2\n",
    "    p.y = rect.corner.y + rect.height/2\n",
    "    return p"
   ]
  },
  {
   "cell_type": "markdown",
   "id": "communist-norfolk",
   "metadata": {},
   "source": [
    "下面这个例子将 `box` 作为参数传递，然后将返回的 `Point` 赋值给\n",
    "`center`："
   ]
  },
  {
   "cell_type": "code",
   "execution_count": null,
   "id": "liberal-librarian",
   "metadata": {},
   "outputs": [
    {
     "data": {
      "text/plain": [
       "(50, 100)"
      ]
     },
     "execution_count": 1,
     "metadata": {},
     "output_type": "execute_result"
    }
   ],
   "source": [
    "center = find_center(box)\n",
    "print_point(center)"
   ]
  },
  {
   "cell_type": "markdown",
   "id": "convinced-lindsay",
   "metadata": {},
   "source": [
    "## 对象是可变的\n",
    "\n",
    "你可以通过给一个对象的属性赋值来改变这个对象的状态。\n",
    "例如，要改变一个矩形的大小而不改变它的位置，你可以修改 `width` 和\n",
    "`height` 的值："
   ]
  },
  {
   "cell_type": "code",
   "execution_count": null,
   "id": "transparent-custody",
   "metadata": {},
   "outputs": [],
   "source": [
    "box.width = box.width + 50\n",
    "box.height = box.height + 100"
   ]
  },
  {
   "cell_type": "markdown",
   "id": "least-banana",
   "metadata": {},
   "source": [
    "你也可以编写函数来修改对象。 例如，`grow_rectangle`接受一个 `Rectangle`\n",
    "对象和两个数字， `dwidth`和 `dheight` ，并将其加到矩形的宽度和高度上："
   ]
  },
  {
   "cell_type": "code",
   "execution_count": null,
   "id": "meaningful-distribution",
   "metadata": {},
   "outputs": [],
   "source": [
    "def grow_rectangle(rect, dwidth, dheight):\n",
    "    rect.width += dwidth\n",
    "    rect.height += dheight"
   ]
  },
  {
   "cell_type": "markdown",
   "id": "identical-monroe",
   "metadata": {},
   "source": [
    "下面的例子展示了具体效果："
   ]
  },
  {
   "cell_type": "code",
   "execution_count": null,
   "id": "durable-wilderness",
   "metadata": {},
   "outputs": [
    {
     "data": {
      "text/plain": [
       "(150.0, 300.0)"
      ]
     },
     "execution_count": 1,
     "metadata": {},
     "output_type": "execute_result"
    }
   ],
   "source": [
    "box.width, box.height"
   ]
  },
  {
   "cell_type": "code",
   "execution_count": null,
   "id": "suburban-validity",
   "metadata": {},
   "outputs": [
    {
     "data": {
      "text/plain": [
       "(200.0, 400.0)"
      ]
     },
     "execution_count": 1,
     "metadata": {},
     "output_type": "execute_result"
    }
   ],
   "source": [
    "grow_rectangle(box, 50, 100)\n",
    "box.width, box.height"
   ]
  },
  {
   "cell_type": "markdown",
   "id": "freelance-trademark",
   "metadata": {},
   "source": [
    "在函数内部，`rect` 是 `box` 的一个别名， 所以如果函数修改了 `rect` ，则\n",
    "`box` 也随之改变。\n",
    "\n",
    "我们做个练习，编写一个叫做`move_rectangle`的函数，接受一个 `Rectangle`\n",
    "以及两个数字`dx`和`dy`。 它把 `corner` 的 `x` 坐标加上 `dx`，把 `corner`\n",
    "的 `y` 坐标加上 `dy` ， 从而改变矩形的位置。\n",
    "\n",
    "## 复制\n",
    "\n",
    "别名会降低程序的可读性，因为一个地方的变动可能对另一个地方造成预料之外的影响。\n",
    "跟踪所有引用同一个对象的变量是非常困难的。\n",
    "\n",
    "通常用复制对象的方法取代为对象起别名。 `copy`模块拥有一个叫做 `copy`\n",
    "的函数，可以复制任何对象："
   ]
  },
  {
   "cell_type": "code",
   "execution_count": null,
   "id": "protected-crash",
   "metadata": {},
   "outputs": [],
   "source": [
    "p1 = Point()\n",
    "p1.x = 3.0\n",
    "p1.y = 4.0"
   ]
  },
  {
   "cell_type": "code",
   "execution_count": null,
   "id": "focal-marijuana",
   "metadata": {},
   "outputs": [],
   "source": [
    "import copy\n",
    "p2 = copy.copy(p1)"
   ]
  },
  {
   "cell_type": "markdown",
   "id": "embedded-proposition",
   "metadata": {},
   "source": [
    "`p1`和 `p2` 拥有相同的数据，但是它们并不是同一个 `Point` 对象。"
   ]
  },
  {
   "cell_type": "code",
   "execution_count": null,
   "id": "fabulous-pilot",
   "metadata": {},
   "outputs": [
    {
     "data": {
      "text/plain": [
       "(3, 4)"
      ]
     },
     "execution_count": 1,
     "metadata": {},
     "output_type": "execute_result"
    }
   ],
   "source": [
    "print_point(p1)"
   ]
  },
  {
   "cell_type": "code",
   "execution_count": null,
   "id": "intermediate-collar",
   "metadata": {},
   "outputs": [
    {
     "data": {
      "text/plain": [
       "(3, 4)"
      ]
     },
     "execution_count": 1,
     "metadata": {},
     "output_type": "execute_result"
    }
   ],
   "source": [
    "print_point(p2)"
   ]
  },
  {
   "cell_type": "code",
   "execution_count": null,
   "id": "competent-roller",
   "metadata": {},
   "outputs": [
    {
     "data": {
      "text/plain": [
       "False"
      ]
     },
     "execution_count": 1,
     "metadata": {},
     "output_type": "execute_result"
    }
   ],
   "source": [
    "p1 is p2"
   ]
  },
  {
   "cell_type": "code",
   "execution_count": null,
   "id": "consecutive-violence",
   "metadata": {},
   "outputs": [
    {
     "data": {
      "text/plain": [
       "False"
      ]
     },
     "execution_count": 1,
     "metadata": {},
     "output_type": "execute_result"
    }
   ],
   "source": [
    "p1 == p2"
   ]
  },
  {
   "cell_type": "markdown",
   "id": "rural-concentrate",
   "metadata": {},
   "source": [
    "正如我们预期的，`is` 运算符显示了 `p1` 和 `p2` 并非同一个对象。\n",
    "不过你可能会认为 `==` 运算的结果应该是 `True`\n",
    "，因为这两个点的数据是相同的。 然而结果并不如你想象的那样，`==`\n",
    "运算符的默认行为和 `is` 运算符相同；\n",
    "它检查对象的标识（identity）是否相同，而非对象的值是否相同。 因为 Python\n",
    "并不知道什么样可以被认为相同。至少目前不知道。\n",
    "\n",
    "如果你使用 `copy.copy` 来复制一个 `Rectangle` ， 你会发现它仅仅复制了\n",
    "`Rectangle` 对象，但没有复制嵌套的 `Point` 对象。"
   ]
  },
  {
   "cell_type": "code",
   "execution_count": null,
   "id": "promising-porter",
   "metadata": {},
   "outputs": [
    {
     "data": {
      "text/plain": [
       "False"
      ]
     },
     "execution_count": 1,
     "metadata": {},
     "output_type": "execute_result"
    }
   ],
   "source": [
    "box2 = copy.copy(box)\n",
    "box2 is box"
   ]
  },
  {
   "cell_type": "code",
   "execution_count": null,
   "id": "alone-possession",
   "metadata": {},
   "outputs": [
    {
     "data": {
      "text/plain": [
       "True"
      ]
     },
     "execution_count": 1,
     "metadata": {},
     "output_type": "execute_result"
    }
   ],
   "source": [
    "box2.corner is box.corner"
   ]
  },
  {
   "cell_type": "markdown",
   "id": "functioning-error",
   "metadata": {},
   "source": [
    "<div id=\"fig.rectangle2\">\n",
    "\n",
    "![图15-3：对象图](figs/rectangle2.png)\n",
    "\n",
    "</div>\n",
    "\n",
    "`fig.rectangle2`展示了相应的对象图。 这个操作叫做**浅复制（shallow\n",
    "copy）**，因为它仅复制了对象以及其包含的引用， 但未复制嵌套的对象。\n",
    "\n",
    "对大多数应用来说，这并非是你想要的结果。 在这个例子中，对其中一个\n",
    "`Rectangle` 对象调用`grow_rectangle`并不会影响到另外一个，\n",
    "然而当对任何一个 `Rectangle`\n",
    "对象调用`move_rectangle`的时候，两者都会被影响！这个行为很容易带来疑惑和错误。\n",
    "\n",
    "幸运的是，`copy` 模块拥有一个叫做 `deepcopy` 的方法，\n",
    "它不仅可以复制一个对象，还可以复制这个对象所引用的对象，\n",
    "甚至可以复制*这个对象所引用的对象*所引用的对象，等等。\n",
    "没错！这个操作叫做**深复制（deep copy）**。"
   ]
  },
  {
   "cell_type": "code",
   "execution_count": null,
   "id": "emerging-carpet",
   "metadata": {},
   "outputs": [
    {
     "data": {
      "text/plain": [
       "False"
      ]
     },
     "execution_count": 1,
     "metadata": {},
     "output_type": "execute_result"
    }
   ],
   "source": [
    "box3 = copy.deepcopy(box)\n",
    "box3 is box"
   ]
  },
  {
   "cell_type": "code",
   "execution_count": null,
   "id": "controversial-treat",
   "metadata": {},
   "outputs": [
    {
     "data": {
      "text/plain": [
       "False"
      ]
     },
     "execution_count": 1,
     "metadata": {},
     "output_type": "execute_result"
    }
   ],
   "source": [
    "box3.corner is box.corner"
   ]
  },
  {
   "cell_type": "markdown",
   "id": "moderate-difference",
   "metadata": {},
   "source": [
    "`box3`和 `box` 是完全互不相干的对象。\n",
    "\n",
    "我们做个练习，编写另一个版本的`move_rectangle`， 函数创建并返回一个新的\n",
    "`Rectangle` 对象而非修改原先的那个。\n",
    "\n",
    "## 调试\n",
    "\n",
    "当你开始学习对象的时候，你可能会遇到一些新的异常。\n",
    "如果你访问一个不存在的属性，你会得到 `Attributeerror` 的错误提示："
   ]
  },
  {
   "cell_type": "code",
   "execution_count": null,
   "id": "saving-platinum",
   "metadata": {},
   "outputs": [
    {
     "data": {
      "text/plain": [
       "AttributeError: Point instance has no attribute 'z'"
      ]
     },
     "execution_count": 1,
     "metadata": {},
     "output_type": "execute_result"
    }
   ],
   "source": [
    "p = Point()\n",
    "p.x = 3\n",
    "p.y = 4\n",
    "p.z"
   ]
  },
  {
   "cell_type": "markdown",
   "id": "balanced-experience",
   "metadata": {},
   "source": [
    "如果你不确定一个对象的类型，你可以询问："
   ]
  },
  {
   "cell_type": "code",
   "execution_count": null,
   "id": "common-gender",
   "metadata": {},
   "outputs": [
    {
     "data": {
      "text/plain": [
       "<class '__main__.Point'>"
      ]
     },
     "execution_count": 1,
     "metadata": {},
     "output_type": "execute_result"
    }
   ],
   "source": [
    "type(p)"
   ]
  },
  {
   "cell_type": "markdown",
   "id": "reserved-dragon",
   "metadata": {},
   "source": [
    "你也可以用 `isinstance` 来检查某个对象是不是某个类的实例。"
   ]
  },
  {
   "cell_type": "code",
   "execution_count": null,
   "id": "determined-search",
   "metadata": {},
   "outputs": [
    {
     "data": {
      "text/plain": [
       "True"
      ]
     },
     "execution_count": 1,
     "metadata": {},
     "output_type": "execute_result"
    }
   ],
   "source": [
    "isinstance(p, Point)"
   ]
  },
  {
   "cell_type": "markdown",
   "id": "communist-promise",
   "metadata": {},
   "source": [
    "如果你不确定一个对象是否拥有某个属性， 你可以使用内置函数 `hasattr`\n",
    "检查："
   ]
  },
  {
   "cell_type": "code",
   "execution_count": null,
   "id": "macro-hours",
   "metadata": {},
   "outputs": [
    {
     "data": {
      "text/plain": [
       "True"
      ]
     },
     "execution_count": 1,
     "metadata": {},
     "output_type": "execute_result"
    }
   ],
   "source": [
    "hasattr(p, 'x')"
   ]
  },
  {
   "cell_type": "code",
   "execution_count": null,
   "id": "legislative-antigua",
   "metadata": {},
   "outputs": [
    {
     "data": {
      "text/plain": [
       "False"
      ]
     },
     "execution_count": 1,
     "metadata": {},
     "output_type": "execute_result"
    }
   ],
   "source": [
    "hasattr(p, 'z')"
   ]
  },
  {
   "cell_type": "markdown",
   "id": "immune-precipitation",
   "metadata": {},
   "source": [
    "第一个参数可以是任何对象；\n",
    "第二个参数是一个*字符串*，代表了某个属性的名字。\n",
    "\n",
    "你也可以使用 `try`　语句来检查某个对象是不是有你需要的属性:"
   ]
  },
  {
   "cell_type": "code",
   "execution_count": null,
   "id": "prompt-postcard",
   "metadata": {},
   "outputs": [],
   "source": [
    "try:\n",
    "    x = p.x\n",
    "except AttributeError:\n",
    "    x = 0"
   ]
  },
  {
   "cell_type": "markdown",
   "id": "noticed-width",
   "metadata": {},
   "source": [
    "这个方法可以让你更容易编写出可以适应多种数据结构的函数。你可以在\\[polymorphism\\]节查看更多内容。\n",
    "\n",
    "## 术语表\n",
    "\n",
    "类（class）:\n",
    "\n",
    "> 一种程序员自定义的类型。类定义创建了一个新的类对象。\n",
    "\n",
    "类对象（class object）:\n",
    "\n",
    "> 包含程序员自定义类型的细节信息的对象。类对象可以被用于创建该类型的实例。\n",
    "\n",
    "实例（instance）:\n",
    "\n",
    "> 属于某个类的对象。\n",
    "\n",
    "实例化（instantiate）:\n",
    "\n",
    "> 创建新的对象。\n",
    "\n",
    "属性（attribute）:\n",
    "\n",
    "> 和某个对象相关联的有命名的值。\n",
    "\n",
    "嵌套对象（embedded object）:\n",
    "\n",
    "> 作为另一个对象的属性存储的对象。\n",
    "\n",
    "浅复制（shallow copy）:\n",
    "\n",
    "> 在复制对象内容的时候，只包含嵌套对象的引用，通过 `copy` 模块的 `copy`\n",
    "> 函数实现。\n",
    "\n",
    "深复制（deep copy）:\n",
    "\n",
    "> 在复制对象内容的时候，既复制对象属性，也复制所有嵌套对象及其中的所有嵌套对象，由\n",
    "> `copy` 模块的 `deepcopy` 函数实现。\n",
    "\n",
    "对象图（object diagram）:\n",
    "\n",
    "> 展示对象及其属性和属性值的图。\n",
    "\n",
    "## 练习题\n",
    "\n",
    "### 习题 15-1\n",
    "\n",
    "定义一个叫做 `Circle`　的类，类的属性是圆心(`center`)\n",
    "和半径(`radius`),其中，圆心(`center`) 是一个　`Point`\n",
    "类，而半径(`radius`)是一个数字。\n",
    "\n",
    "实例化一个圆心(center)为$(150, 100)$，半径(radius)为 75 的 `Circle`\n",
    "对象。\n",
    "\n",
    "### 习题 15-2\n",
    "\n",
    "编写一个名称为 `point_in_circle`\n",
    "的函数，该函数可以接受一个圆类(`Circle`)对象和点类\n",
    "(`Point`)对象，然后判断该点是否在圆内。在圆内则返回 `True` 。\n",
    "\n",
    "### 习题 15-3\n",
    "\n",
    "编写一个名称为 `rect_in_circle`\n",
    "的函数，该函数接受一个圆类(`Circle`)对象和矩形(`Rectangle`)对象，如果该矩形是否完全在圆内或者在圆上则返回\n",
    "`True` 。\n",
    "\n",
    "### 习题 15-4\n",
    "\n",
    "编写一个名为 `rect_circle_overlap`\n",
    "函数，该函数接受一个圆类对象和一个矩形类对象，如果矩形有任意一个角落在圆内则返回\n",
    "`True` 。或者写一个更具有挑战性的版本，如果该矩形有任何部分落在圆内返回\n",
    "`True` 。\n",
    "\n",
    "答案:<http://thinkpython2.com/code/Circle.py>.\n",
    "\n",
    "### 习题 15-5\n",
    "\n",
    "编写一个名为 `draw_rect` 的函数，该函数接受一个 `Turtle` 对象和一个\n",
    "`Rectangle` 对象，使用 `Turtle` 画出该矩形。参考\\[turtlechap\\]章中使用\n",
    "`Turtle` 的示例。\n",
    "\n",
    "### 习题 15-6\n",
    "\n",
    "编写一个名为　`draw_circle` 的函数，该函数接受一个　`Turtle` 对象和\n",
    "`Circle` 对象，并画出该圆。\n",
    "\n",
    "答案:<http://thinkpython2.com/code/draw.py>.\n",
    "\n",
    "### **贡献者**\n",
    "\n",
    "1.  翻译：[@iphyer](https://github.com/iphyer)\n",
    "2.  校对：[@bingjin](https://github.com/bingjin)\n",
    "3.  参考：[@carfly](https://github.com/carfly)"
   ]
  }
 ],
 "metadata": {},
 "nbformat": 4,
 "nbformat_minor": 5
}
