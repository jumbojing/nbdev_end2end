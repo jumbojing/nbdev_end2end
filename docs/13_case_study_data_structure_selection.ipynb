{
 "cells": [
  {
   "cell_type": "markdown",
   "id": "soviet-compilation",
   "metadata": {},
   "source": [
    "$$\n",
    "\\def\\CC{\\bf C}\n",
    "\\def\\QQ{\\bf Q}\n",
    "\\def\\RR{\\bf R}\n",
    "\\def\\ZZ{\\bf Z}\n",
    "\\def\\NN{\\bf N}\n",
    "$$\n",
    "# 第十三章：案例研究：数据结构选择\n",
    "\n",
    "目前为止，你已经学完了 Python\n",
    "的核心数据结构，同时你也接触了利用到这些数据结构的一些算法。如果你希望学习更多算法知识，\n",
    "那么现在是阅读第二十一章的好时机。\n",
    "但是不必急着马上读，什么时候感兴趣了再去读即可。\n",
    "\n",
    "本章是一个案例研究，同时给出了一些习题，\n",
    "目的是启发你思考如何选择数据结构，并练习数据结构使用。\n",
    "\n",
    "## 词频分析\n",
    "\n",
    "和之前一样，在查看答案之前，你至少应该试着解答一下这些习题。\n",
    "\n",
    "### 习题13-1\n",
    "\n",
    "编写一个程序，读取一个文件，将每一行转换成单词列表，\n",
    "删掉单词中的空格和标点，然后将它们转换为小写字母。\n",
    "\n",
    "提示：`string` 模块提供了名为 `whitespace` 的字符串，\n",
    "其包括空格、制表符、新行等等，以及名为 `punctuation` 的字符串，\n",
    "其包括标点字符。试试能否让Python说脏话："
   ]
  },
  {
   "cell_type": "code",
   "execution_count": null,
   "id": "iraqi-render",
   "metadata": {},
   "outputs": [
    {
     "data": {
      "text/plain": [
       "'!\"#$%&'()*+,-./:;<=>?@[\\]^_`{|}~'"
      ]
     },
     "execution_count": null,
     "metadata": {},
     "output_type": "execute_result"
    }
   ],
   "source": [
    "import string\n",
    "string.punctuation"
   ]
  },
  {
   "cell_type": "markdown",
   "id": "designed-compression",
   "metadata": {},
   "source": [
    "同时，你可以考虑使用字符串方法 `strip` 、`replace` 和 `translate` 。\n",
    "\n",
    "### 习题13-2\n",
    "\n",
    "前往古腾堡项目（http://gutenberg.org），以纯文本格式下载你喜欢的已无版权保护的图书。\n",
    "\n",
    "修改前面习题的程序，读取你下载的书，\n",
    "跳过文件开始的头部信息，像之前那样处理其余的单词。\n",
    "\n",
    "然后修改程序，计算书中单词的总数，以及每个单词使用的次数。\n",
    "\n",
    "打印该书使用单词的总数。 比较不同年代、不同作者写的书。\n",
    "哪个作者使用的词汇量最大？\n",
    "\n",
    "### 习题13-3\n",
    "\n",
    "修改上一个习题中的程序，打印书中最常使用的20个单词。\n",
    "\n",
    "### 习题13-4\n",
    "\n",
    "修改上一个习题中的程序，读取一个单词列表（见[wordlist](wordlist.ipynb)一节），\n",
    "然后打印书中所有没有出现在该单词表中的单词。\n",
    "它们中有多少是拼写错误的？有多少是词表中 *应该*\n",
    "包括的常用词？有多少是生僻词？\n",
    "\n",
    "## 随机数\n",
    "\n",
    "给定相同的输入，大多数计算机程序每次都会生成相同的输出，\n",
    "它们因此被称作**确定性的（deterministic）**。\n",
    "确定性通常是个好东西，因为我们期望相同的计算产生相同的结果。\n",
    "然而，对于有些应用，我们希望计算机不可预知。\n",
    "游戏是一个明显的例子，但是不限于此。\n",
    "\n",
    "让程序具备真正意义上的非确定性并不容易，但是有办法使它至少看起来是不确定的。\n",
    "其中之一是使用生成**伪随机（pseudorandom）**数的算法。\n",
    "伪随机数不是真正的随机数，因为它们由一个确定性的计算生成，\n",
    "但是仅看其生成的数字，不可能将它们和随机生成的相区分开。\n",
    "\n",
    "`random`模块提供了生成伪随机数（下文中简称为“随机数”）的函数。\n",
    "\n",
    "函数 `random` 返回一个 0.0 到 1.0 之间的随机浮点数（包括 0.0\n",
    "，但是不包括 1.0 ）。 每次调用 `random` ，你获得一个长序列中的下一个数。\n",
    "举个例子，运行此循环："
   ]
  },
  {
   "cell_type": "code",
   "execution_count": null,
   "id": "endless-nitrogen",
   "metadata": {},
   "outputs": [],
   "source": [
    "import random\n",
    "\n",
    "for i in range(10):\n",
    "    x = random.random()\n",
    "    print(x)"
   ]
  },
  {
   "cell_type": "markdown",
   "id": "anonymous-movie",
   "metadata": {},
   "source": [
    "函数 `randint` 接受参数 `low` 和 `high` ， 返回一个 `low` 和 `high`\n",
    "之间的整数（两个都包括）。"
   ]
  },
  {
   "cell_type": "code",
   "execution_count": null,
   "id": "prompt-pipeline",
   "metadata": {},
   "outputs": [
    {
     "data": {
      "text/plain": [
       "5"
      ]
     },
     "execution_count": null,
     "metadata": {},
     "output_type": "execute_result"
    }
   ],
   "source": [
    "random.randint(5, 10)"
   ]
  },
  {
   "cell_type": "code",
   "execution_count": null,
   "id": "appointed-calvin",
   "metadata": {},
   "outputs": [
    {
     "data": {
      "text/plain": [
       "9"
      ]
     },
     "execution_count": null,
     "metadata": {},
     "output_type": "execute_result"
    }
   ],
   "source": [
    "random.randint(5, 10)"
   ]
  },
  {
   "cell_type": "markdown",
   "id": "private-configuration",
   "metadata": {},
   "source": [
    "你可以使用 `choice` ，从一个序列中随机选择一个元素："
   ]
  },
  {
   "cell_type": "code",
   "execution_count": null,
   "id": "municipal-climate",
   "metadata": {},
   "outputs": [
    {
     "data": {
      "text/plain": [
       "2"
      ]
     },
     "execution_count": null,
     "metadata": {},
     "output_type": "execute_result"
    }
   ],
   "source": [
    "t = [1, 2, 3]\n",
    "random.choice(t)"
   ]
  },
  {
   "cell_type": "code",
   "execution_count": null,
   "id": "bright-trace",
   "metadata": {},
   "outputs": [
    {
     "data": {
      "text/plain": [
       "3"
      ]
     },
     "execution_count": null,
     "metadata": {},
     "output_type": "execute_result"
    }
   ],
   "source": [
    "random.choice(t)"
   ]
  },
  {
   "cell_type": "markdown",
   "id": "liked-revolution",
   "metadata": {},
   "source": [
    "`random`模块提供的函数，还可以生成符合高斯、指数、伽马等连续分布的随机值。\n",
    "\n",
    "### 习题13-5\n",
    "\n",
    "编写一个名为`choose_from_hist`的函数，\n",
    "其接受一个如[histogram](histogram.ipynb)一节中定义的 `histogram`\n",
    "对象作为参数，\n",
    "并从该对象中返回一个随机值，其选择概率和值出现的频率成正比。 例如："
   ]
  },
  {
   "cell_type": "code",
   "execution_count": null,
   "id": "economic-electric",
   "metadata": {},
   "outputs": [
    {
     "data": {
      "text/plain": [
       "{'a': 2, 'b': 1}"
      ]
     },
     "execution_count": null,
     "metadata": {},
     "output_type": "execute_result"
    }
   ],
   "source": [
    "t = ['a', 'a', 'b']\n",
    "hist = histogram(t)\n",
    "hist"
   ]
  },
  {
   "cell_type": "markdown",
   "id": "great-genre",
   "metadata": {},
   "source": [
    "你的函数返回 `'a'` 的概率应该是$2/3$，返回 `'b'` 的概率应该是$1/3$。\n",
    "\n",
    "## 单词直方图\n",
    "\n",
    "在继续下面的习题之前，你应该尝试完成前面的练习。\n",
    "你可以从<http://thinkpython2.com/code/analyze_book1.py> 下载我的答案。\n",
    "你还需要下载<http://thinkpython2.com/code/emma.txt> 。\n",
    "\n",
    "下面这个程序将读取一个文件，并建立文件中单词的直方图："
   ]
  },
  {
   "cell_type": "code",
   "execution_count": null,
   "id": "announced-maximum",
   "metadata": {},
   "outputs": [],
   "source": [
    "import string\n",
    "\n",
    "def process_file(filename):\n",
    "    hist = dict()\n",
    "    fp = open(filename)\n",
    "    for line in fp:\n",
    "        process_line(line, hist)\n",
    "    return hist\n",
    "\n",
    "def process_line(line, hist):\n",
    "    line = line.replace('-', ' ')\n",
    "\n",
    "    for word in line.split():\n",
    "        word = word.strip(string.punctuation + string.whitespace)\n",
    "        word = word.lower()\n",
    "        hist[word] = hist.get(word, 0) + 1\n",
    "\n",
    "hist = process_file('emma.txt')"
   ]
  },
  {
   "cell_type": "markdown",
   "id": "static-thousand",
   "metadata": {},
   "source": [
    "该程序读取 `emma.txt` ，其包括Jane Austen写的*《Emma》*的文本。\n",
    "\n",
    "`process_file`循环读取文件的每行，依次把它们传递给`process_line`。\n",
    "直方图 `hist` 被用作一个累加器。\n",
    "\n",
    "在使用 `split` 将一行文件切分成一个字符串列表之前，\n",
    "`process_line`使用字符串的 `replace` 方法将连字符替换成空格。\n",
    "它会遍历单词列表，并使用 `strip` 和 `lower`\n",
    "来删除标点以及将单词转换为小写。\n",
    "（“转换”只是一种简略的说法；记住，字符串是不可变的， 所以类似 `strip` 和\n",
    "`lower` 这样的方法其实返回的是新字符串。）\n",
    "\n",
    "最后，`process_line`通过生成一个新的项或者递增一个已有的项来更新直方图。\n",
    "\n",
    "我们可以通过累加直方图中的频率，来统计文件中的单词总数："
   ]
  },
  {
   "cell_type": "code",
   "execution_count": null,
   "id": "robust-swing",
   "metadata": {},
   "outputs": [],
   "source": [
    "def total_words(hist):\n",
    "    return sum(hist.values())"
   ]
  },
  {
   "cell_type": "markdown",
   "id": "oriented-briefs",
   "metadata": {},
   "source": [
    "不同单词的数量恰好是词典中项的数目："
   ]
  },
  {
   "cell_type": "code",
   "execution_count": null,
   "id": "adjustable-rover",
   "metadata": {},
   "outputs": [],
   "source": [
    "def different_words(hist):\n",
    "    return len(hist)"
   ]
  },
  {
   "cell_type": "markdown",
   "id": "outside-roommate",
   "metadata": {},
   "source": [
    "这是打印结果的代码："
   ]
  },
  {
   "cell_type": "code",
   "execution_count": null,
   "id": "flush-nylon",
   "metadata": {},
   "outputs": [],
   "source": [
    "print('Total number of words:', total_words(hist))\n",
    "print('Number of different words:', different_words(hist))"
   ]
  },
  {
   "cell_type": "markdown",
   "id": "plain-mathematics",
   "metadata": {},
   "source": [
    "结果是："
   ]
  },
  {
   "cell_type": "code",
   "execution_count": null,
   "id": "scenic-culture",
   "metadata": {},
   "outputs": [],
   "source": [
    "Total number of words: 161080\n",
    "Number of different words: 7214"
   ]
  },
  {
   "cell_type": "markdown",
   "id": "interested-intranet",
   "metadata": {},
   "source": [
    "## 最常用单词\n",
    "\n",
    "为了找到最常用的单词，我们可以使用元组列表，其中每个元组包含单词和它的频率，然后排序这个列表。\n",
    "\n",
    "下面的函数接受一个直方图并且返回一个 单词-频率的元组列表："
   ]
  },
  {
   "cell_type": "code",
   "execution_count": null,
   "id": "ready-cologne",
   "metadata": {},
   "outputs": [],
   "source": [
    "def most_common(hist):\n",
    "    t = []\n",
    "    for key, value in hist.items():\n",
    "        t.append((value, key))\n",
    "\n",
    "    t.sort(reverse=True)\n",
    "    return t"
   ]
  },
  {
   "cell_type": "markdown",
   "id": "protected-interference",
   "metadata": {},
   "source": [
    "每一个元组中，频率在前，所以这个列表是按照频率排序。\n",
    "下面是输出最常用的十个单词的循环："
   ]
  },
  {
   "cell_type": "code",
   "execution_count": null,
   "id": "designed-stuff",
   "metadata": {},
   "outputs": [],
   "source": [
    "t = most_common(hist)\n",
    "print('The most common words are:')\n",
    "for freq, word in t[:10]:\n",
    "    print(word, freq, sep='\\t')"
   ]
  },
  {
   "cell_type": "markdown",
   "id": "unauthorized-fellow",
   "metadata": {},
   "source": [
    "这里我通过关键词参数 `sep` ，让 `print`\n",
    "使用一个制表符（Tab）而不是空格键作为分隔符，\n",
    "所以第二行将对齐。下面是对小说\\*《Emma》\\*的分析结果："
   ]
  },
  {
   "cell_type": "code",
   "execution_count": null,
   "id": "explicit-lease",
   "metadata": {},
   "outputs": [],
   "source": [
    "The most common words are:\n",
    "to      5242\n",
    "the     5205\n",
    "and     4897\n",
    "of      4295\n",
    "i       3191\n",
    "a       3130\n",
    "it      2529\n",
    "her     2483\n",
    "was     2400\n",
    "she     2364"
   ]
  },
  {
   "cell_type": "markdown",
   "id": "excess-illinois",
   "metadata": {},
   "source": [
    "当然，这段代码也可以通过 `sort` 函数的参数 `key` 进行简化。\n",
    "如果你感兴趣，可以阅读 <https://wiki.python.org/moin/HowTo/Sorting> 。\n",
    "\n",
    "## 可选形参\n",
    "\n",
    "我们已经见过接受可变数量实参的函数和方法了。\n",
    "程序员也可以自己定义具有可选实参的函数。\n",
    "例如，下面就是一个打印直方图中最常见单词的函数。"
   ]
  },
  {
   "cell_type": "code",
   "execution_count": null,
   "id": "hourly-disney",
   "metadata": {},
   "outputs": [],
   "source": [
    "def print_most_common(hist, num=10):\n",
    "    t = most_common(hist)\n",
    "    print('The most common words are:')\n",
    "    for freq, word in t[:num]:\n",
    "        print(word, freq, sep='\\t')"
   ]
  },
  {
   "cell_type": "markdown",
   "id": "bridal-technology",
   "metadata": {},
   "source": [
    "第一个形参是必须的；第二个是可选的。 `num` 的**默认值（default\n",
    "value）**是10。\n",
    "\n",
    "如果你只提供了一个实参:"
   ]
  },
  {
   "cell_type": "code",
   "execution_count": null,
   "id": "sonic-cannon",
   "metadata": {},
   "outputs": [],
   "source": [
    "print_most_common(hist)"
   ]
  },
  {
   "cell_type": "markdown",
   "id": "international-steps",
   "metadata": {},
   "source": [
    "`num`将使用默认值。如果你你提供两个实参："
   ]
  },
  {
   "cell_type": "code",
   "execution_count": null,
   "id": "political-monitoring",
   "metadata": {},
   "outputs": [],
   "source": [
    "print_most_common(hist, 20)"
   ]
  },
  {
   "cell_type": "markdown",
   "id": "silver-weapon",
   "metadata": {},
   "source": [
    "`num`获得实参的值。换句话说，可选实参**覆盖（overrides）**了默认值。\n",
    "\n",
    "如果一个函数同时有必选和可选两类形参，则所有的必选形参必须首先出现，可选形参紧随其后。\n",
    "\n",
    "## 字典差集\n",
    "\n",
    "从书中找到所有没出现在词表 `words.txt`\n",
    "中的单词，可以认为是一个差集问题；\n",
    "也就是，我们应该从一个集合中（书中的单词）找到所有没出现在另一个集合中\n",
    "（列表中的单词）的单词。\n",
    "\n",
    "`subtract`接受词典 `d1` 和 `d2` ，并返回一个新的词典， 其包括 `d1`\n",
    "中的所有没出现在 `d2` 中的键。\n",
    "由于并不真正关心值是什么，我们将它们都设为 `None` 。"
   ]
  },
  {
   "cell_type": "code",
   "execution_count": null,
   "id": "utility-palmer",
   "metadata": {},
   "outputs": [],
   "source": [
    "def subtract(d1, d2):\n",
    "    res = dict()\n",
    "    for key in d1:\n",
    "        if key not in d2:\n",
    "            res[key] = None\n",
    "    return res"
   ]
  },
  {
   "cell_type": "markdown",
   "id": "authorized-functionality",
   "metadata": {},
   "source": [
    "为了找到书中没有出现在 `words.txt` 中的单词，\n",
    "我们可以使用`process_file`来为 `words.txt` 构建一个直方图， 然后使用\n",
    "`subtract` ："
   ]
  },
  {
   "cell_type": "code",
   "execution_count": null,
   "id": "chemical-installation",
   "metadata": {},
   "outputs": [],
   "source": [
    "words = process_file('words.txt')\n",
    "diff = subtract(hist, words)\n",
    "\n",
    "print(\"Words in the book that aren't in the word list:\")\n",
    "for word in diff.keys():\n",
    "    print(word, end=' ')"
   ]
  },
  {
   "cell_type": "markdown",
   "id": "confident-investment",
   "metadata": {},
   "source": [
    "这是针对小说*《Emma》*的部分运行结果："
   ]
  },
  {
   "cell_type": "code",
   "execution_count": null,
   "id": "outer-evolution",
   "metadata": {},
   "outputs": [],
   "source": [
    "Words in the book that aren't in the word list:\n",
    "rencontre jane's blanche woodhouses disingenuousness\n",
    "friend's venice apartment ..."
   ]
  },
  {
   "cell_type": "markdown",
   "id": "undefined-latin",
   "metadata": {},
   "source": [
    "这些单词中，一些是名字和名词所有格。如“rencontre”这样的其他单词已经不常使用了。\n",
    "但是有一些真的应该包括在列表中！\n",
    "\n",
    "### 习题13-6\n",
    "\n",
    "Python　提供了一个叫做集合（set）的数据结构，支持许多常见的集合操作。\n",
    "你可以前往第十九章阅读相关内容，或者在官网上阅读文档\n",
    "<http://docs.python.org/3/library/stdtypes.html#types-set> 。\n",
    "\n",
    "编写一个程序，使用集合的差集操作来找出一本书中不在 `work list`\n",
    "中的单词。\n",
    "\n",
    "答案： <http://thinkpython2.com/code/analyze_book2.py> 。\n",
    "\n",
    "## 随机单词\n",
    "\n",
    "如果想从直方图中随机选择一个单词，最简单的算法是创建一个列表，\n",
    "其中根据其出现的频率，每个单词都有相应个数的拷贝，然后从该列表中选择单词："
   ]
  },
  {
   "cell_type": "code",
   "execution_count": null,
   "id": "british-baltimore",
   "metadata": {},
   "outputs": [],
   "source": [
    "def random_word(h):\n",
    "    t = []\n",
    "    for word, freq in h.items():\n",
    "        t.extend([word] * freq)\n",
    "\n",
    "    return random.choice(t)"
   ]
  },
  {
   "cell_type": "markdown",
   "id": "linear-atlas",
   "metadata": {},
   "source": [
    "表达式 `[word] * freq` 创建一个具有 `freq` 个 `word` 字符串拷贝的列表。\n",
    "除了它的实参要求是一个序列外，`extend`方法和 `append`方法很像。\n",
    "\n",
    "该算法能够满足要求，但是效率不够高；\n",
    "每次你选择一个随机单词，它都重建列表，这个列表和原书一样大。\n",
    "一个明显的改进是，创建列表一次，然后进行多次选择， 但是该列表仍然很大。\n",
    "\n",
    "一个替代方案是：\n",
    "\n",
    "1.  使用 `keys` 来获得该书中单词的列表。\n",
    "2.  创建一个包含单词频率累积和的列表（见[cumulative](cumulative.ipynb)）。\n",
    "    此列表的最后一项是书中单词的数目$n$。\n",
    "3.  选择一个从 1\n",
    "    到$n$的随机数。使用二分搜索（见[exercise10-10](exercise10-10.ipynb)）\n",
    "    找到该随机数应该被在累积和中插入的索引。\n",
    "4.  使用该索引从单词列表中找到相应的单词。\n",
    "\n",
    "### 习题13-7\n",
    "\n",
    "编写一个使用该算法从书中选择一个随机单词的程序。\n",
    "\n",
    "答案：<http://thinkpython2.com/code/analyze_book3.py> 。\n",
    "\n",
    "## 马尔科夫分析\n",
    "\n",
    "如果你从书中随机选择单词，那么你会大致了解其使用的词汇，但可能不会得到一个完整的句子："
   ]
  },
  {
   "cell_type": "code",
   "execution_count": null,
   "id": "underlying-handy",
   "metadata": {},
   "outputs": [],
   "source": [
    "this the small regard harriet which knightley's it most things"
   ]
  },
  {
   "cell_type": "markdown",
   "id": "plain-velvet",
   "metadata": {},
   "source": [
    "一系列随机单词很少有意义，因为相邻的单词之间没有关系。\n",
    "例如，在一个真实的句子中，你可能期望“the”这样的冠词后面跟着的是一个形容词或者名词，\n",
    "而大不可能会是一个动词或者副词。\n",
    "\n",
    "衡量相邻单词关系的方法之一是马尔科夫分析法，对于一个给定的单词序列，\n",
    "马尔科夫分析法将给出接下来单词的概率。 例如，歌曲*Eric, the Half a\n",
    "Bee*的开头是：\n",
    "\n",
    "> Half a bee, philosophically,  \n",
    "> Must, ipso facto, half not be.  \n",
    "> But half the bee has got to be  \n",
    "> Vis a vis, its entity. D’you see?  \n",
    "> But can a bee be said to be  \n",
    "> Or not to be an entire bee  \n",
    "> When half the bee is not a bee  \n",
    "> Due to some ancient injury?\n",
    "\n",
    "在此文本中，短语“half the”后面总是跟着单词“bee”， 但是短语“the\n",
    "bee”则可能跟着“has”或者“is”。\n",
    "\n",
    "马尔科夫分析的结果是从每个前缀（如“half the”和“the bee”）\n",
    "到所有可能的后缀（如“has”和“is”）的映射。\n",
    "\n",
    "给定此映射，你能够通过以任意前缀开始并从可能的后缀中随机选择一个的方法，来生成一个随机文本。\n",
    "接下来，你可以将前缀的结尾和新的后缀组合成下一个前缀，并重复下去。\n",
    "\n",
    "例如，如果你以前缀“Half a”开始，然后下一个但是必须是“bee”，\n",
    "因为此前缀在文本中仅出现一次。下一个前缀是“a bee”，\n",
    "所以下一个后缀可能是“philosophically”，“be”或“due”。\n",
    "\n",
    "此例中，前缀的长度总是2，但是你可以以任意前缀长度进行马尔科夫分析。\n",
    "前缀的长度被称作此分析的“阶”。\n",
    "\n",
    "### 习题13-8\n",
    "\n",
    "马尔科夫分析：\n",
    "\n",
    "1.  编写一个程序，从一个文件中读取文本并执行马尔科夫分析。\n",
    "    结果应该是一个字典，即从前缀映射到一个可能的后缀集合。\n",
    "    此后缀集合可以是一个列表、元组或字典；你需要做出合适的选择。\n",
    "    你可以用长度为2的前缀测试程序，但是在编写程序时，应确保其很容易支持其它长度。\n",
    "\n",
    "2.  在前面的程序中添加一个函数，基于马尔科夫分析生成随机文本。\n",
    "    下面是使用*《Emma》*执行前缀为2的马尔科夫分析生成的示例："
   ]
  },
  {
   "cell_type": "markdown",
   "id": "private-portrait",
   "metadata": {},
   "source": [
    "\n",
    "    > He was very clever, be it sweetness or be angry, ashamed or only\n",
    "    > amused, at such a stroke. She had never thought of Hannah till you\n",
    "    > were never meant for me?“ ”I cannot make speeches, Emma:\" he soon\n",
    "    > cut it all himself.\n",
    "\n",
    "    在此例中，我保留了附在词后面的标点符号。从语法上看，结果几乎是正确的，但不完全。\n",
    "    语义上讲，它几乎有意义，但也不完全。\n",
    "\n",
    "    如果你增加前缀的长度，会发生什么？随机文本更有意义是么？\n"
   ]
  },
  {
   "cell_type": "markdown",
   "id": "young-specialist",
   "metadata": {},
   "source": [
    "3.  一旦程序正常运行，你可以想尝试一下混搭：如果你组合两本或更多书中的文本，\n",
    "    你生成的随机文本将以有趣的方式混合这些书中的词汇和短语。\n",
    "\n",
    "致谢：此案例研究基于 Kernighan 与 Pike 所著的 *《The Practice of\n",
    "Programming》* 一书中的示例。\n",
    "\n",
    "在继续阅读之前，你应该尝试解决该习题；\n",
    "你可以从<http://thinkpython2.com/code/markov.py> 下载我的答案。\n",
    "你还需要下载<http://thinkpython2.com/code/emma.txt> 。\n",
    "\n",
    "## 数据结构\n",
    "\n",
    "使用马尔科夫分析生成随机文本很有趣，\n",
    "但是上面那道习题的目的是：学习数据结构选择。\n",
    "在解答上述习题时，你不得不选择：\n",
    "\n",
    "-   如何表示前缀。\n",
    "-   如何表示可能后缀的集合。\n",
    "-   如何表示从前缀到可能后缀集合的映射。\n",
    "\n",
    "最后一个选择很简单：明显应该选择字典作为键至对应值的映射。\n",
    "\n",
    "对于前缀，最明显的选择是字符串、字符串列表或者字符串元组。\n",
    "\n",
    "对于后缀，一个选择是列表；另一个是直方图（字典）。\n",
    "\n",
    "你如何选择呢？ 第一步是考虑对每个数据结构你需要实现的操作。\n",
    "对于前缀，我们需要能从头部删除单词，并在结尾处加入单词。\n",
    "例如，如果当前的前缀是“Half a”，下一个词是“bee”，\n",
    "你需要能构成下一个前缀“a bee”。\n",
    "\n",
    "你的第一个选择可能是列表，因为它能很容易的增加和删除元素，\n",
    "但是我们也需要让前缀作为字典的键，这就排除了列表。\n",
    "使用元组，你不能追加或删除元素，\n",
    "但是你能使用加号运算符来形成一个新的元组："
   ]
  },
  {
   "cell_type": "code",
   "execution_count": null,
   "id": "hazardous-performer",
   "metadata": {},
   "outputs": [],
   "source": [
    "def shift(prefix, word):\n",
    "    return prefix[1:] + (word,)"
   ]
  },
  {
   "cell_type": "markdown",
   "id": "undefined-hobby",
   "metadata": {},
   "source": [
    "`shift`接受一个单词元组 `prefix` 和一个字符串 `word` ，\n",
    "并形成一个新的元组，其具有prefix中除第一个单词外的全部单词，\n",
    "然后在结尾增加 `word` 。\n",
    "\n",
    "对于后缀的集合，我们需要执行的运算包括增加一个新的后缀\n",
    "（或者增加一个已有后缀的频率），并选择一个随机后缀。\n",
    "\n",
    "对于列表或者直方图，增加一个新的后缀一样容易。\n",
    "从列表中选择一个随机元素很容易；\n",
    "在直方图中选择的难度更大（见[randhist](randhist.ipynb)）。\n",
    "\n",
    "目前为止，我们主要讨论实现的难易，\n",
    "但是选择数据结构时还要考虑其它因素。一个是运行时间。\n",
    "有时，一个数据结构比另一个快有理论依据； 例如，我提到过 `in`\n",
    "运算符对于字典比对列表要快， 至少当元素的数目很大的时候。\n",
    "\n",
    "但是通常你事先不知道哪个实现更快。\n",
    "一个选择是两个都实现，然后再看哪个更快。\n",
    "此方法被称作**基准测试（benchmarking）**。\n",
    "另一个更实际的选择是选择最容易实现的数据结构，\n",
    "然后看它对于拟定的应用是否足够快。如果是的话，就不需要继续了。\n",
    "如果不是，可以使用一些工具，如 `profile` 模块，识别程序中哪处最耗时。\n",
    "\n",
    "另一个要考虑的因素是存储空间。例如，使用直方图表示后缀集合可能用更少的空间，\n",
    "因为无论一个单词在文本中出现多少次，你只需要存储它一次。\n",
    "在一些情况下，节省空间也能让你的程序更快，极端情况下，\n",
    "如果内存溢出，你的程序可能根本不能运行。\n",
    "但是对于许多应用，空间是运行时间之后的第二位考虑。\n",
    "\n",
    "最后一点：在此讨论中，我暗示了我们应该使用一种数据结构同时进行分析和生成。\n",
    "但是既然这些是独立的步骤，使用一种数据结构进行分析，\n",
    "然后采用另一种结构进行生成也是可能的。\n",
    "如果生成节省的时间超过了转化花费的时间，这也会提高程序的性能。\n",
    "\n",
    "## 调试\n",
    "\n",
    "在调试一个程序的时候，特别是调试一个很难的错误时，应该做到以下五点：\n",
    "\n",
    "细读：\n",
    "\n",
    "> 检查你的代码，仔细地阅读，并且检查是否实现了你的期望。\n",
    "\n",
    "运行：\n",
    "\n",
    "> 通过修改和运行不同的版本来不断试验。\n",
    "> 通常，如果你在程序中正确的地方打印了正确的东西，\n",
    "> 问题会变得很明显，但是有时你不得不搭建一些脚手架。\n",
    "\n",
    "思考：\n",
    "\n",
    "> 花些时间思考！错误的类型是什么：语法、运行时、语义？\n",
    "> 你从错误信息或者程序的输出中能获得什么信息？\n",
    "> 什么类型的错误能引起你看到的问题？问题出现前，你最后的修改是什么？\n",
    "\n",
    "小黄鸭调试法（rubberducking）：\n",
    "\n",
    "> 如果将你的问题解释给别人听，有时你会发现在解释完问题之前就能找到答案。\n",
    "> 你通常并不需要真的去问另外一个人；你可以对着一个小黄鸭说。\n",
    "> 这就是著名的小黄鸭调试法(**rubber duck\n",
    "> debugging**)的由来。这可不是我编造的，你可以看看这个维基页面：\n",
    "> <https://en.wikipedia.org/wiki/Rubber_duck_debugging> 。\n",
    "\n",
    "回退：\n",
    "\n",
    "> 有时候，最好的做法是回退，撤销最近的修改，\n",
    "> 直到你回到一个能运行并且你能理解的程序。然后你可以开始重建。\n",
    "\n",
    "初级程序员有时陷入这些步骤之一，忘记了还可以做其他的事情。\n",
    "事实上，每种方法都有失败的可能。\n",
    "\n",
    "例如，如果程序是一个排版错误，读代码可能有帮助，\n",
    "但是如果问题是概念理解错误，则未必是这样。\n",
    "如果你不理解程序要做什么，可能读100遍程序都不会发现错误，因为错误在你的头脑中。\n",
    "\n",
    "试验可能会有帮助，特别是如果你运行简单短小的测试。\n",
    "但是，如果你不思考或者阅读你的代码，就直接进行实验，\n",
    "你可能陷入一种我称为“随机游走编程”的模式。\n",
    "这指的是随机修改，直到程序通过测试。\n",
    "不用说，随机游走编程会花费很长的时间。\n",
    "\n",
    "你必须花时间思考。调试就像是一门实验科学。\n",
    "你应该至少有一个关于问题是什么的假设。\n",
    "如果有两个或者更多的可能，试着考虑利用测试消除其中一个可能。\n",
    "\n",
    "但是，如果有太多的错误，或者你正试图修复的代码太大、太复杂，\n",
    "即使最好的调试技巧也会失败。\n",
    "有时，最好的选择是回退，简化程序，直到你获得一个正常运行并且能理解的程序。\n",
    "\n",
    "初级程序员经常不愿意回退，因为他们舍不得删除一行代码（即使它是错误的）。\n",
    "如果能让你好受些，在你开始精简之前，可以将你的代码拷贝到另一个文件中。\n",
    "然后你再把修改后的代码一块一块地拷贝回去。\n",
    "\n",
    "发现一个错误，需要阅读、运行、沉思、和时而的回退。\n",
    "如果其中某个步骤没有进展，试一下其它的。\n",
    "\n",
    "## 术语表\n",
    "\n",
    "确定性的（deterministic）：\n",
    "\n",
    "> 指的是给定相同的输入，一个程序每次运行的结果是一样的。\n",
    "\n",
    "伪随机（pseudorandom）：\n",
    "\n",
    "> 指的是一串数字看上去是随机的，但是实际是由一个确定性程序生成的。\n",
    "\n",
    "默认值：\n",
    "\n",
    "> 没有提供实参时，赋给可选形参的值。\n",
    "\n",
    "覆盖：\n",
    "\n",
    "> 用实参替代默认值。\n",
    "\n",
    "基准测试（benchmarking）：\n",
    "\n",
    "> 通过可能的输入样本对使用不同数据结构的实现进行测试，从而选择数据结构的过程。\n",
    "\n",
    "小黄鸭调试法（rubberducking）：\n",
    "\n",
    "> 通过向小黄鸭这样的非生物体解释你的问题来进行调试。\n",
    "> 清晰地陈述问题可以帮助你解决问题，即使小黄鸭并不懂 Python。\n",
    "\n",
    "## 练习题\n",
    "\n",
    "### 习题 13-9\n",
    "\n",
    "单词的\"秩\"是指它在按照单词频率排序的列表中的位置：\n",
    "出现频率最高的单词，它的秩是1，频率第二高的单词，它的秩是2，以此类推。\n",
    "\n",
    "Zipf定律(<http://en.wikipedia.org/wiki/Zipf's_law>\n",
    ")描述了自然语言中秩和单词出现频率的关系。特别是，它预测对于秩为 $r$\n",
    "的单词， 其出现的频率 $f$ 是：\n",
    "\n",
    "$$f = c r^{-s}$$\n",
    "\n",
    "其中，$s$　和　$c$\n",
    "是依赖于语言和文本的参数。如果在上述等式两边取对数的话，你可以得到：\n",
    "\n",
    "$$\\log f = \\log c - s \\log r$$\n",
    "\n",
    "因此，如果绘出 log $f$　和　log\n",
    "$r$　的图像，你可以得到一条以　$-s$　为斜率、以　$c$　为截距的直线。\n",
    "\n",
    "编写一个程序，从文件中读取文本，计算单词频率，倒序输出每个单词，\n",
    "一个单词一行，同时在这行输出对应的 log $f$ 和 log $r$。\n",
    "使用你喜欢的绘图程序，画出结果并检查是不是形成一条直线。 你可以估算出\n",
    "$s$ 的值吗？\n",
    "\n",
    "答案： <http://thinkpython2.com/code/zipfpy> 。\n",
    "如果希望运行我的答案，你需要安装绘图模块 matplotlib。 当然如果你安装了\n",
    "Anaconda，你就已经有了matplotlib；否则你需要安装它。\n",
    "\n",
    "### **贡献者**\n",
    "\n",
    "1.  翻译：[@iphyer](https://github.com/iphyer)\n",
    "2.  校对：[@bingjin](https://github.com/bingjin)\n",
    "3.  参考：[@carfly](https://github.com/carfly)"
   ]
  }
 ],
 "metadata": {},
 "nbformat": 4,
 "nbformat_minor": 5
}
