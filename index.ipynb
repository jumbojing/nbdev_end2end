{
 "cells": [
  {
   "cell_type": "code",
   "execution_count": null,
   "metadata": {},
   "outputs": [],
   "source": [
    "#hide\n",
    "from nbdev_end2end.core import *"
   ]
  },
  {
   "cell_type": "markdown",
   "metadata": {},
   "source": [
    "# **nbdev**牛逼开发环境从开始到放弃\n",
    "> 觉得好，就做。。。"
   ]
  },
  {
   "cell_type": "markdown",
   "metadata": {},
   "source": [
    "This file will become your README and also the index of your documentation."
   ]
  },
  {
   "cell_type": "markdown",
   "metadata": {},
   "source": [
    "## Install"
   ]
  },
  {
   "cell_type": "markdown",
   "metadata": {},
   "source": [
    "`pip install your_project_name`"
   ]
  },
  {
   "cell_type": "markdown",
   "metadata": {},
   "source": [
    "## How to use"
   ]
  },
  {
   "cell_type": "markdown",
   "metadata": {},
   "source": [
    "Fill me in please! Don't forget code examples:"
   ]
  },
  {
   "cell_type": "code",
   "execution_count": null,
   "metadata": {},
   "outputs": [
    {
     "data": {
      "text/plain": [
       "2"
      ]
     },
     "execution_count": null,
     "metadata": {},
     "output_type": "execute_result"
    }
   ],
   "source": [
    "1+1"
   ]
  },
  {
   "cell_type": "code",
   "execution_count": null,
   "metadata": {},
   "outputs": [
    {
     "name": "stdout",
     "output_type": "stream",
     "text": [
      "Looking in indexes: https://pypi.tuna.tsinghua.edu.cn/simple\n",
      "Collecting nbdev\n",
      "  Using cached https://pypi.tuna.tsinghua.edu.cn/packages/b7/81/7ae0d7f03a69601943b7f77216f014f0668286cf67ac7780b2351a962291/nbdev-1.1.12-py3-none-any.whl (46 kB)\n",
      "Requirement already satisfied: nbformat>=4.4.0 in /Users/liguimei/opt/miniconda3/lib/python3.9/site-packages (from nbdev) (5.1.1)\n",
      "Requirement already satisfied: nbconvert<6 in /Users/liguimei/opt/miniconda3/lib/python3.9/site-packages (from nbdev) (5.6.1)\n",
      "Requirement already satisfied: pip in /Users/liguimei/opt/miniconda3/lib/python3.9/site-packages (from nbdev) (20.3.1)\n",
      "Requirement already satisfied: packaging in /Users/liguimei/opt/miniconda3/lib/python3.9/site-packages (from nbdev) (20.8)\n",
      "Requirement already satisfied: pyyaml in /Users/liguimei/opt/miniconda3/lib/python3.9/site-packages (from nbdev) (5.3.1)\n",
      "Requirement already satisfied: jupyter-client in /Users/liguimei/opt/miniconda3/lib/python3.9/site-packages (from nbdev) (6.1.7)\n",
      "Requirement already satisfied: jupyter in /Users/liguimei/opt/miniconda3/lib/python3.9/site-packages (from nbdev) (1.0.0)\n",
      "Requirement already satisfied: fastcore>=1.3.19 in /Users/liguimei/Documents/GitHub/fastcore (from nbdev) (1.3.20)\n",
      "Requirement already satisfied: ipykernel in /Users/liguimei/opt/miniconda3/lib/python3.9/site-packages (from nbdev) (5.3.4)\n",
      "Requirement already satisfied: pip in /Users/liguimei/opt/miniconda3/lib/python3.9/site-packages (from nbdev) (20.3.1)\n",
      "Requirement already satisfied: packaging in /Users/liguimei/opt/miniconda3/lib/python3.9/site-packages (from nbdev) (20.8)\n",
      "Requirement already satisfied: jupyter-client in /Users/liguimei/opt/miniconda3/lib/python3.9/site-packages (from nbdev) (6.1.7)\n",
      "Requirement already satisfied: appnope in /Users/liguimei/opt/miniconda3/lib/python3.9/site-packages (from ipykernel->nbdev) (0.1.2)\n",
      "Requirement already satisfied: ipython>=5.0.0 in /Users/liguimei/opt/miniconda3/lib/python3.9/site-packages (from ipykernel->nbdev) (7.19.0)\n",
      "Requirement already satisfied: tornado>=4.2 in /Users/liguimei/opt/miniconda3/lib/python3.9/site-packages (from ipykernel->nbdev) (6.1)\n",
      "Requirement already satisfied: traitlets>=4.1.0 in /Users/liguimei/opt/miniconda3/lib/python3.9/site-packages (from ipykernel->nbdev) (5.0.5)\n",
      "Requirement already satisfied: pexpect>4.3 in /Users/liguimei/opt/miniconda3/lib/python3.9/site-packages (from ipython>=5.0.0->ipykernel->nbdev) (4.8.0)\n",
      "Requirement already satisfied: decorator in /Users/liguimei/opt/miniconda3/lib/python3.9/site-packages (from ipython>=5.0.0->ipykernel->nbdev) (4.4.2)\n",
      "Requirement already satisfied: jedi>=0.10 in /Users/liguimei/opt/miniconda3/lib/python3.9/site-packages (from ipython>=5.0.0->ipykernel->nbdev) (0.18.0)\n",
      "Requirement already satisfied: traitlets>=4.1.0 in /Users/liguimei/opt/miniconda3/lib/python3.9/site-packages (from ipykernel->nbdev) (5.0.5)\n",
      "Requirement already satisfied: appnope in /Users/liguimei/opt/miniconda3/lib/python3.9/site-packages (from ipykernel->nbdev) (0.1.2)\n",
      "Requirement already satisfied: prompt-toolkit!=3.0.0,!=3.0.1,<3.1.0,>=2.0.0 in /Users/liguimei/opt/miniconda3/lib/python3.9/site-packages (from ipython>=5.0.0->ipykernel->nbdev) (3.0.8)\n",
      "Requirement already satisfied: setuptools>=18.5 in /Users/liguimei/opt/miniconda3/lib/python3.9/site-packages (from ipython>=5.0.0->ipykernel->nbdev) (51.0.0.post20201207)\n",
      "Requirement already satisfied: backcall in /Users/liguimei/opt/miniconda3/lib/python3.9/site-packages (from ipython>=5.0.0->ipykernel->nbdev) (0.2.0)\n",
      "Requirement already satisfied: pygments in /Users/liguimei/opt/miniconda3/lib/python3.9/site-packages (from ipython>=5.0.0->ipykernel->nbdev) (2.7.4)\n",
      "Requirement already satisfied: pickleshare in /Users/liguimei/opt/miniconda3/lib/python3.9/site-packages (from ipython>=5.0.0->ipykernel->nbdev) (0.7.5)\n",
      "Requirement already satisfied: parso<0.9.0,>=0.8.0 in /Users/liguimei/opt/miniconda3/lib/python3.9/site-packages (from jedi>=0.10->ipython>=5.0.0->ipykernel->nbdev) (0.8.1)\n",
      "Requirement already satisfied: jupyter-console in /Users/liguimei/opt/miniconda3/lib/python3.9/site-packages (from jupyter->nbdev) (6.2.0)\n",
      "Requirement already satisfied: notebook in /Users/liguimei/opt/miniconda3/lib/python3.9/site-packages (from jupyter->nbdev) (6.1.6)\n",
      "Requirement already satisfied: qtconsole in /Users/liguimei/opt/miniconda3/lib/python3.9/site-packages (from jupyter->nbdev) (4.7.7)\n",
      "Requirement already satisfied: nbconvert<6 in /Users/liguimei/opt/miniconda3/lib/python3.9/site-packages (from nbdev) (5.6.1)\n",
      "Requirement already satisfied: ipykernel in /Users/liguimei/opt/miniconda3/lib/python3.9/site-packages (from nbdev) (5.3.4)\n",
      "Requirement already satisfied: ipywidgets in /Users/liguimei/opt/miniconda3/lib/python3.9/site-packages (from jupyter->nbdev) (7.6.3)\n",
      "Requirement already satisfied: nbformat>=4.4.0 in /Users/liguimei/opt/miniconda3/lib/python3.9/site-packages (from nbdev) (5.1.1)\n",
      "Requirement already satisfied: ipython>=5.0.0 in /Users/liguimei/opt/miniconda3/lib/python3.9/site-packages (from ipykernel->nbdev) (7.19.0)\n",
      "Requirement already satisfied: jupyterlab-widgets>=1.0.0 in /Users/liguimei/opt/miniconda3/lib/python3.9/site-packages (from ipywidgets->jupyter->nbdev) (1.0.0)\n",
      "Requirement already satisfied: widgetsnbextension~=3.5.0 in /Users/liguimei/opt/miniconda3/lib/python3.9/site-packages (from ipywidgets->jupyter->nbdev) (3.5.1)\n",
      "Requirement already satisfied: traitlets>=4.1.0 in /Users/liguimei/opt/miniconda3/lib/python3.9/site-packages (from ipykernel->nbdev) (5.0.5)\n",
      "Requirement already satisfied: ipykernel in /Users/liguimei/opt/miniconda3/lib/python3.9/site-packages (from nbdev) (5.3.4)\n",
      "Requirement already satisfied: pyzmq>=13 in /Users/liguimei/opt/miniconda3/lib/python3.9/site-packages (from jupyter-client->nbdev) (20.0.0)\n",
      "Requirement already satisfied: traitlets>=4.1.0 in /Users/liguimei/opt/miniconda3/lib/python3.9/site-packages (from ipykernel->nbdev) (5.0.5)\n",
      "Requirement already satisfied: tornado>=4.2 in /Users/liguimei/opt/miniconda3/lib/python3.9/site-packages (from ipykernel->nbdev) (6.1)\n",
      "Requirement already satisfied: jupyter-core>=4.6.0 in /Users/liguimei/opt/miniconda3/lib/python3.9/site-packages (from jupyter-client->nbdev) (4.7.0)\n",
      "Requirement already satisfied: python-dateutil>=2.1 in /Users/liguimei/opt/miniconda3/lib/python3.9/site-packages (from jupyter-client->nbdev) (2.8.1)\n",
      "Requirement already satisfied: ipython>=5.0.0 in /Users/liguimei/opt/miniconda3/lib/python3.9/site-packages (from ipykernel->nbdev) (7.19.0)\n",
      "Requirement already satisfied: jupyter-client in /Users/liguimei/opt/miniconda3/lib/python3.9/site-packages (from nbdev) (6.1.7)\n",
      "Requirement already satisfied: prompt-toolkit!=3.0.0,!=3.0.1,<3.1.0,>=2.0.0 in /Users/liguimei/opt/miniconda3/lib/python3.9/site-packages (from ipython>=5.0.0->ipykernel->nbdev) (3.0.8)\n",
      "Requirement already satisfied: pygments in /Users/liguimei/opt/miniconda3/lib/python3.9/site-packages (from ipython>=5.0.0->ipykernel->nbdev) (2.7.4)\n",
      "Requirement already satisfied: ipykernel in /Users/liguimei/opt/miniconda3/lib/python3.9/site-packages (from nbdev) (5.3.4)\n",
      "Requirement already satisfied: traitlets>=4.1.0 in /Users/liguimei/opt/miniconda3/lib/python3.9/site-packages (from ipykernel->nbdev) (5.0.5)\n",
      "Requirement already satisfied: nbformat>=4.4.0 in /Users/liguimei/opt/miniconda3/lib/python3.9/site-packages (from nbdev) (5.1.1)\n",
      "Requirement already satisfied: jupyter-core>=4.6.0 in /Users/liguimei/opt/miniconda3/lib/python3.9/site-packages (from jupyter-client->nbdev) (4.7.0)\n",
      "Requirement already satisfied: mistune<2,>=0.8.1 in /Users/liguimei/opt/miniconda3/lib/python3.9/site-packages (from nbconvert<6->nbdev) (0.8.4)\n",
      "Requirement already satisfied: traitlets>=4.1.0 in /Users/liguimei/opt/miniconda3/lib/python3.9/site-packages (from ipykernel->nbdev) (5.0.5)\n",
      "Requirement already satisfied: defusedxml in /Users/liguimei/opt/miniconda3/lib/python3.9/site-packages (from nbconvert<6->nbdev) (0.6.0)\n",
      "Requirement already satisfied: entrypoints>=0.2.2 in /Users/liguimei/opt/miniconda3/lib/python3.9/site-packages (from nbconvert<6->nbdev) (0.3)\n",
      "Requirement already satisfied: bleach in /Users/liguimei/opt/miniconda3/lib/python3.9/site-packages (from nbconvert<6->nbdev) (3.2.1)\n",
      "Requirement already satisfied: pandocfilters>=1.4.1 in /Users/liguimei/opt/miniconda3/lib/python3.9/site-packages (from nbconvert<6->nbdev) (1.4.3)\n",
      "Requirement already satisfied: pygments in /Users/liguimei/opt/miniconda3/lib/python3.9/site-packages (from ipython>=5.0.0->ipykernel->nbdev) (2.7.4)\n",
      "Requirement already satisfied: testpath in /Users/liguimei/opt/miniconda3/lib/python3.9/site-packages (from nbconvert<6->nbdev) (0.4.4)\n",
      "Requirement already satisfied: jinja2>=2.4 in /Users/liguimei/opt/miniconda3/lib/python3.9/site-packages (from nbconvert<6->nbdev) (2.11.2)\n",
      "Requirement already satisfied: packaging in /Users/liguimei/opt/miniconda3/lib/python3.9/site-packages (from nbdev) (20.8)\n",
      "Requirement already satisfied: webencodings in /Users/liguimei/opt/miniconda3/lib/python3.9/site-packages (from bleach->nbconvert<6->nbdev) (0.5.1)\n",
      "Requirement already satisfied: six>=1.9.0 in /Users/liguimei/opt/miniconda3/lib/python3.9/site-packages (from bleach->nbconvert<6->nbdev) (1.15.0)\n",
      "Requirement already satisfied: MarkupSafe>=0.23 in /Users/liguimei/opt/miniconda3/lib/python3.9/site-packages (from jinja2>=2.4->nbconvert<6->nbdev) (1.1.1)\n",
      "Requirement already satisfied: jupyter-core>=4.6.0 in /Users/liguimei/opt/miniconda3/lib/python3.9/site-packages (from jupyter-client->nbdev) (4.7.0)\n",
      "Requirement already satisfied: jsonschema!=2.5.0,>=2.4 in /Users/liguimei/opt/miniconda3/lib/python3.9/site-packages (from nbformat>=4.4.0->nbdev) (3.2.0)\n",
      "Requirement already satisfied: ipython-genutils in /Users/liguimei/opt/miniconda3/lib/python3.9/site-packages (from nbformat>=4.4.0->nbdev) (0.2.0)\n",
      "Requirement already satisfied: traitlets>=4.1.0 in /Users/liguimei/opt/miniconda3/lib/python3.9/site-packages (from ipykernel->nbdev) (5.0.5)\n",
      "Requirement already satisfied: attrs>=17.4.0 in /Users/liguimei/opt/miniconda3/lib/python3.9/site-packages (from jsonschema!=2.5.0,>=2.4->nbformat>=4.4.0->nbdev) (20.3.0)\n",
      "Requirement already satisfied: pyrsistent>=0.14.0 in /Users/liguimei/opt/miniconda3/lib/python3.9/site-packages (from jsonschema!=2.5.0,>=2.4->nbformat>=4.4.0->nbdev) (0.17.3)\n",
      "Requirement already satisfied: six>=1.9.0 in /Users/liguimei/opt/miniconda3/lib/python3.9/site-packages (from bleach->nbconvert<6->nbdev) (1.15.0)\n",
      "Requirement already satisfied: setuptools>=18.5 in /Users/liguimei/opt/miniconda3/lib/python3.9/site-packages (from ipython>=5.0.0->ipykernel->nbdev) (51.0.0.post20201207)\n",
      "Requirement already satisfied: nbformat>=4.4.0 in /Users/liguimei/opt/miniconda3/lib/python3.9/site-packages (from nbdev) (5.1.1)\n",
      "Requirement already satisfied: Send2Trash in /Users/liguimei/opt/miniconda3/lib/python3.9/site-packages (from notebook->jupyter->nbdev) (1.5.0)\n",
      "Requirement already satisfied: jupyter-client in /Users/liguimei/opt/miniconda3/lib/python3.9/site-packages (from nbdev) (6.1.7)\n",
      "Requirement already satisfied: tornado>=4.2 in /Users/liguimei/opt/miniconda3/lib/python3.9/site-packages (from ipykernel->nbdev) (6.1)\n",
      "Requirement already satisfied: jinja2>=2.4 in /Users/liguimei/opt/miniconda3/lib/python3.9/site-packages (from nbconvert<6->nbdev) (2.11.2)\n",
      "Requirement already satisfied: traitlets>=4.1.0 in /Users/liguimei/opt/miniconda3/lib/python3.9/site-packages (from ipykernel->nbdev) (5.0.5)\n",
      "Requirement already satisfied: terminado>=0.8.3 in /Users/liguimei/opt/miniconda3/lib/python3.9/site-packages (from notebook->jupyter->nbdev) (0.9.2)\n",
      "Requirement already satisfied: prometheus-client in /Users/liguimei/opt/miniconda3/lib/python3.9/site-packages (from notebook->jupyter->nbdev) (0.9.0)\n",
      "Requirement already satisfied: argon2-cffi in /Users/liguimei/opt/miniconda3/lib/python3.9/site-packages (from notebook->jupyter->nbdev) (20.1.0)\n",
      "Requirement already satisfied: jupyter-core>=4.6.0 in /Users/liguimei/opt/miniconda3/lib/python3.9/site-packages (from jupyter-client->nbdev) (4.7.0)\n",
      "Requirement already satisfied: pyzmq>=13 in /Users/liguimei/opt/miniconda3/lib/python3.9/site-packages (from jupyter-client->nbdev) (20.0.0)\n",
      "Requirement already satisfied: ipython-genutils in /Users/liguimei/opt/miniconda3/lib/python3.9/site-packages (from nbformat>=4.4.0->nbdev) (0.2.0)\n",
      "Requirement already satisfied: nbconvert<6 in /Users/liguimei/opt/miniconda3/lib/python3.9/site-packages (from nbdev) (5.6.1)\n",
      "Requirement already satisfied: ipykernel in /Users/liguimei/opt/miniconda3/lib/python3.9/site-packages (from nbdev) (5.3.4)\n",
      "Requirement already satisfied: six>=1.9.0 in /Users/liguimei/opt/miniconda3/lib/python3.9/site-packages (from bleach->nbconvert<6->nbdev) (1.15.0)\n",
      "Requirement already satisfied: cffi>=1.0.0 in /Users/liguimei/opt/miniconda3/lib/python3.9/site-packages (from argon2-cffi->notebook->jupyter->nbdev) (1.14.4)\n",
      "Requirement already satisfied: pycparser in /Users/liguimei/opt/miniconda3/lib/python3.9/site-packages (from cffi>=1.0.0->argon2-cffi->notebook->jupyter->nbdev) (2.20)\n",
      "Requirement already satisfied: pyparsing>=2.0.2 in /Users/liguimei/opt/miniconda3/lib/python3.9/site-packages (from packaging->nbdev) (2.4.7)\n",
      "Requirement already satisfied: ptyprocess>=0.5 in /Users/liguimei/opt/miniconda3/lib/python3.9/site-packages (from pexpect>4.3->ipython>=5.0.0->ipykernel->nbdev) (0.7.0)\n",
      "Requirement already satisfied: wcwidth in /Users/liguimei/opt/miniconda3/lib/python3.9/site-packages (from prompt-toolkit!=3.0.0,!=3.0.1,<3.1.0,>=2.0.0->ipython>=5.0.0->ipykernel->nbdev) (0.2.5)\n",
      "Requirement already satisfied: six>=1.9.0 in /Users/liguimei/opt/miniconda3/lib/python3.9/site-packages (from bleach->nbconvert<6->nbdev) (1.15.0)\n",
      "Requirement already satisfied: pyzmq>=13 in /Users/liguimei/opt/miniconda3/lib/python3.9/site-packages (from jupyter-client->nbdev) (20.0.0)\n",
      "Requirement already satisfied: jupyter-core>=4.6.0 in /Users/liguimei/opt/miniconda3/lib/python3.9/site-packages (from jupyter-client->nbdev) (4.7.0)\n",
      "Requirement already satisfied: qtpy in /Users/liguimei/opt/miniconda3/lib/python3.9/site-packages (from qtconsole->jupyter->nbdev) (1.9.0)\n",
      "Requirement already satisfied: traitlets>=4.1.0 in /Users/liguimei/opt/miniconda3/lib/python3.9/site-packages (from ipykernel->nbdev) (5.0.5)\n",
      "Requirement already satisfied: ipython-genutils in /Users/liguimei/opt/miniconda3/lib/python3.9/site-packages (from nbformat>=4.4.0->nbdev) (0.2.0)\n",
      "Requirement already satisfied: pygments in /Users/liguimei/opt/miniconda3/lib/python3.9/site-packages (from ipython>=5.0.0->ipykernel->nbdev) (2.7.4)\n",
      "Requirement already satisfied: ipykernel in /Users/liguimei/opt/miniconda3/lib/python3.9/site-packages (from nbdev) (5.3.4)\n",
      "Requirement already satisfied: jupyter-client in /Users/liguimei/opt/miniconda3/lib/python3.9/site-packages (from nbdev) (6.1.7)\n",
      "Requirement already satisfied: tornado>=4.2 in /Users/liguimei/opt/miniconda3/lib/python3.9/site-packages (from ipykernel->nbdev) (6.1)\n",
      "Requirement already satisfied: ptyprocess>=0.5 in /Users/liguimei/opt/miniconda3/lib/python3.9/site-packages (from pexpect>4.3->ipython>=5.0.0->ipykernel->nbdev) (0.7.0)\n",
      "Requirement already satisfied: ipython-genutils in /Users/liguimei/opt/miniconda3/lib/python3.9/site-packages (from nbformat>=4.4.0->nbdev) (0.2.0)\n",
      "Requirement already satisfied: notebook in /Users/liguimei/opt/miniconda3/lib/python3.9/site-packages (from jupyter->nbdev) (6.1.6)\n",
      "Installing collected packages: nbdev\n",
      "Successfully installed nbdev-1.1.12\n"
     ]
    }
   ],
   "source": [
    "!pip install -U nbdev"
   ]
  },
  {
   "cell_type": "code",
   "execution_count": null,
   "metadata": {},
   "outputs": [],
   "source": []
  },
  {
   "cell_type": "code",
   "execution_count": null,
   "metadata": {},
   "outputs": [],
   "source": []
  },
  {
   "cell_type": "code",
   "execution_count": null,
   "metadata": {},
   "outputs": [
    {
     "name": "stdout",
     "output_type": "stream",
     "text": [
      "Converted 00_core.ipynb.\n",
      "Converted index.ipynb.\n"
     ]
    }
   ],
   "source": [
    "#HIDE\n",
    "from nbdev.export import notebook2script\n",
    "notebook2script()"
   ]
  },
  {
   "cell_type": "code",
   "execution_count": null,
   "metadata": {},
   "outputs": [
    {
     "name": "stdout",
     "output_type": "stream",
     "text": [
      "converting: /Users/liguimei/Documents/GitHub/nbdev_end2end/00_core.ipynb\n",
      "converting: /Users/liguimei/Documents/GitHub/nbdev_end2end/index.ipynb\n",
      "An error occurred while executing the following cell:\n",
      "------------------\n",
      "from nbdev.showdoc import show_doc\n",
      "from nbdev_end2end.core import *\n",
      "------------------\n",
      "\n",
      "\u001b[0;31m---------------------------------------------------------------------------\u001b[0m\n",
      "\u001b[0;31mModuleNotFoundError\u001b[0m                       Traceback (most recent call last)\n",
      "\u001b[0;32m<ipython-input-1-f55dd0f89152>\u001b[0m in \u001b[0;36m<module>\u001b[0;34m\u001b[0m\n",
      "\u001b[0;32m----> 1\u001b[0;31m \u001b[0;32mfrom\u001b[0m \u001b[0mnbdev\u001b[0m\u001b[0;34m.\u001b[0m\u001b[0mshowdoc\u001b[0m \u001b[0;32mimport\u001b[0m \u001b[0mshow_doc\u001b[0m\u001b[0;34m\u001b[0m\u001b[0;34m\u001b[0m\u001b[0m\n",
      "\u001b[0m\u001b[1;32m      2\u001b[0m \u001b[0;32mfrom\u001b[0m \u001b[0mnbdev_end2end\u001b[0m\u001b[0;34m.\u001b[0m\u001b[0mcore\u001b[0m \u001b[0;32mimport\u001b[0m \u001b[0;34m*\u001b[0m\u001b[0;34m\u001b[0m\u001b[0;34m\u001b[0m\u001b[0m\n",
      "\n",
      "\u001b[0;31mModuleNotFoundError\u001b[0m: No module named 'nbdev'\n",
      "ModuleNotFoundError: No module named 'nbdev'\n",
      "\n",
      "An error occurred while executing the following cell:\n",
      "------------------\n",
      "from nbdev.showdoc import show_doc\n",
      "------------------\n",
      "\n",
      "\u001b[0;31m---------------------------------------------------------------------------\u001b[0m\n",
      "\u001b[0;31mModuleNotFoundError\u001b[0m                       Traceback (most recent call last)\n",
      "\u001b[0;32m<ipython-input-1-748d64ac7847>\u001b[0m in \u001b[0;36m<module>\u001b[0;34m\u001b[0m\n",
      "\u001b[0;32m----> 1\u001b[0;31m \u001b[0;32mfrom\u001b[0m \u001b[0mnbdev\u001b[0m\u001b[0;34m.\u001b[0m\u001b[0mshowdoc\u001b[0m \u001b[0;32mimport\u001b[0m \u001b[0mshow_doc\u001b[0m\u001b[0;34m\u001b[0m\u001b[0;34m\u001b[0m\u001b[0m\n",
      "\u001b[0m\n",
      "\u001b[0;31mModuleNotFoundError\u001b[0m: No module named 'nbdev'\n",
      "ModuleNotFoundError: No module named 'nbdev'\n",
      "\n",
      "Conversion failed on the following:\n",
      "00_core.ipynb\n",
      "index.ipynb\n",
      "Traceback (most recent call last):\n",
      "  File \"/Users/liguimei/opt/miniconda3/bin/nbdev_build_docs\", line 8, in <module>\n",
      "    sys.exit(nbdev_build_docs())\n",
      "  File \"/Users/liguimei/Documents/GitHub/fastcore/fastcore/script.py\", line 105, in _f\n",
      "    tfunc(**merge(args, args_from_prog(func, xtra)))\n",
      "  File \"/Users/liguimei/opt/miniconda3/lib/python3.9/site-packages/nbdev/export2html.py\", line 665, in nbdev_build_docs\n",
      "    if fname is None: make_sidebar()\n",
      "  File \"/Users/liguimei/opt/miniconda3/lib/python3.9/site-packages/nbdev/export2html.py\", line 730, in make_sidebar\n",
      "    create_default_sidebar()\n",
      "  File \"/Users/liguimei/opt/miniconda3/lib/python3.9/site-packages/nbdev/export2html.py\", line 722, in create_default_sidebar\n",
      "    dic = {Config().lib_name: _create_default_sidebar()}\n",
      "  File \"/Users/liguimei/opt/miniconda3/lib/python3.9/site-packages/nbdev/export2html.py\", line 714, in _create_default_sidebar\n",
      "    titles = [_get_title(f) for f in fnames if f.stem!='index']\n",
      "  File \"/Users/liguimei/opt/miniconda3/lib/python3.9/site-packages/nbdev/export2html.py\", line 714, in <listcomp>\n",
      "    titles = [_get_title(f) for f in fnames if f.stem!='index']\n",
      "  File \"/Users/liguimei/opt/miniconda3/lib/python3.9/site-packages/nbdev/export2html.py\", line 704, in _get_title\n",
      "    with open(fname, 'r') as f: code = f.read()\n",
      "FileNotFoundError: [Errno 2] No such file or directory: '/Users/liguimei/Documents/GitHub/nbdev_end2end/docs/core.html'\n"
     ]
    }
   ],
   "source": [
    "!nbdev_build_docs"
   ]
  },
  {
   "cell_type": "code",
   "execution_count": null,
   "metadata": {},
   "outputs": [],
   "source": []
  }
 ],
 "metadata": {
  "kernelspec": {
   "display_name": "Python37",
   "language": "python",
   "name": "py37"
  }
 },
 "nbformat": 4,
 "nbformat_minor": 4
}
